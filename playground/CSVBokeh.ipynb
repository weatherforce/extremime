{
 "cells": [
  {
   "cell_type": "code",
   "execution_count": null,
   "metadata": {},
   "outputs": [],
   "source": [
    "import numpy as np\n",
    "import scipy.stats as ss\n",
    "import pandas as pd\n",
    "import holoviews as hv\n",
    "from holoviews.operation.datashader import datashade\n",
    "from holoviews.operation import decimate\n",
    "import panel as pn\n",
    "import hvplot.pandas\n",
    "pn.extension()\n",
    "from holoviews import opts, dim, Palette\n",
    "hv.extension(\"bokeh\")\n",
    "\n",
    "opts.defaults(\n",
    "    opts.Bars(xrotation=45, tools=['hover']),\n",
    "    opts.BoxWhisker(width=800, xrotation=30, box_fill_color=Palette('Category20')),\n",
    "    opts.Curve(width=600, tools=['hover']),\n",
    "    opts.GridSpace(shared_yaxis=True),\n",
    "    opts.Scatter(width=800, height=400, color=Palette('Category20'), size=dim('growth')+5, tools=['hover']),\n",
    "    opts.NdOverlay(legend_position='left'))"
   ]
  },
  {
   "cell_type": "code",
   "execution_count": null,
   "metadata": {},
   "outputs": [],
   "source": [
    "df = pd.read_csv(\"data/mooring-buoys-time-series-62450.csv\")"
   ]
  },
  {
   "cell_type": "code",
   "execution_count": null,
   "metadata": {
    "scrolled": true
   },
   "outputs": [],
   "source": [
    "df.head()"
   ]
  },
  {
   "cell_type": "code",
   "execution_count": null,
   "metadata": {},
   "outputs": [],
   "source": [
    "macro = hv.Dataset(df, \"DATE (yyyy-mm-ddThh:mi:ssZ)\")\n",
    "macro = macro.redim.label(**{\"DATE (yyyy-mm-ddThh:mi:ssZ)\": \"Date\", \"TEMP LEVEL0 (degree_Celsius)\": \"Temperature\"})"
   ]
  },
  {
   "cell_type": "code",
   "execution_count": null,
   "metadata": {},
   "outputs": [],
   "source": [
    "curve = macro.to(hv.Curve, \"Date\", \"Temperature\")\n",
    "# FIXME: affichage des dates\n",
    "decimate(curve)"
   ]
  },
  {
   "cell_type": "code",
   "execution_count": null,
   "metadata": {},
   "outputs": [],
   "source": []
  }
 ],
 "metadata": {
  "kernelspec": {
   "display_name": "Python 3",
   "language": "python",
   "name": "python3"
  },
  "language_info": {
   "codemirror_mode": {
    "name": "ipython",
    "version": 3
   },
   "file_extension": ".py",
   "mimetype": "text/x-python",
   "name": "python",
   "nbconvert_exporter": "python",
   "pygments_lexer": "ipython3",
   "version": "3.7.2"
  }
 },
 "nbformat": 4,
 "nbformat_minor": 2
}
