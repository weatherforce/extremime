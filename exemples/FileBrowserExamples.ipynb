{
 "cells": [
  {
   "cell_type": "markdown",
   "metadata": {},
   "source": [
    "# Exemples d'explorateurs de fichiers\n",
    "\n",
    "Ce notebook regroupe des exemple d'explorateurs de fichiers récoltés sur le web. Chaque exemple est précédé de l'URL où il a été trouvé."
   ]
  },
  {
   "cell_type": "markdown",
   "metadata": {},
   "source": [
    "## Source: https://gist.github.com/thomasaarholt/b89b3f29ad82cd32176f2605834fa8ac"
   ]
  },
  {
   "cell_type": "code",
   "execution_count": 2,
   "metadata": {},
   "outputs": [
    {
     "data": {
      "application/vnd.jupyter.widget-view+json": {
       "model_id": "e47f01be9fa9494baad4a16933a686d0",
       "version_major": 2,
       "version_minor": 0
      },
      "text/plain": [
       "HBox(children=(VBox(children=(Text(value='/home/al/Projects/extremime/exemples'), Select(options=('-------FOLD…"
      ]
     },
     "metadata": {},
     "output_type": "display_data"
    }
   ],
   "source": [
    "import ipywidgets as widgets\n",
    "\n",
    "import os\n",
    "from pathlib import Path\n",
    "cwd = Path(os.getcwd())\n",
    "\n",
    "FOLDERLABEL = '-------FOLDERS-------'\n",
    "FILESLABEL = '-------FILES-------'\n",
    "\n",
    "def get_folder_contents(folder):\n",
    "    'Gets contents of folder, sorting by folder then files, hiding hidden things'\n",
    "    folder = Path(folder)\n",
    "    folders = [item.name for item in folder.iterdir() if item.is_dir() and not item.name.startswith('.')]\n",
    "    files = [item.name for item in folder.iterdir() if item.is_file() and not item.name.startswith('.')]\n",
    "    return [FOLDERLABEL] + sorted(folders) + [FILESLABEL] + sorted(files)\n",
    "\n",
    "def go_to_address(address):\n",
    "    address = Path(address)\n",
    "    if address.is_dir():\n",
    "        address_field.value = str(address)\n",
    "        select.unobserve(selecting, names='value')\n",
    "        select.options = get_folder_contents(folder=address)\n",
    "        select.observe(selecting, names='value')\n",
    "        select.value = None\n",
    "\n",
    "def newaddress(value):\n",
    "    go_to_address(address_field.value)\n",
    "        \n",
    "def selecting(value):\n",
    "    if value['new'] and value['new'] not in [FOLDERLABEL, FILESLABEL]:\n",
    "        path = Path(address_field.value)\n",
    "        newpath = path / value['new']\n",
    "        if newpath.is_dir():\n",
    "            go_to_address(newpath)\n",
    "            \n",
    "        elif newpath.is_file():\n",
    "            #some other condition\n",
    "            pass\n",
    "\n",
    "def parent(value):\n",
    "    new = Path(address_field.value).parent\n",
    "    go_to_address(new)\n",
    "    \n",
    "def load(value):\n",
    "    filepath = path / value['new']\n",
    "    # load using your favourite python software!\n",
    "    \n",
    "address_field = widgets.Text(value=str(cwd))\n",
    "up_button = widgets.Button(description='Up')\n",
    "select = widgets.Select(options=get_folder_contents(cwd), rows=15, value=None)\n",
    "load_button = widgets.Button(description='Load')\n",
    "box = widgets.HBox([widgets.VBox([address_field, select]), widgets.VBox([up_button, load_button])])\n",
    "\n",
    "select.observe(selecting, names='value')\n",
    "up_button.on_click(parent)\n",
    "load_button.observe(load)\n",
    "address_field.on_submit(newaddress)\n",
    "\n",
    "box"
   ]
  },
  {
   "cell_type": "markdown",
   "metadata": {},
   "source": [
    "## Source: https://pastebin.com/niqUTVy6"
   ]
  },
  {
   "cell_type": "code",
   "execution_count": 3,
   "metadata": {},
   "outputs": [],
   "source": [
    "import os\n",
    "\n",
    "import ipywidgets as widgets\n",
    "\n",
    "\n",
    "class FileBrowser(object):\n",
    "    def __init__(self):\n",
    "        self.path = os.getcwd()\n",
    "        self._update_files()\n",
    "        \n",
    "    def _update_files(self):\n",
    "        self.files = list()\n",
    "        self.dirs = list()\n",
    "        if(os.path.isdir(self.path)):\n",
    "            for f in os.listdir(self.path):\n",
    "                ff = os.path.join(self.path, f)\n",
    "                if os.path.isdir(ff):\n",
    "                    self.dirs.append(f)\n",
    "                else:\n",
    "                    self.files.append(f)\n",
    "        \n",
    "    def widget(self):\n",
    "        box = widgets.VBox()\n",
    "        self._update(box)\n",
    "        return box\n",
    "    \n",
    "    def _update(self, box):\n",
    "        \n",
    "        def on_click(b):\n",
    "            if b.description == '..':\n",
    "                self.path = os.path.split(self.path)[0]\n",
    "            else:\n",
    "                self.path = os.path.join(self.path, b.description)\n",
    "            self._update_files()\n",
    "            self._update(box)\n",
    "        \n",
    "        buttons = []\n",
    "        if self.files:\n",
    "            button = widgets.Button(description='..', background_color='#d0d0ff')\n",
    "            button.on_click(on_click)\n",
    "            buttons.append(button)\n",
    "        for f in self.dirs:\n",
    "            button = widgets.Button(description=f, background_color='#d0d0ff')\n",
    "            button.on_click(on_click)\n",
    "            buttons.append(button)\n",
    "        for f in self.files:\n",
    "            button = widgets.Button(description=f)\n",
    "            button.on_click(on_click)\n",
    "            buttons.append(button)\n",
    "        box.children = tuple([widgets.HTML(\"<h2>%s</h2>\" % (self.path,))] + buttons)\n",
    "\n",
    "# example usage:\n",
    "#   f = FileBrowser()\n",
    "#   f.widget()\n",
    "#   <interact with widget, select a path>\n",
    "# in a separate cell:\n",
    "#   f.path # returns the selected path"
   ]
  },
  {
   "cell_type": "code",
   "execution_count": 4,
   "metadata": {},
   "outputs": [
    {
     "data": {
      "application/vnd.jupyter.widget-view+json": {
       "model_id": "515719f7b17c4d8aa5beacc726629f37",
       "version_major": 2,
       "version_minor": 0
      },
      "text/plain": [
       "VBox(children=(HTML(value='<h2>/home/al/Projects/extremime/exemples</h2>'), Button(description='..', style=But…"
      ]
     },
     "metadata": {},
     "output_type": "display_data"
    }
   ],
   "source": [
    "f = FileBrowser()\n",
    "f.widget()"
   ]
  },
  {
   "cell_type": "markdown",
   "metadata": {},
   "source": [
    "## Source: https://stackoverflow.com/a/48451751/348867"
   ]
  },
  {
   "cell_type": "code",
   "execution_count": 5,
   "metadata": {},
   "outputs": [
    {
     "data": {
      "application/vnd.jupyter.widget-view+json": {
       "model_id": "bab37e29b01c415ea20ba6b74eb3b153",
       "version_major": 2,
       "version_minor": 0
      },
      "text/plain": [
       "Accordion(children=(SelectMultiple(options=(('[..]', '..'), ('[data]', 'data'), ('ColorQC.ipynb', 'ColorQC.ipy…"
      ]
     },
     "metadata": {},
     "output_type": "display_data"
    }
   ],
   "source": [
    "import sys\n",
    "import os\n",
    "import ipywidgets as ui\n",
    "from IPython.display import display\n",
    "\n",
    "class PathSelector():\n",
    "\n",
    "    def __init__(self,start_dir,select_file=True):\n",
    "        self.file        = None \n",
    "        self.select_file = select_file\n",
    "        self.cwd         = start_dir\n",
    "        self.select      = ui.SelectMultiple(options=['init'],value=(),rows=10,description='') \n",
    "        self.accord      = ui.Accordion(children=[self.select]) \n",
    "\n",
    "        self.accord.selected_index = None # Start closed (showing path only)\n",
    "        self.refresh(self.cwd)\n",
    "        self.select.observe(self.on_update,'value')\n",
    "\n",
    "    def on_update(self,change):\n",
    "        if len(change['new']) > 0:\n",
    "            self.refresh(change['new'][0])\n",
    "\n",
    "    def refresh(self,item):\n",
    "        path = os.path.abspath(os.path.join(self.cwd,item))\n",
    "\n",
    "        if os.path.isfile(path):\n",
    "            if self.select_file:\n",
    "                self.accord.set_title(0,path)  \n",
    "                self.file = path\n",
    "                self.accord.selected_index = None\n",
    "            else:\n",
    "                self.select.value = ()\n",
    "\n",
    "        else: # os.path.isdir(path)\n",
    "            self.file = None \n",
    "            self.cwd  = path\n",
    "\n",
    "            # Build list of files and dirs\n",
    "            keys = ['[..]']; \n",
    "            for item in os.listdir(path):\n",
    "                if item[0] == '.':\n",
    "                    continue\n",
    "                elif os.path.isdir(os.path.join(path,item)):\n",
    "                    keys.append('['+item+']'); \n",
    "                else:\n",
    "                    keys.append(item); \n",
    "\n",
    "            # Sort and create list of output values\n",
    "            keys.sort(key=str.lower)\n",
    "            vals = []\n",
    "            for k in keys:\n",
    "                if k[0] == '[':\n",
    "                    vals.append(k[1:-1]) # strip off brackets\n",
    "                else:\n",
    "                    vals.append(k)\n",
    "\n",
    "            # Update widget\n",
    "            self.accord.set_title(0,path)  \n",
    "            self.select.options = list(zip(keys,vals)) \n",
    "            with self.select.hold_trait_notifications():\n",
    "                self.select.value = ()\n",
    "\n",
    "f = PathSelector('.')\n",
    "display(f.accord)"
   ]
  },
  {
   "cell_type": "code",
   "execution_count": 8,
   "metadata": {},
   "outputs": [
    {
     "data": {
      "text/plain": [
       "'/home/al/backup-usb/formation/Python-Formation-Initiation-Fonctions.pdf'"
      ]
     },
     "execution_count": 8,
     "metadata": {},
     "output_type": "execute_result"
    }
   ],
   "source": [
    "f.file"
   ]
  },
  {
   "cell_type": "code",
   "execution_count": null,
   "metadata": {},
   "outputs": [],
   "source": []
  }
 ],
 "metadata": {
  "kernelspec": {
   "display_name": "Python 3",
   "language": "python",
   "name": "python3"
  },
  "language_info": {
   "codemirror_mode": {
    "name": "ipython",
    "version": 3
   },
   "file_extension": ".py",
   "mimetype": "text/x-python",
   "name": "python",
   "nbconvert_exporter": "python",
   "pygments_lexer": "ipython3",
   "version": "3.7.2"
  }
 },
 "nbformat": 4,
 "nbformat_minor": 2
}
