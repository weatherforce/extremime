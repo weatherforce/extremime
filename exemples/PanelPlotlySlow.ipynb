{
 "cells": [
  {
   "cell_type": "code",
   "execution_count": null,
   "metadata": {},
   "outputs": [],
   "source": [
    "import panel as pn\n",
    "pn.extension()\n",
    "import holoviews as hv\n",
    "hv.extension(\"plotly\")\n",
    "from panel import widgets\n",
    "import xarray as xr\n",
    "import hvplot.xarray"
   ]
  },
  {
   "cell_type": "code",
   "execution_count": null,
   "metadata": {},
   "outputs": [],
   "source": [
    "def plot(y_name):\n",
    "    return ds[y_name][::,0].hvplot().opts(width=600)\n",
    "\n",
    "def update(event):\n",
    "    panel[1] = plot(select_y.value)"
   ]
  },
  {
   "cell_type": "code",
   "execution_count": null,
   "metadata": {},
   "outputs": [],
   "source": [
    "filename = \"data/GL_TS_MO_62450.nc\"\n",
    "ds = xr.open_dataset(filename)"
   ]
  },
  {
   "cell_type": "code",
   "execution_count": null,
   "metadata": {},
   "outputs": [],
   "source": [
    "options = {k: k for k in sorted(ds.variables.keys())}\n",
    "select_y = widgets.Select(name=\"Ydata\", options=options)\n",
    "button = widgets.Button(name=\"Plot\")\n",
    "select_row = pn.Column(select_y, button)\n",
    "button.param.watch(update, 'clicks')\n",
    "\n",
    "panel = pn.Row(select_row, plot(select_y.value))\n",
    "panel"
   ]
  },
  {
   "cell_type": "code",
   "execution_count": null,
   "metadata": {},
   "outputs": [],
   "source": []
  }
 ],
 "metadata": {
  "kernelspec": {
   "display_name": "Python 3",
   "language": "python",
   "name": "python3"
  },
  "language_info": {
   "codemirror_mode": {
    "name": "ipython",
    "version": 3
   },
   "file_extension": ".py",
   "mimetype": "text/x-python",
   "name": "python",
   "nbconvert_exporter": "python",
   "pygments_lexer": "ipython3",
   "version": "3.7.2"
  }
 },
 "nbformat": 4,
 "nbformat_minor": 2
}
