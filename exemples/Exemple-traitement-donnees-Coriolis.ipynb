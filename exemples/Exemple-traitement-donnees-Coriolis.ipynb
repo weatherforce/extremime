{
 "cells": [
  {
   "cell_type": "markdown",
   "metadata": {},
   "source": [
    "# Exemple de traitement de données Coriolis\n",
    "\n",
    "## Étape 1 : chargement d'un fichier de données"
   ]
  },
  {
   "cell_type": "code",
   "execution_count": 6,
   "metadata": {},
   "outputs": [
    {
     "data": {
      "text/html": [
       "<table>\n",
       "<caption>A data.frame: 6 × 35</caption>\n",
       "<thead>\n",
       "\t<tr><th scope=col>X</th><th scope=col>PLATFORM</th><th scope=col>DATE..yyyy.mm.ddThh.mi.ssZ.</th><th scope=col>LATITUDE..degree_north.</th><th scope=col>LONGITUDE..degree_east.</th><th scope=col>DRYT.LEVEL0..degree_Celsius.</th><th scope=col>DEPH.LEVEL0..meter.</th><th scope=col>GSPD.LEVEL0..meter.second.</th><th scope=col>RELH.LEVEL0....</th><th scope=col>SLEV.LEVEL0..meter.</th><th scope=col>⋯</th><th scope=col>PHPH.LEVEL1..none.</th><th scope=col>SLCA.LEVEL1..millimole.m3.</th><th scope=col>START_CYCLE_FLOW.LEVEL1..l.minute.</th><th scope=col>TUR4.LEVEL1..ntu.</th><th scope=col>DEPH.LEVEL2..meter.</th><th scope=col>NTRZ.LEVEL2..millimole.m3.</th><th scope=col>PHOS.LEVEL2..millimole.m3.</th><th scope=col>SLCA.LEVEL2..millimole.m3.</th><th scope=col>QC</th><th scope=col>MAREL_DATASTATE_1</th></tr>\n",
       "\t<tr><th scope=col>&lt;int&gt;</th><th scope=col>&lt;int&gt;</th><th scope=col>&lt;fct&gt;</th><th scope=col>&lt;dbl&gt;</th><th scope=col>&lt;dbl&gt;</th><th scope=col>&lt;dbl&gt;</th><th scope=col>&lt;int&gt;</th><th scope=col>&lt;lgl&gt;</th><th scope=col>&lt;dbl&gt;</th><th scope=col>&lt;dbl&gt;</th><th scope=col>⋯</th><th scope=col>&lt;dbl&gt;</th><th scope=col>&lt;dbl&gt;</th><th scope=col>&lt;lgl&gt;</th><th scope=col>&lt;dbl&gt;</th><th scope=col>&lt;lgl&gt;</th><th scope=col>&lt;lgl&gt;</th><th scope=col>&lt;lgl&gt;</th><th scope=col>&lt;lgl&gt;</th><th scope=col>&lt;fct&gt;</th><th scope=col>&lt;int&gt;</th></tr>\n",
       "</thead>\n",
       "<tbody>\n",
       "\t<tr><td>15504</td><td>62443</td><td>2005-01-01T00:16:33Z</td><td>50.7451</td><td>1.5696</td><td>8.53</td><td>0</td><td>NA</td><td>75.66</td><td>NA</td><td>⋯</td><td>8.13</td><td>NA</td><td>NA</td><td>19.3</td><td>NA</td><td>NA</td><td>NA</td><td>NA</td><td>1,11179199911999E+030</td><td>2</td></tr>\n",
       "\t<tr><td>15505</td><td>62443</td><td>2005-01-01T00:36:33Z</td><td>50.7451</td><td>1.5696</td><td>8.80</td><td>0</td><td>NA</td><td>75.95</td><td>NA</td><td>⋯</td><td>8.11</td><td>NA</td><td>NA</td><td>19.8</td><td>NA</td><td>NA</td><td>NA</td><td>NA</td><td>1,11179199911999E+030</td><td>2</td></tr>\n",
       "\t<tr><td>15506</td><td>62443</td><td>2005-01-01T00:56:32Z</td><td>50.7451</td><td>1.5696</td><td>8.81</td><td>0</td><td>NA</td><td>77.94</td><td>NA</td><td>⋯</td><td>8.10</td><td>NA</td><td>NA</td><td>11.9</td><td>NA</td><td>NA</td><td>NA</td><td>NA</td><td>1,11179199911999E+030</td><td>2</td></tr>\n",
       "\t<tr><td>15507</td><td>62443</td><td>2005-01-01T01:16:32Z</td><td>50.7451</td><td>1.5696</td><td>8.75</td><td>0</td><td>NA</td><td>79.28</td><td>NA</td><td>⋯</td><td>8.12</td><td>NA</td><td>NA</td><td> 9.4</td><td>NA</td><td>NA</td><td>NA</td><td>NA</td><td>1,11179199911999E+030</td><td>2</td></tr>\n",
       "\t<tr><td>15508</td><td>62443</td><td>2005-01-01T01:36:32Z</td><td>50.7451</td><td>1.5696</td><td>8.85</td><td>0</td><td>NA</td><td>82.06</td><td>NA</td><td>⋯</td><td>8.11</td><td>NA</td><td>NA</td><td> 7.5</td><td>NA</td><td>NA</td><td>NA</td><td>NA</td><td>1,11179199911999E+030</td><td>2</td></tr>\n",
       "\t<tr><td>15509</td><td>62443</td><td>2005-01-01T02:16:33Z</td><td>50.7451</td><td>1.5696</td><td>8.86</td><td>0</td><td>NA</td><td>86.12</td><td>NA</td><td>⋯</td><td>8.10</td><td>NA</td><td>NA</td><td> 7.3</td><td>NA</td><td>NA</td><td>NA</td><td>NA</td><td>1,11179199911999E+030</td><td>2</td></tr>\n",
       "</tbody>\n",
       "</table>\n"
      ],
      "text/latex": [
       "A data.frame: 6 × 35\n",
       "\\begin{tabular}{r|lllllllllllllllllllllllllllllllllll}\n",
       " X & PLATFORM & DATE..yyyy.mm.ddThh.mi.ssZ. & LATITUDE..degree\\_north. & LONGITUDE..degree\\_east. & DRYT.LEVEL0..degree\\_Celsius. & DEPH.LEVEL0..meter. & GSPD.LEVEL0..meter.second. & RELH.LEVEL0.... & SLEV.LEVEL0..meter. & WDIR.LEVEL0..degree. & WSPD.LEVEL0..meter.second. & TEMP.LEVEL1..degree\\_Celsius. & PSAL.LEVEL1..psu. & BATTERY.LEVEL1..volt. & CNDC.LEVEL1..S.m. & DEPH.LEVEL1..meter. & DOX1.LEVEL1..ml.l. & END\\_CYCLE\\_FLOW.LEVEL1..l.minute. & FLU3.LEVEL1..FFU. & LGH4.LEVEL1..micromole.photon..m2.s.. & MASS\\_DOXY.LEVEL1..milligram.m3. & NTRZ.LEVEL1..millimole.m3. & OSAT.LEVEL1.... & PHOS.LEVEL1..millimole.m3. & PHPH.LEVEL1..none. & SLCA.LEVEL1..millimole.m3. & START\\_CYCLE\\_FLOW.LEVEL1..l.minute. & TUR4.LEVEL1..ntu. & DEPH.LEVEL2..meter. & NTRZ.LEVEL2..millimole.m3. & PHOS.LEVEL2..millimole.m3. & SLCA.LEVEL2..millimole.m3. & QC & MAREL\\_DATASTATE\\_1\\\\\n",
       " <int> & <int> & <fct> & <dbl> & <dbl> & <dbl> & <int> & <lgl> & <dbl> & <dbl> & <lgl> & <lgl> & <dbl> & <dbl> & <lgl> & <lgl> & <int> & <dbl> & <lgl> & <dbl> & <dbl> & <lgl> & <dbl> & <lgl> & <dbl> & <dbl> & <dbl> & <lgl> & <dbl> & <lgl> & <lgl> & <lgl> & <lgl> & <fct> & <int>\\\\\n",
       "\\hline\n",
       "\t 15504 & 62443 & 2005-01-01T00:16:33Z & 50.7451 & 1.5696 & 8.53 & 0 & NA & 75.66 & NA & NA & NA & 8.2 & 33.13 & NA & NA & NA & 6.63410 & NA & 0.94 & 0 & NA &    NA & NA &    NA & 8.13 & NA & NA & 19.3 & NA & NA & NA & NA & 1,11179199911999E+030 & 2\\\\\n",
       "\t 15505 & 62443 & 2005-01-01T00:36:33Z & 50.7451 & 1.5696 & 8.80 & 0 & NA & 75.95 & NA & NA & NA & 8.1 & 33.22 & NA & NA & NA & 6.60611 & NA & 1.33 & 0 & NA & 20.97 & NA &    NA & 8.11 & NA & NA & 19.8 & NA & NA & NA & NA & 1,11179199911999E+030 & 2\\\\\n",
       "\t 15506 & 62443 & 2005-01-01T00:56:32Z & 50.7451 & 1.5696 & 8.81 & 0 & NA & 77.94 & NA & NA & NA & 8.1 & 33.13 & NA & NA & NA & 6.62011 & NA & 0.80 & 0 & NA & 16.16 & NA &    NA & 8.10 & NA & NA & 11.9 & NA & NA & NA & NA & 1,11179199911999E+030 & 2\\\\\n",
       "\t 15507 & 62443 & 2005-01-01T01:16:32Z & 50.7451 & 1.5696 & 8.75 & 0 & NA & 79.28 & NA & NA & NA & 8.1 & 33.19 & NA & NA & NA & 6.43816 & NA & 1.27 & 0 & NA &    NA & NA &    NA & 8.12 & NA & NA &  9.4 & NA & NA & NA & NA & 1,11179199911999E+030 & 2\\\\\n",
       "\t 15508 & 62443 & 2005-01-01T01:36:32Z & 50.7451 & 1.5696 & 8.85 & 0 & NA & 82.06 & NA & NA & NA & 8.1 & 32.96 & NA & NA & NA & 6.45216 & NA & 0.68 & 0 & NA &    NA & NA & -0.84 & 8.11 & NA & NA &  7.5 & NA & NA & NA & NA & 1,11179199911999E+030 & 2\\\\\n",
       "\t 15509 & 62443 & 2005-01-01T02:16:33Z & 50.7451 & 1.5696 & 8.86 & 0 & NA & 86.12 & NA & NA & NA & 8.1 & 33.07 & NA & NA & NA & 6.54313 & NA & 0.79 & 0 & NA &    NA & NA &    NA & 8.10 & NA & NA &  7.3 & NA & NA & NA & NA & 1,11179199911999E+030 & 2\\\\\n",
       "\\end{tabular}\n"
      ],
      "text/markdown": [
       "\n",
       "A data.frame: 6 × 35\n",
       "\n",
       "| X &lt;int&gt; | PLATFORM &lt;int&gt; | DATE..yyyy.mm.ddThh.mi.ssZ. &lt;fct&gt; | LATITUDE..degree_north. &lt;dbl&gt; | LONGITUDE..degree_east. &lt;dbl&gt; | DRYT.LEVEL0..degree_Celsius. &lt;dbl&gt; | DEPH.LEVEL0..meter. &lt;int&gt; | GSPD.LEVEL0..meter.second. &lt;lgl&gt; | RELH.LEVEL0.... &lt;dbl&gt; | SLEV.LEVEL0..meter. &lt;dbl&gt; | ⋯ ⋯ | PHPH.LEVEL1..none. &lt;dbl&gt; | SLCA.LEVEL1..millimole.m3. &lt;dbl&gt; | START_CYCLE_FLOW.LEVEL1..l.minute. &lt;lgl&gt; | TUR4.LEVEL1..ntu. &lt;dbl&gt; | DEPH.LEVEL2..meter. &lt;lgl&gt; | NTRZ.LEVEL2..millimole.m3. &lt;lgl&gt; | PHOS.LEVEL2..millimole.m3. &lt;lgl&gt; | SLCA.LEVEL2..millimole.m3. &lt;lgl&gt; | QC &lt;fct&gt; | MAREL_DATASTATE_1 &lt;int&gt; |\n",
       "|---|---|---|---|---|---|---|---|---|---|---|---|---|---|---|---|---|---|---|---|---|\n",
       "| 15504 | 62443 | 2005-01-01T00:16:33Z | 50.7451 | 1.5696 | 8.53 | 0 | NA | 75.66 | NA | ⋯ | 8.13 | NA | NA | 19.3 | NA | NA | NA | NA | 1,11179199911999E+030 | 2 |\n",
       "| 15505 | 62443 | 2005-01-01T00:36:33Z | 50.7451 | 1.5696 | 8.80 | 0 | NA | 75.95 | NA | ⋯ | 8.11 | NA | NA | 19.8 | NA | NA | NA | NA | 1,11179199911999E+030 | 2 |\n",
       "| 15506 | 62443 | 2005-01-01T00:56:32Z | 50.7451 | 1.5696 | 8.81 | 0 | NA | 77.94 | NA | ⋯ | 8.10 | NA | NA | 11.9 | NA | NA | NA | NA | 1,11179199911999E+030 | 2 |\n",
       "| 15507 | 62443 | 2005-01-01T01:16:32Z | 50.7451 | 1.5696 | 8.75 | 0 | NA | 79.28 | NA | ⋯ | 8.12 | NA | NA |  9.4 | NA | NA | NA | NA | 1,11179199911999E+030 | 2 |\n",
       "| 15508 | 62443 | 2005-01-01T01:36:32Z | 50.7451 | 1.5696 | 8.85 | 0 | NA | 82.06 | NA | ⋯ | 8.11 | NA | NA |  7.5 | NA | NA | NA | NA | 1,11179199911999E+030 | 2 |\n",
       "| 15509 | 62443 | 2005-01-01T02:16:33Z | 50.7451 | 1.5696 | 8.86 | 0 | NA | 86.12 | NA | ⋯ | 8.10 | NA | NA |  7.3 | NA | NA | NA | NA | 1,11179199911999E+030 | 2 |\n",
       "\n"
      ],
      "text/plain": [
       "  X     PLATFORM DATE..yyyy.mm.ddThh.mi.ssZ. LATITUDE..degree_north.\n",
       "1 15504 62443    2005-01-01T00:16:33Z        50.7451                \n",
       "2 15505 62443    2005-01-01T00:36:33Z        50.7451                \n",
       "3 15506 62443    2005-01-01T00:56:32Z        50.7451                \n",
       "4 15507 62443    2005-01-01T01:16:32Z        50.7451                \n",
       "5 15508 62443    2005-01-01T01:36:32Z        50.7451                \n",
       "6 15509 62443    2005-01-01T02:16:33Z        50.7451                \n",
       "  LONGITUDE..degree_east. DRYT.LEVEL0..degree_Celsius. DEPH.LEVEL0..meter.\n",
       "1 1.5696                  8.53                         0                  \n",
       "2 1.5696                  8.80                         0                  \n",
       "3 1.5696                  8.81                         0                  \n",
       "4 1.5696                  8.75                         0                  \n",
       "5 1.5696                  8.85                         0                  \n",
       "6 1.5696                  8.86                         0                  \n",
       "  GSPD.LEVEL0..meter.second. RELH.LEVEL0.... SLEV.LEVEL0..meter. ⋯\n",
       "1 NA                         75.66           NA                  ⋯\n",
       "2 NA                         75.95           NA                  ⋯\n",
       "3 NA                         77.94           NA                  ⋯\n",
       "4 NA                         79.28           NA                  ⋯\n",
       "5 NA                         82.06           NA                  ⋯\n",
       "6 NA                         86.12           NA                  ⋯\n",
       "  PHPH.LEVEL1..none. SLCA.LEVEL1..millimole.m3.\n",
       "1 8.13               NA                        \n",
       "2 8.11               NA                        \n",
       "3 8.10               NA                        \n",
       "4 8.12               NA                        \n",
       "5 8.11               NA                        \n",
       "6 8.10               NA                        \n",
       "  START_CYCLE_FLOW.LEVEL1..l.minute. TUR4.LEVEL1..ntu. DEPH.LEVEL2..meter.\n",
       "1 NA                                 19.3              NA                 \n",
       "2 NA                                 19.8              NA                 \n",
       "3 NA                                 11.9              NA                 \n",
       "4 NA                                  9.4              NA                 \n",
       "5 NA                                  7.5              NA                 \n",
       "6 NA                                  7.3              NA                 \n",
       "  NTRZ.LEVEL2..millimole.m3. PHOS.LEVEL2..millimole.m3.\n",
       "1 NA                         NA                        \n",
       "2 NA                         NA                        \n",
       "3 NA                         NA                        \n",
       "4 NA                         NA                        \n",
       "5 NA                         NA                        \n",
       "6 NA                         NA                        \n",
       "  SLCA.LEVEL2..millimole.m3. QC                    MAREL_DATASTATE_1\n",
       "1 NA                         1,11179199911999E+030 2                \n",
       "2 NA                         1,11179199911999E+030 2                \n",
       "3 NA                         1,11179199911999E+030 2                \n",
       "4 NA                         1,11179199911999E+030 2                \n",
       "5 NA                         1,11179199911999E+030 2                \n",
       "6 NA                         1,11179199911999E+030 2                "
      ]
     },
     "metadata": {},
     "output_type": "display_data"
    }
   ],
   "source": [
    "df <- read.csv(file=\"DataTest_Carnot_2005.csv\", header=TRUE, sep=\",\" ,dec=\".\")\n",
    "head(df)"
   ]
  },
  {
   "cell_type": "markdown",
   "metadata": {},
   "source": [
    "### Types des variables"
   ]
  },
  {
   "cell_type": "code",
   "execution_count": 9,
   "metadata": {},
   "outputs": [
    {
     "data": {
      "text/html": [
       "<ol class=list-inline>\n",
       "\t<li>'integer'</li>\n",
       "\t<li>'factor'</li>\n",
       "\t<li>'numeric'</li>\n",
       "\t<li>'logical'</li>\n",
       "</ol>\n"
      ],
      "text/latex": [
       "\\begin{enumerate*}\n",
       "\\item 'integer'\n",
       "\\item 'factor'\n",
       "\\item 'numeric'\n",
       "\\item 'logical'\n",
       "\\end{enumerate*}\n"
      ],
      "text/markdown": [
       "1. 'integer'\n",
       "2. 'factor'\n",
       "3. 'numeric'\n",
       "4. 'logical'\n",
       "\n",
       "\n"
      ],
      "text/plain": [
       "[1] \"integer\" \"factor\"  \"numeric\" \"logical\""
      ]
     },
     "metadata": {},
     "output_type": "display_data"
    }
   ],
   "source": [
    "data.type = sapply(df,class)\n",
    "unique(data.type)"
   ]
  },
  {
   "cell_type": "markdown",
   "metadata": {},
   "source": [
    "### Nombre de lignes"
   ]
  },
  {
   "cell_type": "code",
   "execution_count": 11,
   "metadata": {},
   "outputs": [
    {
     "data": {
      "text/html": [
       "21419"
      ],
      "text/latex": [
       "21419"
      ],
      "text/markdown": [
       "21419"
      ],
      "text/plain": [
       "[1] 21419"
      ]
     },
     "metadata": {},
     "output_type": "display_data"
    }
   ],
   "source": [
    "nrow(df)"
   ]
  },
  {
   "cell_type": "markdown",
   "metadata": {},
   "source": [
    "### Nombre de colonnes"
   ]
  },
  {
   "cell_type": "code",
   "execution_count": 12,
   "metadata": {},
   "outputs": [
    {
     "data": {
      "text/html": [
       "35"
      ],
      "text/latex": [
       "35"
      ],
      "text/markdown": [
       "35"
      ],
      "text/plain": [
       "[1] 35"
      ]
     },
     "metadata": {},
     "output_type": "display_data"
    }
   ],
   "source": [
    "ncol(df)"
   ]
  },
  {
   "cell_type": "markdown",
   "metadata": {},
   "source": [
    "### Nom des variables"
   ]
  },
  {
   "cell_type": "code",
   "execution_count": 13,
   "metadata": {},
   "outputs": [
    {
     "data": {
      "text/html": [
       "<ol class=list-inline>\n",
       "\t<li>'X'</li>\n",
       "\t<li>'PLATFORM'</li>\n",
       "\t<li>'DATE..yyyy.mm.ddThh.mi.ssZ.'</li>\n",
       "\t<li>'LATITUDE..degree_north.'</li>\n",
       "\t<li>'LONGITUDE..degree_east.'</li>\n",
       "\t<li>'DRYT.LEVEL0..degree_Celsius.'</li>\n",
       "\t<li>'DEPH.LEVEL0..meter.'</li>\n",
       "\t<li>'GSPD.LEVEL0..meter.second.'</li>\n",
       "\t<li>'RELH.LEVEL0....'</li>\n",
       "\t<li>'SLEV.LEVEL0..meter.'</li>\n",
       "\t<li>'WDIR.LEVEL0..degree.'</li>\n",
       "\t<li>'WSPD.LEVEL0..meter.second.'</li>\n",
       "\t<li>'TEMP.LEVEL1..degree_Celsius.'</li>\n",
       "\t<li>'PSAL.LEVEL1..psu.'</li>\n",
       "\t<li>'BATTERY.LEVEL1..volt.'</li>\n",
       "\t<li>'CNDC.LEVEL1..S.m.'</li>\n",
       "\t<li>'DEPH.LEVEL1..meter.'</li>\n",
       "\t<li>'DOX1.LEVEL1..ml.l.'</li>\n",
       "\t<li>'END_CYCLE_FLOW.LEVEL1..l.minute.'</li>\n",
       "\t<li>'FLU3.LEVEL1..FFU.'</li>\n",
       "\t<li>'LGH4.LEVEL1..micromole.photon..m2.s..'</li>\n",
       "\t<li>'MASS_DOXY.LEVEL1..milligram.m3.'</li>\n",
       "\t<li>'NTRZ.LEVEL1..millimole.m3.'</li>\n",
       "\t<li>'OSAT.LEVEL1....'</li>\n",
       "\t<li>'PHOS.LEVEL1..millimole.m3.'</li>\n",
       "\t<li>'PHPH.LEVEL1..none.'</li>\n",
       "\t<li>'SLCA.LEVEL1..millimole.m3.'</li>\n",
       "\t<li>'START_CYCLE_FLOW.LEVEL1..l.minute.'</li>\n",
       "\t<li>'TUR4.LEVEL1..ntu.'</li>\n",
       "\t<li>'DEPH.LEVEL2..meter.'</li>\n",
       "\t<li>'NTRZ.LEVEL2..millimole.m3.'</li>\n",
       "\t<li>'PHOS.LEVEL2..millimole.m3.'</li>\n",
       "\t<li>'SLCA.LEVEL2..millimole.m3.'</li>\n",
       "\t<li>'QC'</li>\n",
       "\t<li>'MAREL_DATASTATE_1'</li>\n",
       "</ol>\n"
      ],
      "text/latex": [
       "\\begin{enumerate*}\n",
       "\\item 'X'\n",
       "\\item 'PLATFORM'\n",
       "\\item 'DATE..yyyy.mm.ddThh.mi.ssZ.'\n",
       "\\item 'LATITUDE..degree\\_north.'\n",
       "\\item 'LONGITUDE..degree\\_east.'\n",
       "\\item 'DRYT.LEVEL0..degree\\_Celsius.'\n",
       "\\item 'DEPH.LEVEL0..meter.'\n",
       "\\item 'GSPD.LEVEL0..meter.second.'\n",
       "\\item 'RELH.LEVEL0....'\n",
       "\\item 'SLEV.LEVEL0..meter.'\n",
       "\\item 'WDIR.LEVEL0..degree.'\n",
       "\\item 'WSPD.LEVEL0..meter.second.'\n",
       "\\item 'TEMP.LEVEL1..degree\\_Celsius.'\n",
       "\\item 'PSAL.LEVEL1..psu.'\n",
       "\\item 'BATTERY.LEVEL1..volt.'\n",
       "\\item 'CNDC.LEVEL1..S.m.'\n",
       "\\item 'DEPH.LEVEL1..meter.'\n",
       "\\item 'DOX1.LEVEL1..ml.l.'\n",
       "\\item 'END\\_CYCLE\\_FLOW.LEVEL1..l.minute.'\n",
       "\\item 'FLU3.LEVEL1..FFU.'\n",
       "\\item 'LGH4.LEVEL1..micromole.photon..m2.s..'\n",
       "\\item 'MASS\\_DOXY.LEVEL1..milligram.m3.'\n",
       "\\item 'NTRZ.LEVEL1..millimole.m3.'\n",
       "\\item 'OSAT.LEVEL1....'\n",
       "\\item 'PHOS.LEVEL1..millimole.m3.'\n",
       "\\item 'PHPH.LEVEL1..none.'\n",
       "\\item 'SLCA.LEVEL1..millimole.m3.'\n",
       "\\item 'START\\_CYCLE\\_FLOW.LEVEL1..l.minute.'\n",
       "\\item 'TUR4.LEVEL1..ntu.'\n",
       "\\item 'DEPH.LEVEL2..meter.'\n",
       "\\item 'NTRZ.LEVEL2..millimole.m3.'\n",
       "\\item 'PHOS.LEVEL2..millimole.m3.'\n",
       "\\item 'SLCA.LEVEL2..millimole.m3.'\n",
       "\\item 'QC'\n",
       "\\item 'MAREL\\_DATASTATE\\_1'\n",
       "\\end{enumerate*}\n"
      ],
      "text/markdown": [
       "1. 'X'\n",
       "2. 'PLATFORM'\n",
       "3. 'DATE..yyyy.mm.ddThh.mi.ssZ.'\n",
       "4. 'LATITUDE..degree_north.'\n",
       "5. 'LONGITUDE..degree_east.'\n",
       "6. 'DRYT.LEVEL0..degree_Celsius.'\n",
       "7. 'DEPH.LEVEL0..meter.'\n",
       "8. 'GSPD.LEVEL0..meter.second.'\n",
       "9. 'RELH.LEVEL0....'\n",
       "10. 'SLEV.LEVEL0..meter.'\n",
       "11. 'WDIR.LEVEL0..degree.'\n",
       "12. 'WSPD.LEVEL0..meter.second.'\n",
       "13. 'TEMP.LEVEL1..degree_Celsius.'\n",
       "14. 'PSAL.LEVEL1..psu.'\n",
       "15. 'BATTERY.LEVEL1..volt.'\n",
       "16. 'CNDC.LEVEL1..S.m.'\n",
       "17. 'DEPH.LEVEL1..meter.'\n",
       "18. 'DOX1.LEVEL1..ml.l.'\n",
       "19. 'END_CYCLE_FLOW.LEVEL1..l.minute.'\n",
       "20. 'FLU3.LEVEL1..FFU.'\n",
       "21. 'LGH4.LEVEL1..micromole.photon..m2.s..'\n",
       "22. 'MASS_DOXY.LEVEL1..milligram.m3.'\n",
       "23. 'NTRZ.LEVEL1..millimole.m3.'\n",
       "24. 'OSAT.LEVEL1....'\n",
       "25. 'PHOS.LEVEL1..millimole.m3.'\n",
       "26. 'PHPH.LEVEL1..none.'\n",
       "27. 'SLCA.LEVEL1..millimole.m3.'\n",
       "28. 'START_CYCLE_FLOW.LEVEL1..l.minute.'\n",
       "29. 'TUR4.LEVEL1..ntu.'\n",
       "30. 'DEPH.LEVEL2..meter.'\n",
       "31. 'NTRZ.LEVEL2..millimole.m3.'\n",
       "32. 'PHOS.LEVEL2..millimole.m3.'\n",
       "33. 'SLCA.LEVEL2..millimole.m3.'\n",
       "34. 'QC'\n",
       "35. 'MAREL_DATASTATE_1'\n",
       "\n",
       "\n"
      ],
      "text/plain": [
       " [1] \"X\"                                    \n",
       " [2] \"PLATFORM\"                             \n",
       " [3] \"DATE..yyyy.mm.ddThh.mi.ssZ.\"          \n",
       " [4] \"LATITUDE..degree_north.\"              \n",
       " [5] \"LONGITUDE..degree_east.\"              \n",
       " [6] \"DRYT.LEVEL0..degree_Celsius.\"         \n",
       " [7] \"DEPH.LEVEL0..meter.\"                  \n",
       " [8] \"GSPD.LEVEL0..meter.second.\"           \n",
       " [9] \"RELH.LEVEL0....\"                      \n",
       "[10] \"SLEV.LEVEL0..meter.\"                  \n",
       "[11] \"WDIR.LEVEL0..degree.\"                 \n",
       "[12] \"WSPD.LEVEL0..meter.second.\"           \n",
       "[13] \"TEMP.LEVEL1..degree_Celsius.\"         \n",
       "[14] \"PSAL.LEVEL1..psu.\"                    \n",
       "[15] \"BATTERY.LEVEL1..volt.\"                \n",
       "[16] \"CNDC.LEVEL1..S.m.\"                    \n",
       "[17] \"DEPH.LEVEL1..meter.\"                  \n",
       "[18] \"DOX1.LEVEL1..ml.l.\"                   \n",
       "[19] \"END_CYCLE_FLOW.LEVEL1..l.minute.\"     \n",
       "[20] \"FLU3.LEVEL1..FFU.\"                    \n",
       "[21] \"LGH4.LEVEL1..micromole.photon..m2.s..\"\n",
       "[22] \"MASS_DOXY.LEVEL1..milligram.m3.\"      \n",
       "[23] \"NTRZ.LEVEL1..millimole.m3.\"           \n",
       "[24] \"OSAT.LEVEL1....\"                      \n",
       "[25] \"PHOS.LEVEL1..millimole.m3.\"           \n",
       "[26] \"PHPH.LEVEL1..none.\"                   \n",
       "[27] \"SLCA.LEVEL1..millimole.m3.\"           \n",
       "[28] \"START_CYCLE_FLOW.LEVEL1..l.minute.\"   \n",
       "[29] \"TUR4.LEVEL1..ntu.\"                    \n",
       "[30] \"DEPH.LEVEL2..meter.\"                  \n",
       "[31] \"NTRZ.LEVEL2..millimole.m3.\"           \n",
       "[32] \"PHOS.LEVEL2..millimole.m3.\"           \n",
       "[33] \"SLCA.LEVEL2..millimole.m3.\"           \n",
       "[34] \"QC\"                                   \n",
       "[35] \"MAREL_DATASTATE_1\"                    "
      ]
     },
     "metadata": {},
     "output_type": "display_data"
    }
   ],
   "source": [
    "names(df)"
   ]
  },
  {
   "cell_type": "markdown",
   "metadata": {},
   "source": [
    "### Statistiques générales"
   ]
  },
  {
   "cell_type": "code",
   "execution_count": 8,
   "metadata": {},
   "outputs": [
    {
     "data": {
      "text/plain": [
       "       X            PLATFORM           DATE..yyyy.mm.ddThh.mi.ssZ.\n",
       " Min.   :15504   Min.   :62443   2005-01-01T00:16:33Z:    1       \n",
       " 1st Qu.:20858   1st Qu.:62443   2005-01-01T00:36:33Z:    1       \n",
       " Median :26213   Median :62443   2005-01-01T00:56:32Z:    1       \n",
       " Mean   :26213   Mean   :62443   2005-01-01T01:16:32Z:    1       \n",
       " 3rd Qu.:31568   3rd Qu.:62443   2005-01-01T01:36:32Z:    1       \n",
       " Max.   :36922   Max.   :62443   2005-01-01T02:16:33Z:    1       \n",
       "                                 (Other)             :21413       \n",
       " LATITUDE..degree_north. LONGITUDE..degree_east. DRYT.LEVEL0..degree_Celsius.\n",
       " Min.   :50.75           Min.   :1.57            Min.   :-3.02               \n",
       " 1st Qu.:50.75           1st Qu.:1.57            1st Qu.: 8.00               \n",
       " Median :50.75           Median :1.57            Median :12.35               \n",
       " Mean   :50.75           Mean   :1.57            Mean   :12.16               \n",
       " 3rd Qu.:50.75           3rd Qu.:1.57            3rd Qu.:16.22               \n",
       " Max.   :50.75           Max.   :1.57            Max.   :77.77               \n",
       "                                                 NA's   :570                 \n",
       " DEPH.LEVEL0..meter. GSPD.LEVEL0..meter.second. RELH.LEVEL0....\n",
       " Min.   :0           Mode:logical               Min.   :36.29  \n",
       " 1st Qu.:0           NA's:21419                 1st Qu.:73.55  \n",
       " Median :0                                      Median :81.35  \n",
       " Mean   :0                                      Mean   :80.10  \n",
       " 3rd Qu.:0                                      3rd Qu.:88.00  \n",
       " Max.   :0                                      Max.   :98.13  \n",
       " NA's   :569                                    NA's   :570    \n",
       " SLEV.LEVEL0..meter. WDIR.LEVEL0..degree. WSPD.LEVEL0..meter.second.\n",
       " Min.   :-15.09      Mode:logical         Mode:logical              \n",
       " 1st Qu.:  8.33      NA's:21419           NA's:21419                \n",
       " Median : 10.64                                                     \n",
       " Mean   : 10.89                                                     \n",
       " 3rd Qu.: 12.74                                                     \n",
       " Max.   : 77.77                                                     \n",
       " NA's   :3128                                                       \n",
       " TEMP.LEVEL1..degree_Celsius. PSAL.LEVEL1..psu. BATTERY.LEVEL1..volt.\n",
       " Min.   : 3.60                Min.   : 0.32     Mode:logical         \n",
       " 1st Qu.: 8.00                1st Qu.:33.47     NA's:21419           \n",
       " Median :12.20                Median :33.79                          \n",
       " Mean   :12.37                Mean   :33.69                          \n",
       " 3rd Qu.:16.80                3rd Qu.:34.09                          \n",
       " Max.   :20.40                Max.   :34.69                          \n",
       " NA's   :211                  NA's   :211                            \n",
       " CNDC.LEVEL1..S.m. DEPH.LEVEL1..meter. DOX1.LEVEL1..ml.l.\n",
       " Mode:logical      Min.   :3           Min.   : 3.079    \n",
       " NA's:21419        1st Qu.:3           1st Qu.: 4.367    \n",
       "                   Median :3           Median : 5.913    \n",
       "                   Mean   :3           Mean   : 5.760    \n",
       "                   3rd Qu.:3           3rd Qu.: 6.739    \n",
       "                   Max.   :3           Max.   :11.393    \n",
       "                   NA's   :20850       NA's   :811       \n",
       " END_CYCLE_FLOW.LEVEL1..l.minute. FLU3.LEVEL1..FFU.\n",
       " Mode:logical                     Min.   :0.000    \n",
       " NA's:21419                       1st Qu.:0.420    \n",
       "                                  Median :0.820    \n",
       "                                  Mean   :1.319    \n",
       "                                  3rd Qu.:1.770    \n",
       "                                  Max.   :9.890    \n",
       "                                  NA's   :182      \n",
       " LGH4.LEVEL1..micromole.photon..m2.s.. MASS_DOXY.LEVEL1..milligram.m3.\n",
       " Min.   :  -0.9                        Mode:logical                   \n",
       " 1st Qu.:   0.0                        NA's:21419                     \n",
       " Median :   8.1                                                       \n",
       " Mean   : 274.9                                                       \n",
       " 3rd Qu.: 391.4                                                       \n",
       " Max.   :2358.9                                                       \n",
       " NA's   :571                                                          \n",
       " NTRZ.LEVEL1..millimole.m3. OSAT.LEVEL1.... PHOS.LEVEL1..millimole.m3.\n",
       " Min.   :-4442.500          Mode:logical    Min.   :-224.290          \n",
       " 1st Qu.:    3.377          NA's:21419      1st Qu.:   0.228          \n",
       " Median :    5.705                          Median :   0.630          \n",
       " Mean   :   14.297                          Mean   :  -0.337          \n",
       " 3rd Qu.:   14.480                          3rd Qu.:   1.062          \n",
       " Max.   : 7002.830                          Max.   : 403.000          \n",
       " NA's   :20677                              NA's   :20715             \n",
       " PHPH.LEVEL1..none. SLCA.LEVEL1..millimole.m3.\n",
       " Min.   :-0.110     Min.   :-7922.600         \n",
       " 1st Qu.: 8.520     1st Qu.:    0.865         \n",
       " Median : 8.840     Median :    1.900         \n",
       " Mean   : 8.989     Mean   :    6.826         \n",
       " 3rd Qu.: 9.150     3rd Qu.:    4.085         \n",
       " Max.   :15.760     Max.   :10561.000         \n",
       " NA's   :4368       NA's   :20760             \n",
       " START_CYCLE_FLOW.LEVEL1..l.minute. TUR4.LEVEL1..ntu.   DEPH.LEVEL2..meter.\n",
       " Mode:logical                       Min.   :-2539.500   Mode:logical       \n",
       " NA's:21419                         1st Qu.:    3.700   NA's:21419         \n",
       "                                    Median :    5.400                      \n",
       "                                    Mean   :    9.742                      \n",
       "                                    3rd Qu.:    9.800                      \n",
       "                                    Max.   :  842.100                      \n",
       "                                    NA's   :250                            \n",
       " NTRZ.LEVEL2..millimole.m3. PHOS.LEVEL2..millimole.m3.\n",
       " Mode:logical               Mode:logical              \n",
       " NA's:21419                 NA's:21419                \n",
       "                                                      \n",
       "                                                      \n",
       "                                                      \n",
       "                                                      \n",
       "                                                      \n",
       " SLCA.LEVEL2..millimole.m3.                     QC        MAREL_DATASTATE_1\n",
       " Mode:logical               1,11179119911999E+030:12882   Min.   :2        \n",
       " NA's:21419                 1,11179149911999E+030: 4084   1st Qu.:2        \n",
       "                            1,11179199911999E+030: 2557   Median :2        \n",
       "                            1,11179119912E+030   :  523   Mean   :2        \n",
       "                            1,11999999911997E+030:  522   3rd Qu.:2        \n",
       "                            1,11179139911999E+030:  460   Max.   :2        \n",
       "                            (Other)              :  391                    "
      ]
     },
     "metadata": {},
     "output_type": "display_data"
    }
   ],
   "source": [
    "summary(df)"
   ]
  }
 ],
 "metadata": {
  "kernelspec": {
   "display_name": "R",
   "language": "R",
   "name": "ir"
  },
  "language_info": {
   "codemirror_mode": "r",
   "file_extension": ".r",
   "mimetype": "text/x-r-source",
   "name": "R",
   "pygments_lexer": "r",
   "version": "3.5.1"
  }
 },
 "nbformat": 4,
 "nbformat_minor": 2
}
