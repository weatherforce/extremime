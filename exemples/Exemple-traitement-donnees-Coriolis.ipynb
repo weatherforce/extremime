{
 "cells": [
  {
   "cell_type": "markdown",
   "metadata": {},
   "source": [
    "# Exemple de traitement de données Coriolis\n",
    "\n",
    "## 1. Chargement d'un fichier de données"
   ]
  },
  {
   "cell_type": "code",
   "execution_count": 1,
   "metadata": {},
   "outputs": [
    {
     "data": {
      "text/html": [
       "<table>\n",
       "<caption>A data.frame: 6 × 34</caption>\n",
       "<thead>\n",
       "\t<tr><th scope=col>PLATFORM</th><th scope=col>DATE..yyyy.mm.ddThh.mi.ssZ.</th><th scope=col>LATITUDE..degree_north.</th><th scope=col>LONGITUDE..degree_east.</th><th scope=col>DRYT.LEVEL0..degree_Celsius.</th><th scope=col>DEPH.LEVEL0..meter.</th><th scope=col>GSPD.LEVEL0..meter.second.</th><th scope=col>RELH.LEVEL0....</th><th scope=col>SLEV.LEVEL0..meter.</th><th scope=col>WDIR.LEVEL0..degree.</th><th scope=col>⋯</th><th scope=col>PHPH.LEVEL1..none.</th><th scope=col>SLCA.LEVEL1..millimole.m3.</th><th scope=col>START_CYCLE_FLOW.LEVEL1..l.minute.</th><th scope=col>TUR4.LEVEL1..ntu.</th><th scope=col>DEPH.LEVEL2..meter.</th><th scope=col>NTRZ.LEVEL2..millimole.m3.</th><th scope=col>PHOS.LEVEL2..millimole.m3.</th><th scope=col>SLCA.LEVEL2..millimole.m3.</th><th scope=col>QC</th><th scope=col>MAREL_DATASTATE_1</th></tr>\n",
       "\t<tr><th scope=col>&lt;int&gt;</th><th scope=col>&lt;fct&gt;</th><th scope=col>&lt;dbl&gt;</th><th scope=col>&lt;dbl&gt;</th><th scope=col>&lt;dbl&gt;</th><th scope=col>&lt;int&gt;</th><th scope=col>&lt;lgl&gt;</th><th scope=col>&lt;dbl&gt;</th><th scope=col>&lt;dbl&gt;</th><th scope=col>&lt;lgl&gt;</th><th scope=col>⋯</th><th scope=col>&lt;dbl&gt;</th><th scope=col>&lt;dbl&gt;</th><th scope=col>&lt;lgl&gt;</th><th scope=col>&lt;dbl&gt;</th><th scope=col>&lt;lgl&gt;</th><th scope=col>&lt;lgl&gt;</th><th scope=col>&lt;lgl&gt;</th><th scope=col>&lt;lgl&gt;</th><th scope=col>&lt;fct&gt;</th><th scope=col>&lt;int&gt;</th></tr>\n",
       "</thead>\n",
       "<tbody>\n",
       "\t<tr><td>62443</td><td>2005-01-01T00:16:33Z</td><td>50.7451</td><td>1.5696</td><td>8.53</td><td>0</td><td>NA</td><td>75.66</td><td>NA</td><td>NA</td><td>⋯</td><td>8.13</td><td>NA</td><td>NA</td><td>19.3</td><td>NA</td><td>NA</td><td>NA</td><td>NA</td><td>1,11179199911999E+030</td><td>2</td></tr>\n",
       "\t<tr><td>62443</td><td>2005-01-01T00:36:33Z</td><td>50.7451</td><td>1.5696</td><td>8.80</td><td>0</td><td>NA</td><td>75.95</td><td>NA</td><td>NA</td><td>⋯</td><td>8.11</td><td>NA</td><td>NA</td><td>19.8</td><td>NA</td><td>NA</td><td>NA</td><td>NA</td><td>1,11179199911999E+030</td><td>2</td></tr>\n",
       "\t<tr><td>62443</td><td>2005-01-01T00:56:32Z</td><td>50.7451</td><td>1.5696</td><td>8.81</td><td>0</td><td>NA</td><td>77.94</td><td>NA</td><td>NA</td><td>⋯</td><td>8.10</td><td>NA</td><td>NA</td><td>11.9</td><td>NA</td><td>NA</td><td>NA</td><td>NA</td><td>1,11179199911999E+030</td><td>2</td></tr>\n",
       "\t<tr><td>62443</td><td>2005-01-01T01:16:32Z</td><td>50.7451</td><td>1.5696</td><td>8.75</td><td>0</td><td>NA</td><td>79.28</td><td>NA</td><td>NA</td><td>⋯</td><td>8.12</td><td>NA</td><td>NA</td><td> 9.4</td><td>NA</td><td>NA</td><td>NA</td><td>NA</td><td>1,11179199911999E+030</td><td>2</td></tr>\n",
       "\t<tr><td>62443</td><td>2005-01-01T01:36:32Z</td><td>50.7451</td><td>1.5696</td><td>8.85</td><td>0</td><td>NA</td><td>82.06</td><td>NA</td><td>NA</td><td>⋯</td><td>8.11</td><td>NA</td><td>NA</td><td> 7.5</td><td>NA</td><td>NA</td><td>NA</td><td>NA</td><td>1,11179199911999E+030</td><td>2</td></tr>\n",
       "\t<tr><td>62443</td><td>2005-01-01T02:16:33Z</td><td>50.7451</td><td>1.5696</td><td>8.86</td><td>0</td><td>NA</td><td>86.12</td><td>NA</td><td>NA</td><td>⋯</td><td>8.10</td><td>NA</td><td>NA</td><td> 7.3</td><td>NA</td><td>NA</td><td>NA</td><td>NA</td><td>1,11179199911999E+030</td><td>2</td></tr>\n",
       "</tbody>\n",
       "</table>\n"
      ],
      "text/latex": [
       "A data.frame: 6 × 34\n",
       "\\begin{tabular}{r|llllllllllllllllllllllllllllllllll}\n",
       " PLATFORM & DATE..yyyy.mm.ddThh.mi.ssZ. & LATITUDE..degree\\_north. & LONGITUDE..degree\\_east. & DRYT.LEVEL0..degree\\_Celsius. & DEPH.LEVEL0..meter. & GSPD.LEVEL0..meter.second. & RELH.LEVEL0.... & SLEV.LEVEL0..meter. & WDIR.LEVEL0..degree. & WSPD.LEVEL0..meter.second. & TEMP.LEVEL1..degree\\_Celsius. & PSAL.LEVEL1..psu. & BATTERY.LEVEL1..volt. & CNDC.LEVEL1..S.m. & DEPH.LEVEL1..meter. & DOX1.LEVEL1..ml.l. & END\\_CYCLE\\_FLOW.LEVEL1..l.minute. & FLU3.LEVEL1..FFU. & LGH4.LEVEL1..micromole.photon..m2.s.. & MASS\\_DOXY.LEVEL1..milligram.m3. & NTRZ.LEVEL1..millimole.m3. & OSAT.LEVEL1.... & PHOS.LEVEL1..millimole.m3. & PHPH.LEVEL1..none. & SLCA.LEVEL1..millimole.m3. & START\\_CYCLE\\_FLOW.LEVEL1..l.minute. & TUR4.LEVEL1..ntu. & DEPH.LEVEL2..meter. & NTRZ.LEVEL2..millimole.m3. & PHOS.LEVEL2..millimole.m3. & SLCA.LEVEL2..millimole.m3. & QC & MAREL\\_DATASTATE\\_1\\\\\n",
       " <int> & <fct> & <dbl> & <dbl> & <dbl> & <int> & <lgl> & <dbl> & <dbl> & <lgl> & <lgl> & <dbl> & <dbl> & <lgl> & <lgl> & <int> & <dbl> & <lgl> & <dbl> & <dbl> & <lgl> & <dbl> & <lgl> & <dbl> & <dbl> & <dbl> & <lgl> & <dbl> & <lgl> & <lgl> & <lgl> & <lgl> & <fct> & <int>\\\\\n",
       "\\hline\n",
       "\t 62443 & 2005-01-01T00:16:33Z & 50.7451 & 1.5696 & 8.53 & 0 & NA & 75.66 & NA & NA & NA & 8.2 & 33.13 & NA & NA & NA & 6.63410 & NA & 0.94 & 0 & NA &    NA & NA &    NA & 8.13 & NA & NA & 19.3 & NA & NA & NA & NA & 1,11179199911999E+030 & 2\\\\\n",
       "\t 62443 & 2005-01-01T00:36:33Z & 50.7451 & 1.5696 & 8.80 & 0 & NA & 75.95 & NA & NA & NA & 8.1 & 33.22 & NA & NA & NA & 6.60611 & NA & 1.33 & 0 & NA & 20.97 & NA &    NA & 8.11 & NA & NA & 19.8 & NA & NA & NA & NA & 1,11179199911999E+030 & 2\\\\\n",
       "\t 62443 & 2005-01-01T00:56:32Z & 50.7451 & 1.5696 & 8.81 & 0 & NA & 77.94 & NA & NA & NA & 8.1 & 33.13 & NA & NA & NA & 6.62011 & NA & 0.80 & 0 & NA & 16.16 & NA &    NA & 8.10 & NA & NA & 11.9 & NA & NA & NA & NA & 1,11179199911999E+030 & 2\\\\\n",
       "\t 62443 & 2005-01-01T01:16:32Z & 50.7451 & 1.5696 & 8.75 & 0 & NA & 79.28 & NA & NA & NA & 8.1 & 33.19 & NA & NA & NA & 6.43816 & NA & 1.27 & 0 & NA &    NA & NA &    NA & 8.12 & NA & NA &  9.4 & NA & NA & NA & NA & 1,11179199911999E+030 & 2\\\\\n",
       "\t 62443 & 2005-01-01T01:36:32Z & 50.7451 & 1.5696 & 8.85 & 0 & NA & 82.06 & NA & NA & NA & 8.1 & 32.96 & NA & NA & NA & 6.45216 & NA & 0.68 & 0 & NA &    NA & NA & -0.84 & 8.11 & NA & NA &  7.5 & NA & NA & NA & NA & 1,11179199911999E+030 & 2\\\\\n",
       "\t 62443 & 2005-01-01T02:16:33Z & 50.7451 & 1.5696 & 8.86 & 0 & NA & 86.12 & NA & NA & NA & 8.1 & 33.07 & NA & NA & NA & 6.54313 & NA & 0.79 & 0 & NA &    NA & NA &    NA & 8.10 & NA & NA &  7.3 & NA & NA & NA & NA & 1,11179199911999E+030 & 2\\\\\n",
       "\\end{tabular}\n"
      ],
      "text/markdown": [
       "\n",
       "A data.frame: 6 × 34\n",
       "\n",
       "| PLATFORM &lt;int&gt; | DATE..yyyy.mm.ddThh.mi.ssZ. &lt;fct&gt; | LATITUDE..degree_north. &lt;dbl&gt; | LONGITUDE..degree_east. &lt;dbl&gt; | DRYT.LEVEL0..degree_Celsius. &lt;dbl&gt; | DEPH.LEVEL0..meter. &lt;int&gt; | GSPD.LEVEL0..meter.second. &lt;lgl&gt; | RELH.LEVEL0.... &lt;dbl&gt; | SLEV.LEVEL0..meter. &lt;dbl&gt; | WDIR.LEVEL0..degree. &lt;lgl&gt; | ⋯ ⋯ | PHPH.LEVEL1..none. &lt;dbl&gt; | SLCA.LEVEL1..millimole.m3. &lt;dbl&gt; | START_CYCLE_FLOW.LEVEL1..l.minute. &lt;lgl&gt; | TUR4.LEVEL1..ntu. &lt;dbl&gt; | DEPH.LEVEL2..meter. &lt;lgl&gt; | NTRZ.LEVEL2..millimole.m3. &lt;lgl&gt; | PHOS.LEVEL2..millimole.m3. &lt;lgl&gt; | SLCA.LEVEL2..millimole.m3. &lt;lgl&gt; | QC &lt;fct&gt; | MAREL_DATASTATE_1 &lt;int&gt; |\n",
       "|---|---|---|---|---|---|---|---|---|---|---|---|---|---|---|---|---|---|---|---|---|\n",
       "| 62443 | 2005-01-01T00:16:33Z | 50.7451 | 1.5696 | 8.53 | 0 | NA | 75.66 | NA | NA | ⋯ | 8.13 | NA | NA | 19.3 | NA | NA | NA | NA | 1,11179199911999E+030 | 2 |\n",
       "| 62443 | 2005-01-01T00:36:33Z | 50.7451 | 1.5696 | 8.80 | 0 | NA | 75.95 | NA | NA | ⋯ | 8.11 | NA | NA | 19.8 | NA | NA | NA | NA | 1,11179199911999E+030 | 2 |\n",
       "| 62443 | 2005-01-01T00:56:32Z | 50.7451 | 1.5696 | 8.81 | 0 | NA | 77.94 | NA | NA | ⋯ | 8.10 | NA | NA | 11.9 | NA | NA | NA | NA | 1,11179199911999E+030 | 2 |\n",
       "| 62443 | 2005-01-01T01:16:32Z | 50.7451 | 1.5696 | 8.75 | 0 | NA | 79.28 | NA | NA | ⋯ | 8.12 | NA | NA |  9.4 | NA | NA | NA | NA | 1,11179199911999E+030 | 2 |\n",
       "| 62443 | 2005-01-01T01:36:32Z | 50.7451 | 1.5696 | 8.85 | 0 | NA | 82.06 | NA | NA | ⋯ | 8.11 | NA | NA |  7.5 | NA | NA | NA | NA | 1,11179199911999E+030 | 2 |\n",
       "| 62443 | 2005-01-01T02:16:33Z | 50.7451 | 1.5696 | 8.86 | 0 | NA | 86.12 | NA | NA | ⋯ | 8.10 | NA | NA |  7.3 | NA | NA | NA | NA | 1,11179199911999E+030 | 2 |\n",
       "\n"
      ],
      "text/plain": [
       "  PLATFORM DATE..yyyy.mm.ddThh.mi.ssZ. LATITUDE..degree_north.\n",
       "1 62443    2005-01-01T00:16:33Z        50.7451                \n",
       "2 62443    2005-01-01T00:36:33Z        50.7451                \n",
       "3 62443    2005-01-01T00:56:32Z        50.7451                \n",
       "4 62443    2005-01-01T01:16:32Z        50.7451                \n",
       "5 62443    2005-01-01T01:36:32Z        50.7451                \n",
       "6 62443    2005-01-01T02:16:33Z        50.7451                \n",
       "  LONGITUDE..degree_east. DRYT.LEVEL0..degree_Celsius. DEPH.LEVEL0..meter.\n",
       "1 1.5696                  8.53                         0                  \n",
       "2 1.5696                  8.80                         0                  \n",
       "3 1.5696                  8.81                         0                  \n",
       "4 1.5696                  8.75                         0                  \n",
       "5 1.5696                  8.85                         0                  \n",
       "6 1.5696                  8.86                         0                  \n",
       "  GSPD.LEVEL0..meter.second. RELH.LEVEL0.... SLEV.LEVEL0..meter.\n",
       "1 NA                         75.66           NA                 \n",
       "2 NA                         75.95           NA                 \n",
       "3 NA                         77.94           NA                 \n",
       "4 NA                         79.28           NA                 \n",
       "5 NA                         82.06           NA                 \n",
       "6 NA                         86.12           NA                 \n",
       "  WDIR.LEVEL0..degree. ⋯ PHPH.LEVEL1..none. SLCA.LEVEL1..millimole.m3.\n",
       "1 NA                   ⋯ 8.13               NA                        \n",
       "2 NA                   ⋯ 8.11               NA                        \n",
       "3 NA                   ⋯ 8.10               NA                        \n",
       "4 NA                   ⋯ 8.12               NA                        \n",
       "5 NA                   ⋯ 8.11               NA                        \n",
       "6 NA                   ⋯ 8.10               NA                        \n",
       "  START_CYCLE_FLOW.LEVEL1..l.minute. TUR4.LEVEL1..ntu. DEPH.LEVEL2..meter.\n",
       "1 NA                                 19.3              NA                 \n",
       "2 NA                                 19.8              NA                 \n",
       "3 NA                                 11.9              NA                 \n",
       "4 NA                                  9.4              NA                 \n",
       "5 NA                                  7.5              NA                 \n",
       "6 NA                                  7.3              NA                 \n",
       "  NTRZ.LEVEL2..millimole.m3. PHOS.LEVEL2..millimole.m3.\n",
       "1 NA                         NA                        \n",
       "2 NA                         NA                        \n",
       "3 NA                         NA                        \n",
       "4 NA                         NA                        \n",
       "5 NA                         NA                        \n",
       "6 NA                         NA                        \n",
       "  SLCA.LEVEL2..millimole.m3. QC                    MAREL_DATASTATE_1\n",
       "1 NA                         1,11179199911999E+030 2                \n",
       "2 NA                         1,11179199911999E+030 2                \n",
       "3 NA                         1,11179199911999E+030 2                \n",
       "4 NA                         1,11179199911999E+030 2                \n",
       "5 NA                         1,11179199911999E+030 2                \n",
       "6 NA                         1,11179199911999E+030 2                "
      ]
     },
     "metadata": {},
     "output_type": "display_data"
    }
   ],
   "source": [
    "df <- read.csv(file=\"data/DataTest_Carnot_2005.csv\", header=TRUE, sep=\",\" ,dec=\".\")\n",
    "df=df[,-1]\n",
    "head(df)"
   ]
  },
  {
   "cell_type": "markdown",
   "metadata": {},
   "source": [
    "### Types des variables"
   ]
  },
  {
   "cell_type": "code",
   "execution_count": 2,
   "metadata": {},
   "outputs": [
    {
     "data": {
      "text/html": [
       "<ol class=list-inline>\n",
       "\t<li>'integer'</li>\n",
       "\t<li>'factor'</li>\n",
       "\t<li>'numeric'</li>\n",
       "\t<li>'logical'</li>\n",
       "</ol>\n"
      ],
      "text/latex": [
       "\\begin{enumerate*}\n",
       "\\item 'integer'\n",
       "\\item 'factor'\n",
       "\\item 'numeric'\n",
       "\\item 'logical'\n",
       "\\end{enumerate*}\n"
      ],
      "text/markdown": [
       "1. 'integer'\n",
       "2. 'factor'\n",
       "3. 'numeric'\n",
       "4. 'logical'\n",
       "\n",
       "\n"
      ],
      "text/plain": [
       "[1] \"integer\" \"factor\"  \"numeric\" \"logical\""
      ]
     },
     "metadata": {},
     "output_type": "display_data"
    }
   ],
   "source": [
    "data.type = sapply(df,class)\n",
    "unique(data.type)"
   ]
  },
  {
   "cell_type": "markdown",
   "metadata": {},
   "source": [
    "### Nombre de lignes"
   ]
  },
  {
   "cell_type": "code",
   "execution_count": 3,
   "metadata": {},
   "outputs": [
    {
     "data": {
      "text/html": [
       "21419"
      ],
      "text/latex": [
       "21419"
      ],
      "text/markdown": [
       "21419"
      ],
      "text/plain": [
       "[1] 21419"
      ]
     },
     "metadata": {},
     "output_type": "display_data"
    }
   ],
   "source": [
    "nrow(df)"
   ]
  },
  {
   "cell_type": "markdown",
   "metadata": {},
   "source": [
    "### Nombre de colonnes"
   ]
  },
  {
   "cell_type": "code",
   "execution_count": 4,
   "metadata": {},
   "outputs": [
    {
     "data": {
      "text/html": [
       "34"
      ],
      "text/latex": [
       "34"
      ],
      "text/markdown": [
       "34"
      ],
      "text/plain": [
       "[1] 34"
      ]
     },
     "metadata": {},
     "output_type": "display_data"
    }
   ],
   "source": [
    "ncol(df)"
   ]
  },
  {
   "cell_type": "markdown",
   "metadata": {},
   "source": [
    "### Nom des variables"
   ]
  },
  {
   "cell_type": "code",
   "execution_count": 5,
   "metadata": {},
   "outputs": [
    {
     "data": {
      "text/html": [
       "<ol class=list-inline>\n",
       "\t<li>'PLATFORM'</li>\n",
       "\t<li>'DATE..yyyy.mm.ddThh.mi.ssZ.'</li>\n",
       "\t<li>'LATITUDE..degree_north.'</li>\n",
       "\t<li>'LONGITUDE..degree_east.'</li>\n",
       "\t<li>'DRYT.LEVEL0..degree_Celsius.'</li>\n",
       "\t<li>'DEPH.LEVEL0..meter.'</li>\n",
       "\t<li>'GSPD.LEVEL0..meter.second.'</li>\n",
       "\t<li>'RELH.LEVEL0....'</li>\n",
       "\t<li>'SLEV.LEVEL0..meter.'</li>\n",
       "\t<li>'WDIR.LEVEL0..degree.'</li>\n",
       "\t<li>'WSPD.LEVEL0..meter.second.'</li>\n",
       "\t<li>'TEMP.LEVEL1..degree_Celsius.'</li>\n",
       "\t<li>'PSAL.LEVEL1..psu.'</li>\n",
       "\t<li>'BATTERY.LEVEL1..volt.'</li>\n",
       "\t<li>'CNDC.LEVEL1..S.m.'</li>\n",
       "\t<li>'DEPH.LEVEL1..meter.'</li>\n",
       "\t<li>'DOX1.LEVEL1..ml.l.'</li>\n",
       "\t<li>'END_CYCLE_FLOW.LEVEL1..l.minute.'</li>\n",
       "\t<li>'FLU3.LEVEL1..FFU.'</li>\n",
       "\t<li>'LGH4.LEVEL1..micromole.photon..m2.s..'</li>\n",
       "\t<li>'MASS_DOXY.LEVEL1..milligram.m3.'</li>\n",
       "\t<li>'NTRZ.LEVEL1..millimole.m3.'</li>\n",
       "\t<li>'OSAT.LEVEL1....'</li>\n",
       "\t<li>'PHOS.LEVEL1..millimole.m3.'</li>\n",
       "\t<li>'PHPH.LEVEL1..none.'</li>\n",
       "\t<li>'SLCA.LEVEL1..millimole.m3.'</li>\n",
       "\t<li>'START_CYCLE_FLOW.LEVEL1..l.minute.'</li>\n",
       "\t<li>'TUR4.LEVEL1..ntu.'</li>\n",
       "\t<li>'DEPH.LEVEL2..meter.'</li>\n",
       "\t<li>'NTRZ.LEVEL2..millimole.m3.'</li>\n",
       "\t<li>'PHOS.LEVEL2..millimole.m3.'</li>\n",
       "\t<li>'SLCA.LEVEL2..millimole.m3.'</li>\n",
       "\t<li>'QC'</li>\n",
       "\t<li>'MAREL_DATASTATE_1'</li>\n",
       "</ol>\n"
      ],
      "text/latex": [
       "\\begin{enumerate*}\n",
       "\\item 'PLATFORM'\n",
       "\\item 'DATE..yyyy.mm.ddThh.mi.ssZ.'\n",
       "\\item 'LATITUDE..degree\\_north.'\n",
       "\\item 'LONGITUDE..degree\\_east.'\n",
       "\\item 'DRYT.LEVEL0..degree\\_Celsius.'\n",
       "\\item 'DEPH.LEVEL0..meter.'\n",
       "\\item 'GSPD.LEVEL0..meter.second.'\n",
       "\\item 'RELH.LEVEL0....'\n",
       "\\item 'SLEV.LEVEL0..meter.'\n",
       "\\item 'WDIR.LEVEL0..degree.'\n",
       "\\item 'WSPD.LEVEL0..meter.second.'\n",
       "\\item 'TEMP.LEVEL1..degree\\_Celsius.'\n",
       "\\item 'PSAL.LEVEL1..psu.'\n",
       "\\item 'BATTERY.LEVEL1..volt.'\n",
       "\\item 'CNDC.LEVEL1..S.m.'\n",
       "\\item 'DEPH.LEVEL1..meter.'\n",
       "\\item 'DOX1.LEVEL1..ml.l.'\n",
       "\\item 'END\\_CYCLE\\_FLOW.LEVEL1..l.minute.'\n",
       "\\item 'FLU3.LEVEL1..FFU.'\n",
       "\\item 'LGH4.LEVEL1..micromole.photon..m2.s..'\n",
       "\\item 'MASS\\_DOXY.LEVEL1..milligram.m3.'\n",
       "\\item 'NTRZ.LEVEL1..millimole.m3.'\n",
       "\\item 'OSAT.LEVEL1....'\n",
       "\\item 'PHOS.LEVEL1..millimole.m3.'\n",
       "\\item 'PHPH.LEVEL1..none.'\n",
       "\\item 'SLCA.LEVEL1..millimole.m3.'\n",
       "\\item 'START\\_CYCLE\\_FLOW.LEVEL1..l.minute.'\n",
       "\\item 'TUR4.LEVEL1..ntu.'\n",
       "\\item 'DEPH.LEVEL2..meter.'\n",
       "\\item 'NTRZ.LEVEL2..millimole.m3.'\n",
       "\\item 'PHOS.LEVEL2..millimole.m3.'\n",
       "\\item 'SLCA.LEVEL2..millimole.m3.'\n",
       "\\item 'QC'\n",
       "\\item 'MAREL\\_DATASTATE\\_1'\n",
       "\\end{enumerate*}\n"
      ],
      "text/markdown": [
       "1. 'PLATFORM'\n",
       "2. 'DATE..yyyy.mm.ddThh.mi.ssZ.'\n",
       "3. 'LATITUDE..degree_north.'\n",
       "4. 'LONGITUDE..degree_east.'\n",
       "5. 'DRYT.LEVEL0..degree_Celsius.'\n",
       "6. 'DEPH.LEVEL0..meter.'\n",
       "7. 'GSPD.LEVEL0..meter.second.'\n",
       "8. 'RELH.LEVEL0....'\n",
       "9. 'SLEV.LEVEL0..meter.'\n",
       "10. 'WDIR.LEVEL0..degree.'\n",
       "11. 'WSPD.LEVEL0..meter.second.'\n",
       "12. 'TEMP.LEVEL1..degree_Celsius.'\n",
       "13. 'PSAL.LEVEL1..psu.'\n",
       "14. 'BATTERY.LEVEL1..volt.'\n",
       "15. 'CNDC.LEVEL1..S.m.'\n",
       "16. 'DEPH.LEVEL1..meter.'\n",
       "17. 'DOX1.LEVEL1..ml.l.'\n",
       "18. 'END_CYCLE_FLOW.LEVEL1..l.minute.'\n",
       "19. 'FLU3.LEVEL1..FFU.'\n",
       "20. 'LGH4.LEVEL1..micromole.photon..m2.s..'\n",
       "21. 'MASS_DOXY.LEVEL1..milligram.m3.'\n",
       "22. 'NTRZ.LEVEL1..millimole.m3.'\n",
       "23. 'OSAT.LEVEL1....'\n",
       "24. 'PHOS.LEVEL1..millimole.m3.'\n",
       "25. 'PHPH.LEVEL1..none.'\n",
       "26. 'SLCA.LEVEL1..millimole.m3.'\n",
       "27. 'START_CYCLE_FLOW.LEVEL1..l.minute.'\n",
       "28. 'TUR4.LEVEL1..ntu.'\n",
       "29. 'DEPH.LEVEL2..meter.'\n",
       "30. 'NTRZ.LEVEL2..millimole.m3.'\n",
       "31. 'PHOS.LEVEL2..millimole.m3.'\n",
       "32. 'SLCA.LEVEL2..millimole.m3.'\n",
       "33. 'QC'\n",
       "34. 'MAREL_DATASTATE_1'\n",
       "\n",
       "\n"
      ],
      "text/plain": [
       " [1] \"PLATFORM\"                             \n",
       " [2] \"DATE..yyyy.mm.ddThh.mi.ssZ.\"          \n",
       " [3] \"LATITUDE..degree_north.\"              \n",
       " [4] \"LONGITUDE..degree_east.\"              \n",
       " [5] \"DRYT.LEVEL0..degree_Celsius.\"         \n",
       " [6] \"DEPH.LEVEL0..meter.\"                  \n",
       " [7] \"GSPD.LEVEL0..meter.second.\"           \n",
       " [8] \"RELH.LEVEL0....\"                      \n",
       " [9] \"SLEV.LEVEL0..meter.\"                  \n",
       "[10] \"WDIR.LEVEL0..degree.\"                 \n",
       "[11] \"WSPD.LEVEL0..meter.second.\"           \n",
       "[12] \"TEMP.LEVEL1..degree_Celsius.\"         \n",
       "[13] \"PSAL.LEVEL1..psu.\"                    \n",
       "[14] \"BATTERY.LEVEL1..volt.\"                \n",
       "[15] \"CNDC.LEVEL1..S.m.\"                    \n",
       "[16] \"DEPH.LEVEL1..meter.\"                  \n",
       "[17] \"DOX1.LEVEL1..ml.l.\"                   \n",
       "[18] \"END_CYCLE_FLOW.LEVEL1..l.minute.\"     \n",
       "[19] \"FLU3.LEVEL1..FFU.\"                    \n",
       "[20] \"LGH4.LEVEL1..micromole.photon..m2.s..\"\n",
       "[21] \"MASS_DOXY.LEVEL1..milligram.m3.\"      \n",
       "[22] \"NTRZ.LEVEL1..millimole.m3.\"           \n",
       "[23] \"OSAT.LEVEL1....\"                      \n",
       "[24] \"PHOS.LEVEL1..millimole.m3.\"           \n",
       "[25] \"PHPH.LEVEL1..none.\"                   \n",
       "[26] \"SLCA.LEVEL1..millimole.m3.\"           \n",
       "[27] \"START_CYCLE_FLOW.LEVEL1..l.minute.\"   \n",
       "[28] \"TUR4.LEVEL1..ntu.\"                    \n",
       "[29] \"DEPH.LEVEL2..meter.\"                  \n",
       "[30] \"NTRZ.LEVEL2..millimole.m3.\"           \n",
       "[31] \"PHOS.LEVEL2..millimole.m3.\"           \n",
       "[32] \"SLCA.LEVEL2..millimole.m3.\"           \n",
       "[33] \"QC\"                                   \n",
       "[34] \"MAREL_DATASTATE_1\"                    "
      ]
     },
     "metadata": {},
     "output_type": "display_data"
    }
   ],
   "source": [
    "names(df)"
   ]
  },
  {
   "cell_type": "markdown",
   "metadata": {},
   "source": [
    "### Statistiques générales"
   ]
  },
  {
   "cell_type": "code",
   "execution_count": 6,
   "metadata": {},
   "outputs": [
    {
     "data": {
      "text/plain": [
       "    PLATFORM           DATE..yyyy.mm.ddThh.mi.ssZ. LATITUDE..degree_north.\n",
       " Min.   :62443   2005-01-01T00:16:33Z:    1        Min.   :50.75          \n",
       " 1st Qu.:62443   2005-01-01T00:36:33Z:    1        1st Qu.:50.75          \n",
       " Median :62443   2005-01-01T00:56:32Z:    1        Median :50.75          \n",
       " Mean   :62443   2005-01-01T01:16:32Z:    1        Mean   :50.75          \n",
       " 3rd Qu.:62443   2005-01-01T01:36:32Z:    1        3rd Qu.:50.75          \n",
       " Max.   :62443   2005-01-01T02:16:33Z:    1        Max.   :50.75          \n",
       "                 (Other)             :21413                               \n",
       " LONGITUDE..degree_east. DRYT.LEVEL0..degree_Celsius. DEPH.LEVEL0..meter.\n",
       " Min.   :1.57            Min.   :-3.02                Min.   :0          \n",
       " 1st Qu.:1.57            1st Qu.: 8.00                1st Qu.:0          \n",
       " Median :1.57            Median :12.35                Median :0          \n",
       " Mean   :1.57            Mean   :12.16                Mean   :0          \n",
       " 3rd Qu.:1.57            3rd Qu.:16.22                3rd Qu.:0          \n",
       " Max.   :1.57            Max.   :77.77                Max.   :0          \n",
       "                         NA's   :570                  NA's   :569        \n",
       " GSPD.LEVEL0..meter.second. RELH.LEVEL0.... SLEV.LEVEL0..meter.\n",
       " Mode:logical               Min.   :36.29   Min.   :-15.09     \n",
       " NA's:21419                 1st Qu.:73.55   1st Qu.:  8.33     \n",
       "                            Median :81.35   Median : 10.64     \n",
       "                            Mean   :80.10   Mean   : 10.89     \n",
       "                            3rd Qu.:88.00   3rd Qu.: 12.74     \n",
       "                            Max.   :98.13   Max.   : 77.77     \n",
       "                            NA's   :570     NA's   :3128       \n",
       " WDIR.LEVEL0..degree. WSPD.LEVEL0..meter.second. TEMP.LEVEL1..degree_Celsius.\n",
       " Mode:logical         Mode:logical               Min.   : 3.60               \n",
       " NA's:21419           NA's:21419                 1st Qu.: 8.00               \n",
       "                                                 Median :12.20               \n",
       "                                                 Mean   :12.37               \n",
       "                                                 3rd Qu.:16.80               \n",
       "                                                 Max.   :20.40               \n",
       "                                                 NA's   :211                 \n",
       " PSAL.LEVEL1..psu. BATTERY.LEVEL1..volt. CNDC.LEVEL1..S.m. DEPH.LEVEL1..meter.\n",
       " Min.   : 0.32     Mode:logical          Mode:logical      Min.   :3          \n",
       " 1st Qu.:33.47     NA's:21419            NA's:21419        1st Qu.:3          \n",
       " Median :33.79                                             Median :3          \n",
       " Mean   :33.69                                             Mean   :3          \n",
       " 3rd Qu.:34.09                                             3rd Qu.:3          \n",
       " Max.   :34.69                                             Max.   :3          \n",
       " NA's   :211                                               NA's   :20850      \n",
       " DOX1.LEVEL1..ml.l. END_CYCLE_FLOW.LEVEL1..l.minute. FLU3.LEVEL1..FFU.\n",
       " Min.   : 3.079     Mode:logical                     Min.   :0.000    \n",
       " 1st Qu.: 4.367     NA's:21419                       1st Qu.:0.420    \n",
       " Median : 5.913                                      Median :0.820    \n",
       " Mean   : 5.760                                      Mean   :1.319    \n",
       " 3rd Qu.: 6.739                                      3rd Qu.:1.770    \n",
       " Max.   :11.393                                      Max.   :9.890    \n",
       " NA's   :811                                         NA's   :182      \n",
       " LGH4.LEVEL1..micromole.photon..m2.s.. MASS_DOXY.LEVEL1..milligram.m3.\n",
       " Min.   :  -0.9                        Mode:logical                   \n",
       " 1st Qu.:   0.0                        NA's:21419                     \n",
       " Median :   8.1                                                       \n",
       " Mean   : 274.9                                                       \n",
       " 3rd Qu.: 391.4                                                       \n",
       " Max.   :2358.9                                                       \n",
       " NA's   :571                                                          \n",
       " NTRZ.LEVEL1..millimole.m3. OSAT.LEVEL1.... PHOS.LEVEL1..millimole.m3.\n",
       " Min.   :-4442.500          Mode:logical    Min.   :-224.290          \n",
       " 1st Qu.:    3.377          NA's:21419      1st Qu.:   0.228          \n",
       " Median :    5.705                          Median :   0.630          \n",
       " Mean   :   14.297                          Mean   :  -0.337          \n",
       " 3rd Qu.:   14.480                          3rd Qu.:   1.062          \n",
       " Max.   : 7002.830                          Max.   : 403.000          \n",
       " NA's   :20677                              NA's   :20715             \n",
       " PHPH.LEVEL1..none. SLCA.LEVEL1..millimole.m3.\n",
       " Min.   :-0.110     Min.   :-7922.600         \n",
       " 1st Qu.: 8.520     1st Qu.:    0.865         \n",
       " Median : 8.840     Median :    1.900         \n",
       " Mean   : 8.989     Mean   :    6.826         \n",
       " 3rd Qu.: 9.150     3rd Qu.:    4.085         \n",
       " Max.   :15.760     Max.   :10561.000         \n",
       " NA's   :4368       NA's   :20760             \n",
       " START_CYCLE_FLOW.LEVEL1..l.minute. TUR4.LEVEL1..ntu.   DEPH.LEVEL2..meter.\n",
       " Mode:logical                       Min.   :-2539.500   Mode:logical       \n",
       " NA's:21419                         1st Qu.:    3.700   NA's:21419         \n",
       "                                    Median :    5.400                      \n",
       "                                    Mean   :    9.742                      \n",
       "                                    3rd Qu.:    9.800                      \n",
       "                                    Max.   :  842.100                      \n",
       "                                    NA's   :250                            \n",
       " NTRZ.LEVEL2..millimole.m3. PHOS.LEVEL2..millimole.m3.\n",
       " Mode:logical               Mode:logical              \n",
       " NA's:21419                 NA's:21419                \n",
       "                                                      \n",
       "                                                      \n",
       "                                                      \n",
       "                                                      \n",
       "                                                      \n",
       " SLCA.LEVEL2..millimole.m3.                     QC        MAREL_DATASTATE_1\n",
       " Mode:logical               1,11179119911999E+030:12882   Min.   :2        \n",
       " NA's:21419                 1,11179149911999E+030: 4084   1st Qu.:2        \n",
       "                            1,11179199911999E+030: 2557   Median :2        \n",
       "                            1,11179119912E+030   :  523   Mean   :2        \n",
       "                            1,11999999911997E+030:  522   3rd Qu.:2        \n",
       "                            1,11179139911999E+030:  460   Max.   :2        \n",
       "                            (Other)              :  391                    "
      ]
     },
     "metadata": {},
     "output_type": "display_data"
    }
   ],
   "source": [
    "summary(df)"
   ]
  },
  {
   "cell_type": "markdown",
   "metadata": {},
   "source": [
    "## 2. Homogénéisation"
   ]
  },
  {
   "cell_type": "code",
   "execution_count": 7,
   "metadata": {},
   "outputs": [],
   "source": [
    "source('Fonction_Homogeneisation.r')"
   ]
  },
  {
   "cell_type": "markdown",
   "metadata": {},
   "source": [
    "### Formatage de la colonne temps"
   ]
  },
  {
   "cell_type": "code",
   "execution_count": 8,
   "metadata": {},
   "outputs": [
    {
     "data": {
      "text/html": [
       "<table>\n",
       "<caption>A data.frame: 6 × 34</caption>\n",
       "<thead>\n",
       "\t<tr><th scope=col>PLATFORM</th><th scope=col>LATITUDE..degree_north.</th><th scope=col>LONGITUDE..degree_east.</th><th scope=col>DRYT.LEVEL0..degree_Celsius.</th><th scope=col>DEPH.LEVEL0..meter.</th><th scope=col>GSPD.LEVEL0..meter.second.</th><th scope=col>RELH.LEVEL0....</th><th scope=col>SLEV.LEVEL0..meter.</th><th scope=col>WDIR.LEVEL0..degree.</th><th scope=col>WSPD.LEVEL0..meter.second.</th><th scope=col>⋯</th><th scope=col>SLCA.LEVEL1..millimole.m3.</th><th scope=col>START_CYCLE_FLOW.LEVEL1..l.minute.</th><th scope=col>TUR4.LEVEL1..ntu.</th><th scope=col>DEPH.LEVEL2..meter.</th><th scope=col>NTRZ.LEVEL2..millimole.m3.</th><th scope=col>PHOS.LEVEL2..millimole.m3.</th><th scope=col>SLCA.LEVEL2..millimole.m3.</th><th scope=col>QC</th><th scope=col>MAREL_DATASTATE_1</th><th scope=col>temps</th></tr>\n",
       "\t<tr><th scope=col>&lt;int&gt;</th><th scope=col>&lt;dbl&gt;</th><th scope=col>&lt;dbl&gt;</th><th scope=col>&lt;dbl&gt;</th><th scope=col>&lt;int&gt;</th><th scope=col>&lt;lgl&gt;</th><th scope=col>&lt;dbl&gt;</th><th scope=col>&lt;dbl&gt;</th><th scope=col>&lt;lgl&gt;</th><th scope=col>&lt;lgl&gt;</th><th scope=col>⋯</th><th scope=col>&lt;dbl&gt;</th><th scope=col>&lt;lgl&gt;</th><th scope=col>&lt;dbl&gt;</th><th scope=col>&lt;lgl&gt;</th><th scope=col>&lt;lgl&gt;</th><th scope=col>&lt;lgl&gt;</th><th scope=col>&lt;lgl&gt;</th><th scope=col>&lt;fct&gt;</th><th scope=col>&lt;int&gt;</th><th scope=col>&lt;dttm&gt;</th></tr>\n",
       "</thead>\n",
       "<tbody>\n",
       "\t<tr><td>62443</td><td>50.7451</td><td>1.5696</td><td>8.53</td><td>0</td><td>NA</td><td>75.66</td><td>NA</td><td>NA</td><td>NA</td><td>⋯</td><td>NA</td><td>NA</td><td>19.3</td><td>NA</td><td>NA</td><td>NA</td><td>NA</td><td>1,11179199911999E+030</td><td>2</td><td>2005-01-01 00:16:33</td></tr>\n",
       "\t<tr><td>62443</td><td>50.7451</td><td>1.5696</td><td>8.80</td><td>0</td><td>NA</td><td>75.95</td><td>NA</td><td>NA</td><td>NA</td><td>⋯</td><td>NA</td><td>NA</td><td>19.8</td><td>NA</td><td>NA</td><td>NA</td><td>NA</td><td>1,11179199911999E+030</td><td>2</td><td>2005-01-01 00:36:33</td></tr>\n",
       "\t<tr><td>62443</td><td>50.7451</td><td>1.5696</td><td>8.81</td><td>0</td><td>NA</td><td>77.94</td><td>NA</td><td>NA</td><td>NA</td><td>⋯</td><td>NA</td><td>NA</td><td>11.9</td><td>NA</td><td>NA</td><td>NA</td><td>NA</td><td>1,11179199911999E+030</td><td>2</td><td>2005-01-01 00:56:32</td></tr>\n",
       "\t<tr><td>62443</td><td>50.7451</td><td>1.5696</td><td>8.75</td><td>0</td><td>NA</td><td>79.28</td><td>NA</td><td>NA</td><td>NA</td><td>⋯</td><td>NA</td><td>NA</td><td> 9.4</td><td>NA</td><td>NA</td><td>NA</td><td>NA</td><td>1,11179199911999E+030</td><td>2</td><td>2005-01-01 01:16:32</td></tr>\n",
       "\t<tr><td>62443</td><td>50.7451</td><td>1.5696</td><td>8.85</td><td>0</td><td>NA</td><td>82.06</td><td>NA</td><td>NA</td><td>NA</td><td>⋯</td><td>NA</td><td>NA</td><td> 7.5</td><td>NA</td><td>NA</td><td>NA</td><td>NA</td><td>1,11179199911999E+030</td><td>2</td><td>2005-01-01 01:36:32</td></tr>\n",
       "\t<tr><td>62443</td><td>50.7451</td><td>1.5696</td><td>8.86</td><td>0</td><td>NA</td><td>86.12</td><td>NA</td><td>NA</td><td>NA</td><td>⋯</td><td>NA</td><td>NA</td><td> 7.3</td><td>NA</td><td>NA</td><td>NA</td><td>NA</td><td>1,11179199911999E+030</td><td>2</td><td>2005-01-01 02:16:33</td></tr>\n",
       "</tbody>\n",
       "</table>\n"
      ],
      "text/latex": [
       "A data.frame: 6 × 34\n",
       "\\begin{tabular}{r|llllllllllllllllllllllllllllllllll}\n",
       " PLATFORM & LATITUDE..degree\\_north. & LONGITUDE..degree\\_east. & DRYT.LEVEL0..degree\\_Celsius. & DEPH.LEVEL0..meter. & GSPD.LEVEL0..meter.second. & RELH.LEVEL0.... & SLEV.LEVEL0..meter. & WDIR.LEVEL0..degree. & WSPD.LEVEL0..meter.second. & TEMP.LEVEL1..degree\\_Celsius. & PSAL.LEVEL1..psu. & BATTERY.LEVEL1..volt. & CNDC.LEVEL1..S.m. & DEPH.LEVEL1..meter. & DOX1.LEVEL1..ml.l. & END\\_CYCLE\\_FLOW.LEVEL1..l.minute. & FLU3.LEVEL1..FFU. & LGH4.LEVEL1..micromole.photon..m2.s.. & MASS\\_DOXY.LEVEL1..milligram.m3. & NTRZ.LEVEL1..millimole.m3. & OSAT.LEVEL1.... & PHOS.LEVEL1..millimole.m3. & PHPH.LEVEL1..none. & SLCA.LEVEL1..millimole.m3. & START\\_CYCLE\\_FLOW.LEVEL1..l.minute. & TUR4.LEVEL1..ntu. & DEPH.LEVEL2..meter. & NTRZ.LEVEL2..millimole.m3. & PHOS.LEVEL2..millimole.m3. & SLCA.LEVEL2..millimole.m3. & QC & MAREL\\_DATASTATE\\_1 & temps\\\\\n",
       " <int> & <dbl> & <dbl> & <dbl> & <int> & <lgl> & <dbl> & <dbl> & <lgl> & <lgl> & <dbl> & <dbl> & <lgl> & <lgl> & <int> & <dbl> & <lgl> & <dbl> & <dbl> & <lgl> & <dbl> & <lgl> & <dbl> & <dbl> & <dbl> & <lgl> & <dbl> & <lgl> & <lgl> & <lgl> & <lgl> & <fct> & <int> & <dttm>\\\\\n",
       "\\hline\n",
       "\t 62443 & 50.7451 & 1.5696 & 8.53 & 0 & NA & 75.66 & NA & NA & NA & 8.2 & 33.13 & NA & NA & NA & 6.63410 & NA & 0.94 & 0 & NA &    NA & NA &    NA & 8.13 & NA & NA & 19.3 & NA & NA & NA & NA & 1,11179199911999E+030 & 2 & 2005-01-01 00:16:33\\\\\n",
       "\t 62443 & 50.7451 & 1.5696 & 8.80 & 0 & NA & 75.95 & NA & NA & NA & 8.1 & 33.22 & NA & NA & NA & 6.60611 & NA & 1.33 & 0 & NA & 20.97 & NA &    NA & 8.11 & NA & NA & 19.8 & NA & NA & NA & NA & 1,11179199911999E+030 & 2 & 2005-01-01 00:36:33\\\\\n",
       "\t 62443 & 50.7451 & 1.5696 & 8.81 & 0 & NA & 77.94 & NA & NA & NA & 8.1 & 33.13 & NA & NA & NA & 6.62011 & NA & 0.80 & 0 & NA & 16.16 & NA &    NA & 8.10 & NA & NA & 11.9 & NA & NA & NA & NA & 1,11179199911999E+030 & 2 & 2005-01-01 00:56:32\\\\\n",
       "\t 62443 & 50.7451 & 1.5696 & 8.75 & 0 & NA & 79.28 & NA & NA & NA & 8.1 & 33.19 & NA & NA & NA & 6.43816 & NA & 1.27 & 0 & NA &    NA & NA &    NA & 8.12 & NA & NA &  9.4 & NA & NA & NA & NA & 1,11179199911999E+030 & 2 & 2005-01-01 01:16:32\\\\\n",
       "\t 62443 & 50.7451 & 1.5696 & 8.85 & 0 & NA & 82.06 & NA & NA & NA & 8.1 & 32.96 & NA & NA & NA & 6.45216 & NA & 0.68 & 0 & NA &    NA & NA & -0.84 & 8.11 & NA & NA &  7.5 & NA & NA & NA & NA & 1,11179199911999E+030 & 2 & 2005-01-01 01:36:32\\\\\n",
       "\t 62443 & 50.7451 & 1.5696 & 8.86 & 0 & NA & 86.12 & NA & NA & NA & 8.1 & 33.07 & NA & NA & NA & 6.54313 & NA & 0.79 & 0 & NA &    NA & NA &    NA & 8.10 & NA & NA &  7.3 & NA & NA & NA & NA & 1,11179199911999E+030 & 2 & 2005-01-01 02:16:33\\\\\n",
       "\\end{tabular}\n"
      ],
      "text/markdown": [
       "\n",
       "A data.frame: 6 × 34\n",
       "\n",
       "| PLATFORM &lt;int&gt; | LATITUDE..degree_north. &lt;dbl&gt; | LONGITUDE..degree_east. &lt;dbl&gt; | DRYT.LEVEL0..degree_Celsius. &lt;dbl&gt; | DEPH.LEVEL0..meter. &lt;int&gt; | GSPD.LEVEL0..meter.second. &lt;lgl&gt; | RELH.LEVEL0.... &lt;dbl&gt; | SLEV.LEVEL0..meter. &lt;dbl&gt; | WDIR.LEVEL0..degree. &lt;lgl&gt; | WSPD.LEVEL0..meter.second. &lt;lgl&gt; | ⋯ ⋯ | SLCA.LEVEL1..millimole.m3. &lt;dbl&gt; | START_CYCLE_FLOW.LEVEL1..l.minute. &lt;lgl&gt; | TUR4.LEVEL1..ntu. &lt;dbl&gt; | DEPH.LEVEL2..meter. &lt;lgl&gt; | NTRZ.LEVEL2..millimole.m3. &lt;lgl&gt; | PHOS.LEVEL2..millimole.m3. &lt;lgl&gt; | SLCA.LEVEL2..millimole.m3. &lt;lgl&gt; | QC &lt;fct&gt; | MAREL_DATASTATE_1 &lt;int&gt; | temps &lt;dttm&gt; |\n",
       "|---|---|---|---|---|---|---|---|---|---|---|---|---|---|---|---|---|---|---|---|---|\n",
       "| 62443 | 50.7451 | 1.5696 | 8.53 | 0 | NA | 75.66 | NA | NA | NA | ⋯ | NA | NA | 19.3 | NA | NA | NA | NA | 1,11179199911999E+030 | 2 | 2005-01-01 00:16:33 |\n",
       "| 62443 | 50.7451 | 1.5696 | 8.80 | 0 | NA | 75.95 | NA | NA | NA | ⋯ | NA | NA | 19.8 | NA | NA | NA | NA | 1,11179199911999E+030 | 2 | 2005-01-01 00:36:33 |\n",
       "| 62443 | 50.7451 | 1.5696 | 8.81 | 0 | NA | 77.94 | NA | NA | NA | ⋯ | NA | NA | 11.9 | NA | NA | NA | NA | 1,11179199911999E+030 | 2 | 2005-01-01 00:56:32 |\n",
       "| 62443 | 50.7451 | 1.5696 | 8.75 | 0 | NA | 79.28 | NA | NA | NA | ⋯ | NA | NA |  9.4 | NA | NA | NA | NA | 1,11179199911999E+030 | 2 | 2005-01-01 01:16:32 |\n",
       "| 62443 | 50.7451 | 1.5696 | 8.85 | 0 | NA | 82.06 | NA | NA | NA | ⋯ | NA | NA |  7.5 | NA | NA | NA | NA | 1,11179199911999E+030 | 2 | 2005-01-01 01:36:32 |\n",
       "| 62443 | 50.7451 | 1.5696 | 8.86 | 0 | NA | 86.12 | NA | NA | NA | ⋯ | NA | NA |  7.3 | NA | NA | NA | NA | 1,11179199911999E+030 | 2 | 2005-01-01 02:16:33 |\n",
       "\n"
      ],
      "text/plain": [
       "  PLATFORM LATITUDE..degree_north. LONGITUDE..degree_east.\n",
       "1 62443    50.7451                 1.5696                 \n",
       "2 62443    50.7451                 1.5696                 \n",
       "3 62443    50.7451                 1.5696                 \n",
       "4 62443    50.7451                 1.5696                 \n",
       "5 62443    50.7451                 1.5696                 \n",
       "6 62443    50.7451                 1.5696                 \n",
       "  DRYT.LEVEL0..degree_Celsius. DEPH.LEVEL0..meter. GSPD.LEVEL0..meter.second.\n",
       "1 8.53                         0                   NA                        \n",
       "2 8.80                         0                   NA                        \n",
       "3 8.81                         0                   NA                        \n",
       "4 8.75                         0                   NA                        \n",
       "5 8.85                         0                   NA                        \n",
       "6 8.86                         0                   NA                        \n",
       "  RELH.LEVEL0.... SLEV.LEVEL0..meter. WDIR.LEVEL0..degree.\n",
       "1 75.66           NA                  NA                  \n",
       "2 75.95           NA                  NA                  \n",
       "3 77.94           NA                  NA                  \n",
       "4 79.28           NA                  NA                  \n",
       "5 82.06           NA                  NA                  \n",
       "6 86.12           NA                  NA                  \n",
       "  WSPD.LEVEL0..meter.second. ⋯ SLCA.LEVEL1..millimole.m3.\n",
       "1 NA                         ⋯ NA                        \n",
       "2 NA                         ⋯ NA                        \n",
       "3 NA                         ⋯ NA                        \n",
       "4 NA                         ⋯ NA                        \n",
       "5 NA                         ⋯ NA                        \n",
       "6 NA                         ⋯ NA                        \n",
       "  START_CYCLE_FLOW.LEVEL1..l.minute. TUR4.LEVEL1..ntu. DEPH.LEVEL2..meter.\n",
       "1 NA                                 19.3              NA                 \n",
       "2 NA                                 19.8              NA                 \n",
       "3 NA                                 11.9              NA                 \n",
       "4 NA                                  9.4              NA                 \n",
       "5 NA                                  7.5              NA                 \n",
       "6 NA                                  7.3              NA                 \n",
       "  NTRZ.LEVEL2..millimole.m3. PHOS.LEVEL2..millimole.m3.\n",
       "1 NA                         NA                        \n",
       "2 NA                         NA                        \n",
       "3 NA                         NA                        \n",
       "4 NA                         NA                        \n",
       "5 NA                         NA                        \n",
       "6 NA                         NA                        \n",
       "  SLCA.LEVEL2..millimole.m3. QC                    MAREL_DATASTATE_1\n",
       "1 NA                         1,11179199911999E+030 2                \n",
       "2 NA                         1,11179199911999E+030 2                \n",
       "3 NA                         1,11179199911999E+030 2                \n",
       "4 NA                         1,11179199911999E+030 2                \n",
       "5 NA                         1,11179199911999E+030 2                \n",
       "6 NA                         1,11179199911999E+030 2                \n",
       "  temps              \n",
       "1 2005-01-01 00:16:33\n",
       "2 2005-01-01 00:36:33\n",
       "3 2005-01-01 00:56:32\n",
       "4 2005-01-01 01:16:32\n",
       "5 2005-01-01 01:36:32\n",
       "6 2005-01-01 02:16:33"
      ]
     },
     "metadata": {},
     "output_type": "display_data"
    }
   ],
   "source": [
    "FormatTemps = \"%Y-%m-%dT%H:%M:%SZ\"\n",
    "NameColumnDate = \"DATE\"\n",
    "\n",
    "df = format.Time(df, FormatTemps=FormatTemps, NbColumnTemps=1, NameColumnDate=NameColumnDate);\n",
    "indDate = grep(pattern=NameColumnDate, names(df), ignore.case=T);\n",
    "df = df[,-indDate]\n",
    "head(df)"
   ]
  },
  {
   "cell_type": "markdown",
   "metadata": {},
   "source": [
    "### Hommogénéisation des valeurs manquantes"
   ]
  },
  {
   "cell_type": "code",
   "execution_count": 9,
   "metadata": {},
   "outputs": [
    {
     "data": {
      "text/html": [
       "<table>\n",
       "<caption>A data.frame: 6 × 34</caption>\n",
       "<thead>\n",
       "\t<tr><th scope=col>PLATFORM</th><th scope=col>LATITUDE..degree_north.</th><th scope=col>LONGITUDE..degree_east.</th><th scope=col>DRYT.LEVEL0..degree_Celsius.</th><th scope=col>DEPH.LEVEL0..meter.</th><th scope=col>GSPD.LEVEL0..meter.second.</th><th scope=col>RELH.LEVEL0....</th><th scope=col>SLEV.LEVEL0..meter.</th><th scope=col>WDIR.LEVEL0..degree.</th><th scope=col>WSPD.LEVEL0..meter.second.</th><th scope=col>⋯</th><th scope=col>SLCA.LEVEL1..millimole.m3.</th><th scope=col>START_CYCLE_FLOW.LEVEL1..l.minute.</th><th scope=col>TUR4.LEVEL1..ntu.</th><th scope=col>DEPH.LEVEL2..meter.</th><th scope=col>NTRZ.LEVEL2..millimole.m3.</th><th scope=col>PHOS.LEVEL2..millimole.m3.</th><th scope=col>SLCA.LEVEL2..millimole.m3.</th><th scope=col>QC</th><th scope=col>MAREL_DATASTATE_1</th><th scope=col>temps</th></tr>\n",
       "\t<tr><th scope=col>&lt;int&gt;</th><th scope=col>&lt;dbl&gt;</th><th scope=col>&lt;dbl&gt;</th><th scope=col>&lt;dbl&gt;</th><th scope=col>&lt;int&gt;</th><th scope=col>&lt;lgl&gt;</th><th scope=col>&lt;dbl&gt;</th><th scope=col>&lt;dbl&gt;</th><th scope=col>&lt;lgl&gt;</th><th scope=col>&lt;lgl&gt;</th><th scope=col>⋯</th><th scope=col>&lt;dbl&gt;</th><th scope=col>&lt;lgl&gt;</th><th scope=col>&lt;dbl&gt;</th><th scope=col>&lt;lgl&gt;</th><th scope=col>&lt;lgl&gt;</th><th scope=col>&lt;lgl&gt;</th><th scope=col>&lt;lgl&gt;</th><th scope=col>&lt;fct&gt;</th><th scope=col>&lt;int&gt;</th><th scope=col>&lt;dttm&gt;</th></tr>\n",
       "</thead>\n",
       "<tbody>\n",
       "\t<tr><td>62443</td><td>50.7451</td><td>1.5696</td><td>8.53</td><td>0</td><td>NA</td><td>75.66</td><td>NA</td><td>NA</td><td>NA</td><td>⋯</td><td>NA</td><td>NA</td><td>19.3</td><td>NA</td><td>NA</td><td>NA</td><td>NA</td><td>1,11179199911999E+030</td><td>2</td><td>2005-01-01 00:16:33</td></tr>\n",
       "\t<tr><td>62443</td><td>50.7451</td><td>1.5696</td><td>8.80</td><td>0</td><td>NA</td><td>75.95</td><td>NA</td><td>NA</td><td>NA</td><td>⋯</td><td>NA</td><td>NA</td><td>19.8</td><td>NA</td><td>NA</td><td>NA</td><td>NA</td><td>1,11179199911999E+030</td><td>2</td><td>2005-01-01 00:36:33</td></tr>\n",
       "\t<tr><td>62443</td><td>50.7451</td><td>1.5696</td><td>8.81</td><td>0</td><td>NA</td><td>77.94</td><td>NA</td><td>NA</td><td>NA</td><td>⋯</td><td>NA</td><td>NA</td><td>11.9</td><td>NA</td><td>NA</td><td>NA</td><td>NA</td><td>1,11179199911999E+030</td><td>2</td><td>2005-01-01 00:56:32</td></tr>\n",
       "\t<tr><td>62443</td><td>50.7451</td><td>1.5696</td><td>8.75</td><td>0</td><td>NA</td><td>79.28</td><td>NA</td><td>NA</td><td>NA</td><td>⋯</td><td>NA</td><td>NA</td><td> 9.4</td><td>NA</td><td>NA</td><td>NA</td><td>NA</td><td>1,11179199911999E+030</td><td>2</td><td>2005-01-01 01:16:32</td></tr>\n",
       "\t<tr><td>62443</td><td>50.7451</td><td>1.5696</td><td>8.85</td><td>0</td><td>NA</td><td>82.06</td><td>NA</td><td>NA</td><td>NA</td><td>⋯</td><td>NA</td><td>NA</td><td> 7.5</td><td>NA</td><td>NA</td><td>NA</td><td>NA</td><td>1,11179199911999E+030</td><td>2</td><td>2005-01-01 01:36:32</td></tr>\n",
       "\t<tr><td>62443</td><td>50.7451</td><td>1.5696</td><td>8.86</td><td>0</td><td>NA</td><td>86.12</td><td>NA</td><td>NA</td><td>NA</td><td>⋯</td><td>NA</td><td>NA</td><td> 7.3</td><td>NA</td><td>NA</td><td>NA</td><td>NA</td><td>1,11179199911999E+030</td><td>2</td><td>2005-01-01 02:16:33</td></tr>\n",
       "</tbody>\n",
       "</table>\n"
      ],
      "text/latex": [
       "A data.frame: 6 × 34\n",
       "\\begin{tabular}{r|llllllllllllllllllllllllllllllllll}\n",
       " PLATFORM & LATITUDE..degree\\_north. & LONGITUDE..degree\\_east. & DRYT.LEVEL0..degree\\_Celsius. & DEPH.LEVEL0..meter. & GSPD.LEVEL0..meter.second. & RELH.LEVEL0.... & SLEV.LEVEL0..meter. & WDIR.LEVEL0..degree. & WSPD.LEVEL0..meter.second. & TEMP.LEVEL1..degree\\_Celsius. & PSAL.LEVEL1..psu. & BATTERY.LEVEL1..volt. & CNDC.LEVEL1..S.m. & DEPH.LEVEL1..meter. & DOX1.LEVEL1..ml.l. & END\\_CYCLE\\_FLOW.LEVEL1..l.minute. & FLU3.LEVEL1..FFU. & LGH4.LEVEL1..micromole.photon..m2.s.. & MASS\\_DOXY.LEVEL1..milligram.m3. & NTRZ.LEVEL1..millimole.m3. & OSAT.LEVEL1.... & PHOS.LEVEL1..millimole.m3. & PHPH.LEVEL1..none. & SLCA.LEVEL1..millimole.m3. & START\\_CYCLE\\_FLOW.LEVEL1..l.minute. & TUR4.LEVEL1..ntu. & DEPH.LEVEL2..meter. & NTRZ.LEVEL2..millimole.m3. & PHOS.LEVEL2..millimole.m3. & SLCA.LEVEL2..millimole.m3. & QC & MAREL\\_DATASTATE\\_1 & temps\\\\\n",
       " <int> & <dbl> & <dbl> & <dbl> & <int> & <lgl> & <dbl> & <dbl> & <lgl> & <lgl> & <dbl> & <dbl> & <lgl> & <lgl> & <int> & <dbl> & <lgl> & <dbl> & <dbl> & <lgl> & <dbl> & <lgl> & <dbl> & <dbl> & <dbl> & <lgl> & <dbl> & <lgl> & <lgl> & <lgl> & <lgl> & <fct> & <int> & <dttm>\\\\\n",
       "\\hline\n",
       "\t 62443 & 50.7451 & 1.5696 & 8.53 & 0 & NA & 75.66 & NA & NA & NA & 8.2 & 33.13 & NA & NA & NA & 6.63410 & NA & 0.94 & 0 & NA &    NA & NA &    NA & 8.13 & NA & NA & 19.3 & NA & NA & NA & NA & 1,11179199911999E+030 & 2 & 2005-01-01 00:16:33\\\\\n",
       "\t 62443 & 50.7451 & 1.5696 & 8.80 & 0 & NA & 75.95 & NA & NA & NA & 8.1 & 33.22 & NA & NA & NA & 6.60611 & NA & 1.33 & 0 & NA & 20.97 & NA &    NA & 8.11 & NA & NA & 19.8 & NA & NA & NA & NA & 1,11179199911999E+030 & 2 & 2005-01-01 00:36:33\\\\\n",
       "\t 62443 & 50.7451 & 1.5696 & 8.81 & 0 & NA & 77.94 & NA & NA & NA & 8.1 & 33.13 & NA & NA & NA & 6.62011 & NA & 0.80 & 0 & NA & 16.16 & NA &    NA & 8.10 & NA & NA & 11.9 & NA & NA & NA & NA & 1,11179199911999E+030 & 2 & 2005-01-01 00:56:32\\\\\n",
       "\t 62443 & 50.7451 & 1.5696 & 8.75 & 0 & NA & 79.28 & NA & NA & NA & 8.1 & 33.19 & NA & NA & NA & 6.43816 & NA & 1.27 & 0 & NA &    NA & NA &    NA & 8.12 & NA & NA &  9.4 & NA & NA & NA & NA & 1,11179199911999E+030 & 2 & 2005-01-01 01:16:32\\\\\n",
       "\t 62443 & 50.7451 & 1.5696 & 8.85 & 0 & NA & 82.06 & NA & NA & NA & 8.1 & 32.96 & NA & NA & NA & 6.45216 & NA & 0.68 & 0 & NA &    NA & NA & -0.84 & 8.11 & NA & NA &  7.5 & NA & NA & NA & NA & 1,11179199911999E+030 & 2 & 2005-01-01 01:36:32\\\\\n",
       "\t 62443 & 50.7451 & 1.5696 & 8.86 & 0 & NA & 86.12 & NA & NA & NA & 8.1 & 33.07 & NA & NA & NA & 6.54313 & NA & 0.79 & 0 & NA &    NA & NA &    NA & 8.10 & NA & NA &  7.3 & NA & NA & NA & NA & 1,11179199911999E+030 & 2 & 2005-01-01 02:16:33\\\\\n",
       "\\end{tabular}\n"
      ],
      "text/markdown": [
       "\n",
       "A data.frame: 6 × 34\n",
       "\n",
       "| PLATFORM &lt;int&gt; | LATITUDE..degree_north. &lt;dbl&gt; | LONGITUDE..degree_east. &lt;dbl&gt; | DRYT.LEVEL0..degree_Celsius. &lt;dbl&gt; | DEPH.LEVEL0..meter. &lt;int&gt; | GSPD.LEVEL0..meter.second. &lt;lgl&gt; | RELH.LEVEL0.... &lt;dbl&gt; | SLEV.LEVEL0..meter. &lt;dbl&gt; | WDIR.LEVEL0..degree. &lt;lgl&gt; | WSPD.LEVEL0..meter.second. &lt;lgl&gt; | ⋯ ⋯ | SLCA.LEVEL1..millimole.m3. &lt;dbl&gt; | START_CYCLE_FLOW.LEVEL1..l.minute. &lt;lgl&gt; | TUR4.LEVEL1..ntu. &lt;dbl&gt; | DEPH.LEVEL2..meter. &lt;lgl&gt; | NTRZ.LEVEL2..millimole.m3. &lt;lgl&gt; | PHOS.LEVEL2..millimole.m3. &lt;lgl&gt; | SLCA.LEVEL2..millimole.m3. &lt;lgl&gt; | QC &lt;fct&gt; | MAREL_DATASTATE_1 &lt;int&gt; | temps &lt;dttm&gt; |\n",
       "|---|---|---|---|---|---|---|---|---|---|---|---|---|---|---|---|---|---|---|---|---|\n",
       "| 62443 | 50.7451 | 1.5696 | 8.53 | 0 | NA | 75.66 | NA | NA | NA | ⋯ | NA | NA | 19.3 | NA | NA | NA | NA | 1,11179199911999E+030 | 2 | 2005-01-01 00:16:33 |\n",
       "| 62443 | 50.7451 | 1.5696 | 8.80 | 0 | NA | 75.95 | NA | NA | NA | ⋯ | NA | NA | 19.8 | NA | NA | NA | NA | 1,11179199911999E+030 | 2 | 2005-01-01 00:36:33 |\n",
       "| 62443 | 50.7451 | 1.5696 | 8.81 | 0 | NA | 77.94 | NA | NA | NA | ⋯ | NA | NA | 11.9 | NA | NA | NA | NA | 1,11179199911999E+030 | 2 | 2005-01-01 00:56:32 |\n",
       "| 62443 | 50.7451 | 1.5696 | 8.75 | 0 | NA | 79.28 | NA | NA | NA | ⋯ | NA | NA |  9.4 | NA | NA | NA | NA | 1,11179199911999E+030 | 2 | 2005-01-01 01:16:32 |\n",
       "| 62443 | 50.7451 | 1.5696 | 8.85 | 0 | NA | 82.06 | NA | NA | NA | ⋯ | NA | NA |  7.5 | NA | NA | NA | NA | 1,11179199911999E+030 | 2 | 2005-01-01 01:36:32 |\n",
       "| 62443 | 50.7451 | 1.5696 | 8.86 | 0 | NA | 86.12 | NA | NA | NA | ⋯ | NA | NA |  7.3 | NA | NA | NA | NA | 1,11179199911999E+030 | 2 | 2005-01-01 02:16:33 |\n",
       "\n"
      ],
      "text/plain": [
       "  PLATFORM LATITUDE..degree_north. LONGITUDE..degree_east.\n",
       "1 62443    50.7451                 1.5696                 \n",
       "2 62443    50.7451                 1.5696                 \n",
       "3 62443    50.7451                 1.5696                 \n",
       "4 62443    50.7451                 1.5696                 \n",
       "5 62443    50.7451                 1.5696                 \n",
       "6 62443    50.7451                 1.5696                 \n",
       "  DRYT.LEVEL0..degree_Celsius. DEPH.LEVEL0..meter. GSPD.LEVEL0..meter.second.\n",
       "1 8.53                         0                   NA                        \n",
       "2 8.80                         0                   NA                        \n",
       "3 8.81                         0                   NA                        \n",
       "4 8.75                         0                   NA                        \n",
       "5 8.85                         0                   NA                        \n",
       "6 8.86                         0                   NA                        \n",
       "  RELH.LEVEL0.... SLEV.LEVEL0..meter. WDIR.LEVEL0..degree.\n",
       "1 75.66           NA                  NA                  \n",
       "2 75.95           NA                  NA                  \n",
       "3 77.94           NA                  NA                  \n",
       "4 79.28           NA                  NA                  \n",
       "5 82.06           NA                  NA                  \n",
       "6 86.12           NA                  NA                  \n",
       "  WSPD.LEVEL0..meter.second. ⋯ SLCA.LEVEL1..millimole.m3.\n",
       "1 NA                         ⋯ NA                        \n",
       "2 NA                         ⋯ NA                        \n",
       "3 NA                         ⋯ NA                        \n",
       "4 NA                         ⋯ NA                        \n",
       "5 NA                         ⋯ NA                        \n",
       "6 NA                         ⋯ NA                        \n",
       "  START_CYCLE_FLOW.LEVEL1..l.minute. TUR4.LEVEL1..ntu. DEPH.LEVEL2..meter.\n",
       "1 NA                                 19.3              NA                 \n",
       "2 NA                                 19.8              NA                 \n",
       "3 NA                                 11.9              NA                 \n",
       "4 NA                                  9.4              NA                 \n",
       "5 NA                                  7.5              NA                 \n",
       "6 NA                                  7.3              NA                 \n",
       "  NTRZ.LEVEL2..millimole.m3. PHOS.LEVEL2..millimole.m3.\n",
       "1 NA                         NA                        \n",
       "2 NA                         NA                        \n",
       "3 NA                         NA                        \n",
       "4 NA                         NA                        \n",
       "5 NA                         NA                        \n",
       "6 NA                         NA                        \n",
       "  SLCA.LEVEL2..millimole.m3. QC                    MAREL_DATASTATE_1\n",
       "1 NA                         1,11179199911999E+030 2                \n",
       "2 NA                         1,11179199911999E+030 2                \n",
       "3 NA                         1,11179199911999E+030 2                \n",
       "4 NA                         1,11179199911999E+030 2                \n",
       "5 NA                         1,11179199911999E+030 2                \n",
       "6 NA                         1,11179199911999E+030 2                \n",
       "  temps              \n",
       "1 2005-01-01 00:16:33\n",
       "2 2005-01-01 00:36:33\n",
       "3 2005-01-01 00:56:32\n",
       "4 2005-01-01 01:16:32\n",
       "5 2005-01-01 01:36:32\n",
       "6 2005-01-01 02:16:33"
      ]
     },
     "metadata": {},
     "output_type": "display_data"
    }
   ],
   "source": [
    "listNA <- c(-999.00,-999.99, Inf, NaN)\n",
    "df = NaTransform(df, defNA=FALSE, listNA=listNA);\n",
    "head(df)"
   ]
  },
  {
   "cell_type": "markdown",
   "metadata": {},
   "source": [
    "## 3. Correction de gamme"
   ]
  },
  {
   "cell_type": "code",
   "execution_count": 10,
   "metadata": {},
   "outputs": [
    {
     "name": "stdout",
     "output_type": "stream",
     "text": [
      "[1] \"correction gamme capteur\"\n",
      "[1] \"PLATFORM\"\n",
      "integer(0)\n",
      "[1] \"LATITUDE..degree_north.\"\n",
      "integer(0)\n",
      "[1] \"LONGITUDE..degree_east.\"\n",
      "integer(0)\n",
      "[1] \"DRYT.LEVEL0..degree_Celsius.\"\n",
      "[1] 15\n",
      "[1] \"a été corrigé\"\n",
      "[1] \"DEPH.LEVEL0..meter.\"\n",
      "integer(0)\n",
      "[1] \"GSPD.LEVEL0..meter.second.\"\n",
      "integer(0)\n",
      "[1] \"RELH.LEVEL0....\"\n",
      "integer(0)\n",
      "[1] \"SLEV.LEVEL0..meter.\"\n",
      "integer(0)\n",
      "[1] \"WDIR.LEVEL0..degree.\"\n",
      "[1] 9\n",
      "[1] \"a été corrigé\"\n",
      "[1] \"WSPD.LEVEL0..meter.second.\"\n",
      "[1] 10\n",
      "[1] \"a été corrigé\"\n",
      "[1] \"TEMP.LEVEL1..degree_Celsius.\"\n",
      "[1] 1\n",
      "[1] \"a été corrigé\"\n",
      "[1] \"PSAL.LEVEL1..psu.\"\n",
      "[1] 2\n",
      "[1] \"a été corrigé\"\n",
      "[1] \"BATTERY.LEVEL1..volt.\"\n",
      "integer(0)\n",
      "[1] \"CNDC.LEVEL1..S.m.\"\n",
      "integer(0)\n",
      "[1] \"DEPH.LEVEL1..meter.\"\n",
      "integer(0)\n",
      "[1] \"DOX1.LEVEL1..ml.l.\"\n",
      "[1] 4\n",
      "[1] \"a été corrigé\"\n",
      "[1] \"END_CYCLE_FLOW.LEVEL1..l.minute.\"\n",
      "integer(0)\n",
      "[1] \"FLU3.LEVEL1..FFU.\"\n",
      "[1] 6\n",
      "[1] \"a été corrigé\"\n",
      "[1] \"LGH4.LEVEL1..micromole.photon..m2.s..\"\n",
      "[1] 8\n",
      "[1] \"a été corrigé\"\n",
      "[1] \"MASS_DOXY.LEVEL1..milligram.m3.\"\n",
      "integer(0)\n",
      "[1] \"NTRZ.LEVEL1..millimole.m3.\"\n",
      "[1] 11\n",
      "[1] \"a été corrigé\"\n",
      "[1] \"OSAT.LEVEL1....\"\n",
      "[1] 5\n",
      "[1] \"a été corrigé\"\n",
      "[1] \"PHOS.LEVEL1..millimole.m3.\"\n",
      "[1] 12\n",
      "[1] \"a été corrigé\"\n",
      "[1] \"PHPH.LEVEL1..none.\"\n",
      "integer(0)\n",
      "[1] \"SLCA.LEVEL1..millimole.m3.\"\n",
      "[1] 13\n",
      "[1] \"a été corrigé\"\n",
      "[1] \"START_CYCLE_FLOW.LEVEL1..l.minute.\"\n",
      "integer(0)\n",
      "[1] \"TUR4.LEVEL1..ntu.\"\n",
      "[1] 7\n",
      "[1] \"a été corrigé\"\n",
      "[1] \"DEPH.LEVEL2..meter.\"\n",
      "integer(0)\n",
      "[1] \"NTRZ.LEVEL2..millimole.m3.\"\n",
      "integer(0)\n",
      "[1] \"PHOS.LEVEL2..millimole.m3.\"\n",
      "integer(0)\n",
      "[1] \"SLCA.LEVEL2..millimole.m3.\"\n",
      "integer(0)\n",
      "[1] \"QC\"\n",
      "integer(0)\n",
      "[1] \"MAREL_DATASTATE_1\"\n",
      "integer(0)\n",
      "[1] \"temps\"\n",
      "integer(0)\n"
     ]
    }
   ],
   "source": [
    "source('Fonction_CorrectionGamme.r')\n",
    "\n",
    "NamesColumnPara = 'Data_Names'\n",
    "# Non de la colone qui contient tous les noms de paramètres\n",
    "df = CorrectionGamme(df, filenames_Gamme = \"data/GammeCarnot.csv\", sep = \",\", dec = \".\", NamesColumnPara = \"Data_Names\")"
   ]
  },
  {
   "cell_type": "markdown",
   "metadata": {},
   "source": [
    "## 4. Alignement"
   ]
  },
  {
   "cell_type": "code",
   "execution_count": 11,
   "metadata": {},
   "outputs": [
    {
     "name": "stdout",
     "output_type": "stream",
     "text": [
      "[1] \"ecart median par parametres\"\n",
      "                             PLATFORM               LATITUDE..degree_north. \n",
      "                                 \"20\"                                  \"20\" \n",
      "              LONGITUDE..degree_east.          DRYT.LEVEL0..degree_Celsius. \n",
      "                                 \"20\"                                  \"20\" \n",
      "                  DEPH.LEVEL0..meter.            GSPD.LEVEL0..meter.second. \n",
      "                                 \"20\"                        \"empty vector\" \n",
      "                      RELH.LEVEL0....                   SLEV.LEVEL0..meter. \n",
      "                                 \"20\"                                  \"20\" \n",
      "                 WDIR.LEVEL0..degree.            WSPD.LEVEL0..meter.second. \n",
      "                       \"empty vector\"                        \"empty vector\" \n",
      "         TEMP.LEVEL1..degree_Celsius.                     PSAL.LEVEL1..psu. \n",
      "                                 \"20\"                                  \"20\" \n",
      "                BATTERY.LEVEL1..volt.                     CNDC.LEVEL1..S.m. \n",
      "                       \"empty vector\"                        \"empty vector\" \n",
      "                  DEPH.LEVEL1..meter.                    DOX1.LEVEL1..ml.l. \n",
      "                                 \"20\"                                  \"20\" \n",
      "     END_CYCLE_FLOW.LEVEL1..l.minute.                     FLU3.LEVEL1..FFU. \n",
      "                       \"empty vector\"                                  \"20\" \n",
      "LGH4.LEVEL1..micromole.photon..m2.s..       MASS_DOXY.LEVEL1..milligram.m3. \n",
      "                                 \"20\"                        \"empty vector\" \n",
      "           NTRZ.LEVEL1..millimole.m3.                       OSAT.LEVEL1.... \n",
      "                   \"699.983333333333\"                        \"empty vector\" \n",
      "           PHOS.LEVEL1..millimole.m3.                    PHPH.LEVEL1..none. \n",
      "                                \"700\"                                  \"20\" \n",
      "           SLCA.LEVEL1..millimole.m3.    START_CYCLE_FLOW.LEVEL1..l.minute. \n",
      "                   \"699.983333333333\"                        \"empty vector\" \n",
      "                    TUR4.LEVEL1..ntu.                   DEPH.LEVEL2..meter. \n",
      "                                 \"20\"                        \"empty vector\" \n",
      "           NTRZ.LEVEL2..millimole.m3.            PHOS.LEVEL2..millimole.m3. \n",
      "                       \"empty vector\"                        \"empty vector\" \n",
      "           SLCA.LEVEL2..millimole.m3.                                    QC \n",
      "                       \"empty vector\"                                  \"20\" \n",
      "                    MAREL_DATASTATE_1 \n",
      "                                 \"20\" \n"
     ]
    },
    {
     "name": "stderr",
     "output_type": "stream",
     "text": [
      "Warning message in compute.TimeSetp(info.timestep, dtAuto = TRUE, dtForce = 0):\n",
      "“NAs introduced by coercion”"
     ]
    },
    {
     "name": "stdout",
     "output_type": "stream",
     "text": [
      "[1] \"ALignement temporel\"\n",
      "[1] \"par 20 minutes\"\n"
     ]
    },
    {
     "data": {
      "text/html": [
       "<table>\n",
       "<caption>A data.frame: 6 × 20</caption>\n",
       "<thead>\n",
       "\t<tr><th scope=col>temps</th><th scope=col>LATITUDE..degree_north.</th><th scope=col>LONGITUDE..degree_east.</th><th scope=col>DRYT.LEVEL0..degree_Celsius.</th><th scope=col>RELH.LEVEL0....</th><th scope=col>SLEV.LEVEL0..meter.</th><th scope=col>TEMP.LEVEL1..degree_Celsius.</th><th scope=col>PSAL.LEVEL1..psu.</th><th scope=col>DOX1.LEVEL1..ml.l.</th><th scope=col>FLU3.LEVEL1..FFU.</th><th scope=col>LGH4.LEVEL1..micromole.photon..m2.s..</th><th scope=col>NTRZ.LEVEL1..millimole.m3.</th><th scope=col>PHOS.LEVEL1..millimole.m3.</th><th scope=col>PHPH.LEVEL1..none.</th><th scope=col>SLCA.LEVEL1..millimole.m3.</th><th scope=col>TUR4.LEVEL1..ntu.</th><th scope=col>PLATFORM</th><th scope=col>DEPH.LEVEL0..meter.</th><th scope=col>DEPH.LEVEL1..meter.</th><th scope=col>MAREL_DATASTATE_1</th></tr>\n",
       "\t<tr><th scope=col>&lt;dttm&gt;</th><th scope=col>&lt;dbl&gt;</th><th scope=col>&lt;dbl&gt;</th><th scope=col>&lt;dbl&gt;</th><th scope=col>&lt;dbl&gt;</th><th scope=col>&lt;dbl&gt;</th><th scope=col>&lt;dbl&gt;</th><th scope=col>&lt;dbl&gt;</th><th scope=col>&lt;dbl&gt;</th><th scope=col>&lt;dbl&gt;</th><th scope=col>&lt;dbl&gt;</th><th scope=col>&lt;dbl&gt;</th><th scope=col>&lt;dbl&gt;</th><th scope=col>&lt;dbl&gt;</th><th scope=col>&lt;dbl&gt;</th><th scope=col>&lt;dbl&gt;</th><th scope=col>&lt;int&gt;</th><th scope=col>&lt;int&gt;</th><th scope=col>&lt;int&gt;</th><th scope=col>&lt;int&gt;</th></tr>\n",
       "</thead>\n",
       "<tbody>\n",
       "\t<tr><td>2005-01-01 00:10:00</td><td>50.7451</td><td>1.5696</td><td>8.53</td><td>75.66</td><td>NA</td><td>8.2</td><td>33.13</td><td>6.63410</td><td>0.94</td><td> 0</td><td>   NA</td><td>NA</td><td>8.13</td><td>NA</td><td>19.3</td><td>62443</td><td> 0</td><td>NA</td><td> 2</td></tr>\n",
       "\t<tr><td>2005-01-01 00:30:00</td><td>50.7451</td><td>1.5696</td><td>8.80</td><td>75.95</td><td>NA</td><td>8.1</td><td>33.22</td><td>6.60611</td><td>1.33</td><td> 0</td><td>20.97</td><td>NA</td><td>8.11</td><td>NA</td><td>19.8</td><td>62443</td><td> 0</td><td>NA</td><td> 2</td></tr>\n",
       "\t<tr><td>2005-01-01 00:50:00</td><td>50.7451</td><td>1.5696</td><td>8.81</td><td>77.94</td><td>NA</td><td>8.1</td><td>33.13</td><td>6.62011</td><td>0.80</td><td> 0</td><td>16.16</td><td>NA</td><td>8.10</td><td>NA</td><td>11.9</td><td>62443</td><td> 0</td><td>NA</td><td> 2</td></tr>\n",
       "\t<tr><td>2005-01-01 01:10:00</td><td>50.7451</td><td>1.5696</td><td>8.75</td><td>79.28</td><td>NA</td><td>8.1</td><td>33.19</td><td>6.43816</td><td>1.27</td><td> 0</td><td>   NA</td><td>NA</td><td>8.12</td><td>NA</td><td> 9.4</td><td>62443</td><td> 0</td><td>NA</td><td> 2</td></tr>\n",
       "\t<tr><td>2005-01-01 01:30:00</td><td>50.7451</td><td>1.5696</td><td>8.85</td><td>82.06</td><td>NA</td><td>8.1</td><td>32.96</td><td>6.45216</td><td>0.68</td><td> 0</td><td>   NA</td><td>NA</td><td>8.11</td><td>NA</td><td> 7.5</td><td>62443</td><td> 0</td><td>NA</td><td> 2</td></tr>\n",
       "\t<tr><td>2005-01-01 01:50:00</td><td>     NA</td><td>    NA</td><td>  NA</td><td>   NA</td><td>NA</td><td> NA</td><td>   NA</td><td>     NA</td><td>  NA</td><td>NA</td><td>   NA</td><td>NA</td><td>  NA</td><td>NA</td><td>  NA</td><td>   NA</td><td>NA</td><td>NA</td><td>NA</td></tr>\n",
       "</tbody>\n",
       "</table>\n"
      ],
      "text/latex": [
       "A data.frame: 6 × 20\n",
       "\\begin{tabular}{r|llllllllllllllllllll}\n",
       " temps & LATITUDE..degree\\_north. & LONGITUDE..degree\\_east. & DRYT.LEVEL0..degree\\_Celsius. & RELH.LEVEL0.... & SLEV.LEVEL0..meter. & TEMP.LEVEL1..degree\\_Celsius. & PSAL.LEVEL1..psu. & DOX1.LEVEL1..ml.l. & FLU3.LEVEL1..FFU. & LGH4.LEVEL1..micromole.photon..m2.s.. & NTRZ.LEVEL1..millimole.m3. & PHOS.LEVEL1..millimole.m3. & PHPH.LEVEL1..none. & SLCA.LEVEL1..millimole.m3. & TUR4.LEVEL1..ntu. & PLATFORM & DEPH.LEVEL0..meter. & DEPH.LEVEL1..meter. & MAREL\\_DATASTATE\\_1\\\\\n",
       " <dttm> & <dbl> & <dbl> & <dbl> & <dbl> & <dbl> & <dbl> & <dbl> & <dbl> & <dbl> & <dbl> & <dbl> & <dbl> & <dbl> & <dbl> & <dbl> & <int> & <int> & <int> & <int>\\\\\n",
       "\\hline\n",
       "\t 2005-01-01 00:10:00 & 50.7451 & 1.5696 & 8.53 & 75.66 & NA & 8.2 & 33.13 & 6.63410 & 0.94 &  0 &    NA & NA & 8.13 & NA & 19.3 & 62443 &  0 & NA &  2\\\\\n",
       "\t 2005-01-01 00:30:00 & 50.7451 & 1.5696 & 8.80 & 75.95 & NA & 8.1 & 33.22 & 6.60611 & 1.33 &  0 & 20.97 & NA & 8.11 & NA & 19.8 & 62443 &  0 & NA &  2\\\\\n",
       "\t 2005-01-01 00:50:00 & 50.7451 & 1.5696 & 8.81 & 77.94 & NA & 8.1 & 33.13 & 6.62011 & 0.80 &  0 & 16.16 & NA & 8.10 & NA & 11.9 & 62443 &  0 & NA &  2\\\\\n",
       "\t 2005-01-01 01:10:00 & 50.7451 & 1.5696 & 8.75 & 79.28 & NA & 8.1 & 33.19 & 6.43816 & 1.27 &  0 &    NA & NA & 8.12 & NA &  9.4 & 62443 &  0 & NA &  2\\\\\n",
       "\t 2005-01-01 01:30:00 & 50.7451 & 1.5696 & 8.85 & 82.06 & NA & 8.1 & 32.96 & 6.45216 & 0.68 &  0 &    NA & NA & 8.11 & NA &  7.5 & 62443 &  0 & NA &  2\\\\\n",
       "\t 2005-01-01 01:50:00 &      NA &     NA &   NA &    NA & NA &  NA &    NA &      NA &   NA & NA &    NA & NA &   NA & NA &   NA &    NA & NA & NA & NA\\\\\n",
       "\\end{tabular}\n"
      ],
      "text/markdown": [
       "\n",
       "A data.frame: 6 × 20\n",
       "\n",
       "| temps &lt;dttm&gt; | LATITUDE..degree_north. &lt;dbl&gt; | LONGITUDE..degree_east. &lt;dbl&gt; | DRYT.LEVEL0..degree_Celsius. &lt;dbl&gt; | RELH.LEVEL0.... &lt;dbl&gt; | SLEV.LEVEL0..meter. &lt;dbl&gt; | TEMP.LEVEL1..degree_Celsius. &lt;dbl&gt; | PSAL.LEVEL1..psu. &lt;dbl&gt; | DOX1.LEVEL1..ml.l. &lt;dbl&gt; | FLU3.LEVEL1..FFU. &lt;dbl&gt; | LGH4.LEVEL1..micromole.photon..m2.s.. &lt;dbl&gt; | NTRZ.LEVEL1..millimole.m3. &lt;dbl&gt; | PHOS.LEVEL1..millimole.m3. &lt;dbl&gt; | PHPH.LEVEL1..none. &lt;dbl&gt; | SLCA.LEVEL1..millimole.m3. &lt;dbl&gt; | TUR4.LEVEL1..ntu. &lt;dbl&gt; | PLATFORM &lt;int&gt; | DEPH.LEVEL0..meter. &lt;int&gt; | DEPH.LEVEL1..meter. &lt;int&gt; | MAREL_DATASTATE_1 &lt;int&gt; |\n",
       "|---|---|---|---|---|---|---|---|---|---|---|---|---|---|---|---|---|---|---|---|\n",
       "| 2005-01-01 00:10:00 | 50.7451 | 1.5696 | 8.53 | 75.66 | NA | 8.2 | 33.13 | 6.63410 | 0.94 |  0 |    NA | NA | 8.13 | NA | 19.3 | 62443 |  0 | NA |  2 |\n",
       "| 2005-01-01 00:30:00 | 50.7451 | 1.5696 | 8.80 | 75.95 | NA | 8.1 | 33.22 | 6.60611 | 1.33 |  0 | 20.97 | NA | 8.11 | NA | 19.8 | 62443 |  0 | NA |  2 |\n",
       "| 2005-01-01 00:50:00 | 50.7451 | 1.5696 | 8.81 | 77.94 | NA | 8.1 | 33.13 | 6.62011 | 0.80 |  0 | 16.16 | NA | 8.10 | NA | 11.9 | 62443 |  0 | NA |  2 |\n",
       "| 2005-01-01 01:10:00 | 50.7451 | 1.5696 | 8.75 | 79.28 | NA | 8.1 | 33.19 | 6.43816 | 1.27 |  0 |    NA | NA | 8.12 | NA |  9.4 | 62443 |  0 | NA |  2 |\n",
       "| 2005-01-01 01:30:00 | 50.7451 | 1.5696 | 8.85 | 82.06 | NA | 8.1 | 32.96 | 6.45216 | 0.68 |  0 |    NA | NA | 8.11 | NA |  7.5 | 62443 |  0 | NA |  2 |\n",
       "| 2005-01-01 01:50:00 |      NA |     NA |   NA |    NA | NA |  NA |    NA |      NA |   NA | NA |    NA | NA |   NA | NA |   NA |    NA | NA | NA | NA |\n",
       "\n"
      ],
      "text/plain": [
       "  temps               LATITUDE..degree_north. LONGITUDE..degree_east.\n",
       "1 2005-01-01 00:10:00 50.7451                 1.5696                 \n",
       "2 2005-01-01 00:30:00 50.7451                 1.5696                 \n",
       "3 2005-01-01 00:50:00 50.7451                 1.5696                 \n",
       "4 2005-01-01 01:10:00 50.7451                 1.5696                 \n",
       "5 2005-01-01 01:30:00 50.7451                 1.5696                 \n",
       "6 2005-01-01 01:50:00      NA                     NA                 \n",
       "  DRYT.LEVEL0..degree_Celsius. RELH.LEVEL0.... SLEV.LEVEL0..meter.\n",
       "1 8.53                         75.66           NA                 \n",
       "2 8.80                         75.95           NA                 \n",
       "3 8.81                         77.94           NA                 \n",
       "4 8.75                         79.28           NA                 \n",
       "5 8.85                         82.06           NA                 \n",
       "6   NA                            NA           NA                 \n",
       "  TEMP.LEVEL1..degree_Celsius. PSAL.LEVEL1..psu. DOX1.LEVEL1..ml.l.\n",
       "1 8.2                          33.13             6.63410           \n",
       "2 8.1                          33.22             6.60611           \n",
       "3 8.1                          33.13             6.62011           \n",
       "4 8.1                          33.19             6.43816           \n",
       "5 8.1                          32.96             6.45216           \n",
       "6  NA                             NA                  NA           \n",
       "  FLU3.LEVEL1..FFU. LGH4.LEVEL1..micromole.photon..m2.s..\n",
       "1 0.94               0                                   \n",
       "2 1.33               0                                   \n",
       "3 0.80               0                                   \n",
       "4 1.27               0                                   \n",
       "5 0.68               0                                   \n",
       "6   NA              NA                                   \n",
       "  NTRZ.LEVEL1..millimole.m3. PHOS.LEVEL1..millimole.m3. PHPH.LEVEL1..none.\n",
       "1    NA                      NA                         8.13              \n",
       "2 20.97                      NA                         8.11              \n",
       "3 16.16                      NA                         8.10              \n",
       "4    NA                      NA                         8.12              \n",
       "5    NA                      NA                         8.11              \n",
       "6    NA                      NA                           NA              \n",
       "  SLCA.LEVEL1..millimole.m3. TUR4.LEVEL1..ntu. PLATFORM DEPH.LEVEL0..meter.\n",
       "1 NA                         19.3              62443     0                 \n",
       "2 NA                         19.8              62443     0                 \n",
       "3 NA                         11.9              62443     0                 \n",
       "4 NA                          9.4              62443     0                 \n",
       "5 NA                          7.5              62443     0                 \n",
       "6 NA                           NA                 NA    NA                 \n",
       "  DEPH.LEVEL1..meter. MAREL_DATASTATE_1\n",
       "1 NA                   2               \n",
       "2 NA                   2               \n",
       "3 NA                   2               \n",
       "4 NA                   2               \n",
       "5 NA                   2               \n",
       "6 NA                  NA               "
      ]
     },
     "metadata": {},
     "output_type": "display_data"
    }
   ],
   "source": [
    "source('Fonction_Alignement.r')\n",
    "\n",
    "info.timestep = TimeStep.median(df)\n",
    "\n",
    "dtA = compute.TimeSetp(info.timestep, dtAuto=TRUE, dtForce=0)\n",
    "\n",
    "df = TimeAlign(data=df, dtA=dtA)\n",
    "head(df)"
   ]
  },
  {
   "cell_type": "markdown",
   "metadata": {},
   "source": [
    "## 5. FORMAT : sauvegarde du ficher\n",
    "\n",
    "###  Création colonne spécifique aux interfaces"
   ]
  },
  {
   "cell_type": "code",
   "execution_count": 12,
   "metadata": {},
   "outputs": [],
   "source": [
    "colonneDate=as.character(format(df$temps,\"%F\"))\n",
    "colonneHeure=as.character(format(df$temps,\"%X\"))\n",
    "iTemps=grep(pattern=\"temps\",names(df))\n",
    "indDate=grep(pattern=\"DATE\",names(df))\n",
    "indHour=NULL\n",
    "iSup=c(iTemps,indDate,indHour)\n",
    "df.Formated=data.frame('Dates'=colonneDate,'Hours'=colonneHeure,(df[,-iSup]))"
   ]
  },
  {
   "cell_type": "markdown",
   "metadata": {},
   "source": [
    "### Création de fihier compatible"
   ]
  },
  {
   "cell_type": "code",
   "execution_count": 13,
   "metadata": {},
   "outputs": [],
   "source": [
    "FichierParam='DataTest_Carnot_2005' # Fichier Param du VOLET CHARGEMENT\n",
    "repSave = 'data'\n",
    "filename=unlist(strsplit(FichierParam,\"\\\\.\"))[1]\n",
    "setwd(repSave)\n",
    "write.table(df.Formated,file= paste(filename,'_Formated.txt',sep =\"\"),dec='.',sep=\"\\t\")"
   ]
  },
  {
   "cell_type": "markdown",
   "metadata": {},
   "source": [
    "## 6. Statistiques élémentaires"
   ]
  },
  {
   "cell_type": "markdown",
   "metadata": {},
   "source": [
    "### Séries temporelles"
   ]
  },
  {
   "cell_type": "code",
   "execution_count": 14,
   "metadata": {},
   "outputs": [
    {
     "data": {
      "image/png": "[encoded data removed]",
      "text/plain": [
       "Plot with title “Titre”"
      ]
     },
     "metadata": {},
     "output_type": "display_data"
    }
   ],
   "source": [
    "plot(df$temps, df$TEMP.LEVEL1..degree_Celsius., pch=46, main='Titre', xlab='Temps',ylab='Variable')"
   ]
  },
  {
   "cell_type": "markdown",
   "metadata": {},
   "source": [
    "### Dispersion"
   ]
  },
  {
   "cell_type": "code",
   "execution_count": 15,
   "metadata": {},
   "outputs": [
    {
     "data": {
      "image/png": "[encoded data removed]",
      "text/plain": [
       "Plot with title “Titre”"
      ]
     },
     "metadata": {},
     "output_type": "display_data"
    }
   ],
   "source": [
    "boxplot(df$TEMP.LEVEL1..degree_Celsius.,main='Titre',ylab='Variable');"
   ]
  },
  {
   "cell_type": "markdown",
   "metadata": {},
   "source": [
    "### Corrélation"
   ]
  },
  {
   "cell_type": "code",
   "execution_count": 16,
   "metadata": {},
   "outputs": [
    {
     "name": "stderr",
     "output_type": "stream",
     "text": [
      "corrplot 0.84 loaded\n"
     ]
    }
   ],
   "source": [
    "N=apply(df,MARGIN=2, FUN=function(x){length(unique(na.omit(x)))})\n",
    "indUnit=which(N==1)\n",
    "# identification\n",
    "nums <- unlist(lapply(df[,-indUnit], is.numeric)) #selection des varibles numeric sans les variables con\n",
    "cor=cor(df[,nums])\n",
    "write.csv(cor,file = paste('Correlation.csv',sep=''))\n",
    "library(corrplot)"
   ]
  },
  {
   "cell_type": "code",
   "execution_count": 17,
   "metadata": {},
   "outputs": [
    {
     "data": {
      "image/png": "[encoded data removed]",
      "text/plain": [
       "Plot with title “”"
      ]
     },
     "metadata": {},
     "output_type": "display_data"
    }
   ],
   "source": [
    "corrplot(cor, type=\"upper\", order = \"alphabet\", tl.col=\"black\", method = \"number\")"
   ]
  },
  {
   "cell_type": "markdown",
   "metadata": {},
   "source": [
    "### ACP"
   ]
  },
  {
   "cell_type": "code",
   "execution_count": 18,
   "metadata": {},
   "outputs": [
    {
     "name": "stderr",
     "output_type": "stream",
     "text": [
      "Loading required package: ggplot2\n",
      "Welcome! Related Books: `Practical Guide To Cluster Analysis in R` at https://goo.gl/13EFCZ\n"
     ]
    }
   ],
   "source": [
    "library(\"FactoMineR\") #ACP\n",
    "library(\"factoextra\") #ACP\n",
    "\n",
    "ACP=data.matrix(df)#Variable #att NA.OMIT"
   ]
  },
  {
   "cell_type": "code",
   "execution_count": 19,
   "metadata": {},
   "outputs": [
    {
     "name": "stderr",
     "output_type": "stream",
     "text": [
      "Warning message in PCA(ACP, scale.unit = TRUE, ncp = 5, graph = TRUE):\n",
      "“Missing values are imputed by the mean of the variable: you should use the imputePCA function of the missMDA package”Warning message in arrows(0, 0, coord.var[v, 1], coord.var[v, 2], length = 0.1, :\n",
      "“zero-length arrow is of indeterminate angle and so skipped”"
     ]
    }
   ],
   "source": [
    "res.pca=PCA(ACP, scale.unit = TRUE, ncp = 5, graph = TRUE)"
   ]
  },
  {
   "cell_type": "code",
   "execution_count": 20,
   "metadata": {},
   "outputs": [
    {
     "data": {
      "image/png": "[encoded data removed]",
      "text/plain": [
       "plot without title"
      ]
     },
     "metadata": {},
     "output_type": "display_data"
    }
   ],
   "source": [
    "fviz_pca_var(res.pca, col.var = \"black\");"
   ]
  },
  {
   "cell_type": "code",
   "execution_count": 21,
   "metadata": {},
   "outputs": [
    {
     "data": {
      "image/png": "[encoded data removed]",
      "text/plain": [
       "plot without title"
      ]
     },
     "metadata": {},
     "output_type": "display_data"
    }
   ],
   "source": [
    "fviz_pca_var(res.pca, col.var = \"black\",axes = c(2,3));"
   ]
  },
  {
   "cell_type": "code",
   "execution_count": 22,
   "metadata": {},
   "outputs": [
    {
     "data": {
      "image/png": "[encoded data removed]",
      "text/plain": [
       "plot without title"
      ]
     },
     "metadata": {},
     "output_type": "display_data"
    }
   ],
   "source": [
    "fviz_pca_var(res.pca, col.var = \"black\",axes = c(1,3));"
   ]
  },
  {
   "cell_type": "markdown",
   "metadata": {},
   "source": [
    "### Option supplémentaire : information fichier\n",
    "\n",
    "#### Info taille fichier"
   ]
  },
  {
   "cell_type": "code",
   "execution_count": 23,
   "metadata": {},
   "outputs": [
    {
     "data": {
      "text/html": [
       "<ol>\n",
       "\t<li><ol class=list-inline>\n",
       "\t<li>'POSIXlt'</li>\n",
       "\t<li>'POSIXt'</li>\n",
       "</ol>\n",
       "</li>\n",
       "\t<li>'numeric'</li>\n",
       "\t<li>'integer'</li>\n",
       "</ol>\n"
      ],
      "text/latex": [
       "\\begin{enumerate}\n",
       "\\item \\begin{enumerate*}\n",
       "\\item 'POSIXlt'\n",
       "\\item 'POSIXt'\n",
       "\\end{enumerate*}\n",
       "\n",
       "\\item 'numeric'\n",
       "\\item 'integer'\n",
       "\\end{enumerate}\n"
      ],
      "text/markdown": [
       "1. 1. 'POSIXlt'\n",
       "2. 'POSIXt'\n",
       "\n",
       "\n",
       "\n",
       "2. 'numeric'\n",
       "3. 'integer'\n",
       "\n",
       "\n"
      ],
      "text/plain": [
       "[[1]]\n",
       "[1] \"POSIXlt\" \"POSIXt\" \n",
       "\n",
       "[[2]]\n",
       "[1] \"numeric\"\n",
       "\n",
       "[[3]]\n",
       "[1] \"integer\"\n"
      ]
     },
     "metadata": {},
     "output_type": "display_data"
    }
   ],
   "source": [
    "unique(sapply(df, class))"
   ]
  },
  {
   "cell_type": "code",
   "execution_count": 24,
   "metadata": {},
   "outputs": [
    {
     "data": {
      "text/html": [
       "26208"
      ],
      "text/latex": [
       "26208"
      ],
      "text/markdown": [
       "26208"
      ],
      "text/plain": [
       "[1] 26208"
      ]
     },
     "metadata": {},
     "output_type": "display_data"
    }
   ],
   "source": [
    "nrow(df)"
   ]
  },
  {
   "cell_type": "code",
   "execution_count": 25,
   "metadata": {},
   "outputs": [
    {
     "data": {
      "text/html": [
       "20"
      ],
      "text/latex": [
       "20"
      ],
      "text/markdown": [
       "20"
      ],
      "text/plain": [
       "[1] 20"
      ]
     },
     "metadata": {},
     "output_type": "display_data"
    }
   ],
   "source": [
    "ncol(df)"
   ]
  },
  {
   "cell_type": "code",
   "execution_count": 26,
   "metadata": {},
   "outputs": [
    {
     "data": {
      "text/html": [
       "<ol class=list-inline>\n",
       "\t<li>'temps'</li>\n",
       "\t<li>'LATITUDE..degree_north.'</li>\n",
       "\t<li>'LONGITUDE..degree_east.'</li>\n",
       "\t<li>'DRYT.LEVEL0..degree_Celsius.'</li>\n",
       "\t<li>'RELH.LEVEL0....'</li>\n",
       "\t<li>'SLEV.LEVEL0..meter.'</li>\n",
       "\t<li>'TEMP.LEVEL1..degree_Celsius.'</li>\n",
       "\t<li>'PSAL.LEVEL1..psu.'</li>\n",
       "\t<li>'DOX1.LEVEL1..ml.l.'</li>\n",
       "\t<li>'FLU3.LEVEL1..FFU.'</li>\n",
       "\t<li>'LGH4.LEVEL1..micromole.photon..m2.s..'</li>\n",
       "\t<li>'NTRZ.LEVEL1..millimole.m3.'</li>\n",
       "\t<li>'PHOS.LEVEL1..millimole.m3.'</li>\n",
       "\t<li>'PHPH.LEVEL1..none.'</li>\n",
       "\t<li>'SLCA.LEVEL1..millimole.m3.'</li>\n",
       "\t<li>'TUR4.LEVEL1..ntu.'</li>\n",
       "\t<li>'PLATFORM'</li>\n",
       "\t<li>'DEPH.LEVEL0..meter.'</li>\n",
       "\t<li>'DEPH.LEVEL1..meter.'</li>\n",
       "\t<li>'MAREL_DATASTATE_1'</li>\n",
       "</ol>\n"
      ],
      "text/latex": [
       "\\begin{enumerate*}\n",
       "\\item 'temps'\n",
       "\\item 'LATITUDE..degree\\_north.'\n",
       "\\item 'LONGITUDE..degree\\_east.'\n",
       "\\item 'DRYT.LEVEL0..degree\\_Celsius.'\n",
       "\\item 'RELH.LEVEL0....'\n",
       "\\item 'SLEV.LEVEL0..meter.'\n",
       "\\item 'TEMP.LEVEL1..degree\\_Celsius.'\n",
       "\\item 'PSAL.LEVEL1..psu.'\n",
       "\\item 'DOX1.LEVEL1..ml.l.'\n",
       "\\item 'FLU3.LEVEL1..FFU.'\n",
       "\\item 'LGH4.LEVEL1..micromole.photon..m2.s..'\n",
       "\\item 'NTRZ.LEVEL1..millimole.m3.'\n",
       "\\item 'PHOS.LEVEL1..millimole.m3.'\n",
       "\\item 'PHPH.LEVEL1..none.'\n",
       "\\item 'SLCA.LEVEL1..millimole.m3.'\n",
       "\\item 'TUR4.LEVEL1..ntu.'\n",
       "\\item 'PLATFORM'\n",
       "\\item 'DEPH.LEVEL0..meter.'\n",
       "\\item 'DEPH.LEVEL1..meter.'\n",
       "\\item 'MAREL\\_DATASTATE\\_1'\n",
       "\\end{enumerate*}\n"
      ],
      "text/markdown": [
       "1. 'temps'\n",
       "2. 'LATITUDE..degree_north.'\n",
       "3. 'LONGITUDE..degree_east.'\n",
       "4. 'DRYT.LEVEL0..degree_Celsius.'\n",
       "5. 'RELH.LEVEL0....'\n",
       "6. 'SLEV.LEVEL0..meter.'\n",
       "7. 'TEMP.LEVEL1..degree_Celsius.'\n",
       "8. 'PSAL.LEVEL1..psu.'\n",
       "9. 'DOX1.LEVEL1..ml.l.'\n",
       "10. 'FLU3.LEVEL1..FFU.'\n",
       "11. 'LGH4.LEVEL1..micromole.photon..m2.s..'\n",
       "12. 'NTRZ.LEVEL1..millimole.m3.'\n",
       "13. 'PHOS.LEVEL1..millimole.m3.'\n",
       "14. 'PHPH.LEVEL1..none.'\n",
       "15. 'SLCA.LEVEL1..millimole.m3.'\n",
       "16. 'TUR4.LEVEL1..ntu.'\n",
       "17. 'PLATFORM'\n",
       "18. 'DEPH.LEVEL0..meter.'\n",
       "19. 'DEPH.LEVEL1..meter.'\n",
       "20. 'MAREL_DATASTATE_1'\n",
       "\n",
       "\n"
      ],
      "text/plain": [
       " [1] \"temps\"                                \n",
       " [2] \"LATITUDE..degree_north.\"              \n",
       " [3] \"LONGITUDE..degree_east.\"              \n",
       " [4] \"DRYT.LEVEL0..degree_Celsius.\"         \n",
       " [5] \"RELH.LEVEL0....\"                      \n",
       " [6] \"SLEV.LEVEL0..meter.\"                  \n",
       " [7] \"TEMP.LEVEL1..degree_Celsius.\"         \n",
       " [8] \"PSAL.LEVEL1..psu.\"                    \n",
       " [9] \"DOX1.LEVEL1..ml.l.\"                   \n",
       "[10] \"FLU3.LEVEL1..FFU.\"                    \n",
       "[11] \"LGH4.LEVEL1..micromole.photon..m2.s..\"\n",
       "[12] \"NTRZ.LEVEL1..millimole.m3.\"           \n",
       "[13] \"PHOS.LEVEL1..millimole.m3.\"           \n",
       "[14] \"PHPH.LEVEL1..none.\"                   \n",
       "[15] \"SLCA.LEVEL1..millimole.m3.\"           \n",
       "[16] \"TUR4.LEVEL1..ntu.\"                    \n",
       "[17] \"PLATFORM\"                             \n",
       "[18] \"DEPH.LEVEL0..meter.\"                  \n",
       "[19] \"DEPH.LEVEL1..meter.\"                  \n",
       "[20] \"MAREL_DATASTATE_1\"                    "
      ]
     },
     "metadata": {},
     "output_type": "display_data"
    }
   ],
   "source": [
    "names(df)"
   ]
  },
  {
   "cell_type": "markdown",
   "metadata": {},
   "source": [
    "### Informations nombre de NA"
   ]
  },
  {
   "cell_type": "code",
   "execution_count": 27,
   "metadata": {},
   "outputs": [],
   "source": [
    "setwd(\"..\")  # Revenir au répertoire contenant les scripts"
   ]
  },
  {
   "cell_type": "code",
   "execution_count": 28,
   "metadata": {},
   "outputs": [],
   "source": [
    "source(\"Fonction_Info.r\")"
   ]
  },
  {
   "cell_type": "code",
   "execution_count": 29,
   "metadata": {},
   "outputs": [
    {
     "name": "stdout",
     "output_type": "stream",
     "text": [
      "           LATITUDE..degree_north. LONGITUDE..degree_east.\n",
      "nbNA                    4842.00000              4842.00000\n",
      "PercentNA                 18.47527                18.47527\n",
      "largestGap               247.00000               247.00000\n",
      "nbGap                   1439.00000              1439.00000\n",
      "           DRYT.LEVEL0..degree_Celsius. RELH.LEVEL0.... SLEV.LEVEL0..meter.\n",
      "nbNA                         5431.00000      5359.00000          7917.00000\n",
      "PercentNA                      20.72268        20.44795            30.20833\n",
      "largestGap                    347.00000       268.00000          3291.00000\n",
      "nbGap                        1478.00000      1479.00000          1015.00000\n",
      "           TEMP.LEVEL1..degree_Celsius. PSAL.LEVEL1..psu. DOX1.LEVEL1..ml.l.\n",
      "nbNA                         5000.00000        5001.00000         5600.00000\n",
      "PercentNA                      19.07814          19.08196           21.36752\n",
      "largestGap                    247.00000         247.00000          247.00000\n",
      "nbGap                        1488.00000        1488.00000         1487.00000\n",
      "           FLU3.LEVEL1..FFU. LGH4.LEVEL1..micromole.photon..m2.s..\n",
      "nbNA              4975.00000                            5365.00000\n",
      "PercentNA           18.98275                              20.47085\n",
      "largestGap         247.00000                             268.00000\n",
      "nbGap             1493.00000                            1479.00000\n",
      "           NTRZ.LEVEL1..millimole.m3. PHOS.LEVEL1..millimole.m3.\n",
      "nbNA                      25544.00000                25692.00000\n",
      "PercentNA                    97.46642                   98.03114\n",
      "largestGap                 2267.00000                 4138.00000\n",
      "nbGap                       379.00000                  308.00000\n",
      "           PHPH.LEVEL1..none. SLCA.LEVEL1..millimole.m3. TUR4.LEVEL1..ntu.\n",
      "nbNA               9157.00000                25574.00000        5047.00000\n",
      "PercentNA            34.93971                   97.58089          19.25748\n",
      "largestGap         5149.00000                 5112.00000         247.00000\n",
      "nbGap              1355.00000                  352.00000        1519.00000\n",
      "             PLATFORM DEPH.LEVEL0..meter. DEPH.LEVEL1..meter. MAREL_DATASTATE_1\n",
      "nbNA       4842.00000          5358.00000         25639.00000        4842.00000\n",
      "PercentNA    18.47527            20.44414            97.82891          18.47527\n",
      "largestGap  247.00000           268.00000          5536.00000         247.00000\n",
      "nbGap      1439.00000          1479.00000           175.00000        1439.00000\n"
     ]
    },
    {
     "data": {
      "image/png": "[encoded data removed]",
      "text/plain": [
       "Plot with title “% de NA by column”"
      ]
     },
     "metadata": {},
     "output_type": "display_data"
    }
   ],
   "source": [
    "indTemp = which(names(df)=='temps')\n",
    "info.na = infoNA(df[,-indTemp])"
   ]
  },
  {
   "cell_type": "markdown",
   "metadata": {},
   "source": [
    "### Informations Data"
   ]
  },
  {
   "cell_type": "code",
   "execution_count": 30,
   "metadata": {},
   "outputs": [],
   "source": [
    "indTemp=which(names(df)=='temps')\n",
    "info.data = function.infoData(df[,-indTemp])"
   ]
  },
  {
   "cell_type": "code",
   "execution_count": 31,
   "metadata": {},
   "outputs": [
    {
     "data": {
      "text/plain": [
       "NULL"
      ]
     },
     "metadata": {},
     "output_type": "display_data"
    }
   ],
   "source": [
    "df$QC"
   ]
  },
  {
   "cell_type": "markdown",
   "metadata": {},
   "source": [
    "### Information Métadonnées"
   ]
  },
  {
   "cell_type": "code",
   "execution_count": 32,
   "metadata": {},
   "outputs": [
    {
     "name": "stdout",
     "output_type": "stream",
     "text": [
      "[1] \"MetaDonnees=TRUE\"\n"
     ]
    }
   ],
   "source": [
    "listeMetaData=c('temps','QC')\n",
    "ind.metadata = compute.indMetadata(df, listeMetaData = listeMetaData)"
   ]
  },
  {
   "cell_type": "code",
   "execution_count": null,
   "metadata": {},
   "outputs": [],
   "source": []
  },
  {
   "cell_type": "code",
   "execution_count": 33,
   "metadata": {},
   "outputs": [
    {
     "data": {
      "text/html": [
       "<table>\n",
       "<caption>A data.frame: 6 × 20</caption>\n",
       "<thead>\n",
       "\t<tr><th scope=col>temps</th><th scope=col>LATITUDE..degree_north.</th><th scope=col>LONGITUDE..degree_east.</th><th scope=col>DRYT.LEVEL0..degree_Celsius.</th><th scope=col>RELH.LEVEL0....</th><th scope=col>SLEV.LEVEL0..meter.</th><th scope=col>TEMP.LEVEL1..degree_Celsius.</th><th scope=col>PSAL.LEVEL1..psu.</th><th scope=col>DOX1.LEVEL1..ml.l.</th><th scope=col>FLU3.LEVEL1..FFU.</th><th scope=col>LGH4.LEVEL1..micromole.photon..m2.s..</th><th scope=col>NTRZ.LEVEL1..millimole.m3.</th><th scope=col>PHOS.LEVEL1..millimole.m3.</th><th scope=col>PHPH.LEVEL1..none.</th><th scope=col>SLCA.LEVEL1..millimole.m3.</th><th scope=col>TUR4.LEVEL1..ntu.</th><th scope=col>PLATFORM</th><th scope=col>DEPH.LEVEL0..meter.</th><th scope=col>DEPH.LEVEL1..meter.</th><th scope=col>MAREL_DATASTATE_1</th></tr>\n",
       "\t<tr><th scope=col>&lt;dttm&gt;</th><th scope=col>&lt;dbl&gt;</th><th scope=col>&lt;dbl&gt;</th><th scope=col>&lt;dbl&gt;</th><th scope=col>&lt;dbl&gt;</th><th scope=col>&lt;dbl&gt;</th><th scope=col>&lt;dbl&gt;</th><th scope=col>&lt;dbl&gt;</th><th scope=col>&lt;dbl&gt;</th><th scope=col>&lt;dbl&gt;</th><th scope=col>&lt;dbl&gt;</th><th scope=col>&lt;dbl&gt;</th><th scope=col>&lt;dbl&gt;</th><th scope=col>&lt;dbl&gt;</th><th scope=col>&lt;dbl&gt;</th><th scope=col>&lt;dbl&gt;</th><th scope=col>&lt;int&gt;</th><th scope=col>&lt;int&gt;</th><th scope=col>&lt;int&gt;</th><th scope=col>&lt;int&gt;</th></tr>\n",
       "</thead>\n",
       "<tbody>\n",
       "\t<tr><td>2005-01-01 00:10:00</td><td>50.7451</td><td>1.5696</td><td>8.53</td><td>75.66</td><td>NA</td><td>8.2</td><td>33.13</td><td>6.63410</td><td>0.94</td><td> 0</td><td>   NA</td><td>NA</td><td>8.13</td><td>NA</td><td>19.3</td><td>62443</td><td> 0</td><td>NA</td><td> 2</td></tr>\n",
       "\t<tr><td>2005-01-01 00:30:00</td><td>50.7451</td><td>1.5696</td><td>8.80</td><td>75.95</td><td>NA</td><td>8.1</td><td>33.22</td><td>6.60611</td><td>1.33</td><td> 0</td><td>20.97</td><td>NA</td><td>8.11</td><td>NA</td><td>19.8</td><td>62443</td><td> 0</td><td>NA</td><td> 2</td></tr>\n",
       "\t<tr><td>2005-01-01 00:50:00</td><td>50.7451</td><td>1.5696</td><td>8.81</td><td>77.94</td><td>NA</td><td>8.1</td><td>33.13</td><td>6.62011</td><td>0.80</td><td> 0</td><td>16.16</td><td>NA</td><td>8.10</td><td>NA</td><td>11.9</td><td>62443</td><td> 0</td><td>NA</td><td> 2</td></tr>\n",
       "\t<tr><td>2005-01-01 01:10:00</td><td>50.7451</td><td>1.5696</td><td>8.75</td><td>79.28</td><td>NA</td><td>8.1</td><td>33.19</td><td>6.43816</td><td>1.27</td><td> 0</td><td>   NA</td><td>NA</td><td>8.12</td><td>NA</td><td> 9.4</td><td>62443</td><td> 0</td><td>NA</td><td> 2</td></tr>\n",
       "\t<tr><td>2005-01-01 01:30:00</td><td>50.7451</td><td>1.5696</td><td>8.85</td><td>82.06</td><td>NA</td><td>8.1</td><td>32.96</td><td>6.45216</td><td>0.68</td><td> 0</td><td>   NA</td><td>NA</td><td>8.11</td><td>NA</td><td> 7.5</td><td>62443</td><td> 0</td><td>NA</td><td> 2</td></tr>\n",
       "\t<tr><td>2005-01-01 01:50:00</td><td>     NA</td><td>    NA</td><td>  NA</td><td>   NA</td><td>NA</td><td> NA</td><td>   NA</td><td>     NA</td><td>  NA</td><td>NA</td><td>   NA</td><td>NA</td><td>  NA</td><td>NA</td><td>  NA</td><td>   NA</td><td>NA</td><td>NA</td><td>NA</td></tr>\n",
       "</tbody>\n",
       "</table>\n"
      ],
      "text/latex": [
       "A data.frame: 6 × 20\n",
       "\\begin{tabular}{r|llllllllllllllllllll}\n",
       " temps & LATITUDE..degree\\_north. & LONGITUDE..degree\\_east. & DRYT.LEVEL0..degree\\_Celsius. & RELH.LEVEL0.... & SLEV.LEVEL0..meter. & TEMP.LEVEL1..degree\\_Celsius. & PSAL.LEVEL1..psu. & DOX1.LEVEL1..ml.l. & FLU3.LEVEL1..FFU. & LGH4.LEVEL1..micromole.photon..m2.s.. & NTRZ.LEVEL1..millimole.m3. & PHOS.LEVEL1..millimole.m3. & PHPH.LEVEL1..none. & SLCA.LEVEL1..millimole.m3. & TUR4.LEVEL1..ntu. & PLATFORM & DEPH.LEVEL0..meter. & DEPH.LEVEL1..meter. & MAREL\\_DATASTATE\\_1\\\\\n",
       " <dttm> & <dbl> & <dbl> & <dbl> & <dbl> & <dbl> & <dbl> & <dbl> & <dbl> & <dbl> & <dbl> & <dbl> & <dbl> & <dbl> & <dbl> & <dbl> & <int> & <int> & <int> & <int>\\\\\n",
       "\\hline\n",
       "\t 2005-01-01 00:10:00 & 50.7451 & 1.5696 & 8.53 & 75.66 & NA & 8.2 & 33.13 & 6.63410 & 0.94 &  0 &    NA & NA & 8.13 & NA & 19.3 & 62443 &  0 & NA &  2\\\\\n",
       "\t 2005-01-01 00:30:00 & 50.7451 & 1.5696 & 8.80 & 75.95 & NA & 8.1 & 33.22 & 6.60611 & 1.33 &  0 & 20.97 & NA & 8.11 & NA & 19.8 & 62443 &  0 & NA &  2\\\\\n",
       "\t 2005-01-01 00:50:00 & 50.7451 & 1.5696 & 8.81 & 77.94 & NA & 8.1 & 33.13 & 6.62011 & 0.80 &  0 & 16.16 & NA & 8.10 & NA & 11.9 & 62443 &  0 & NA &  2\\\\\n",
       "\t 2005-01-01 01:10:00 & 50.7451 & 1.5696 & 8.75 & 79.28 & NA & 8.1 & 33.19 & 6.43816 & 1.27 &  0 &    NA & NA & 8.12 & NA &  9.4 & 62443 &  0 & NA &  2\\\\\n",
       "\t 2005-01-01 01:30:00 & 50.7451 & 1.5696 & 8.85 & 82.06 & NA & 8.1 & 32.96 & 6.45216 & 0.68 &  0 &    NA & NA & 8.11 & NA &  7.5 & 62443 &  0 & NA &  2\\\\\n",
       "\t 2005-01-01 01:50:00 &      NA &     NA &   NA &    NA & NA &  NA &    NA &      NA &   NA & NA &    NA & NA &   NA & NA &   NA &    NA & NA & NA & NA\\\\\n",
       "\\end{tabular}\n"
      ],
      "text/markdown": [
       "\n",
       "A data.frame: 6 × 20\n",
       "\n",
       "| temps &lt;dttm&gt; | LATITUDE..degree_north. &lt;dbl&gt; | LONGITUDE..degree_east. &lt;dbl&gt; | DRYT.LEVEL0..degree_Celsius. &lt;dbl&gt; | RELH.LEVEL0.... &lt;dbl&gt; | SLEV.LEVEL0..meter. &lt;dbl&gt; | TEMP.LEVEL1..degree_Celsius. &lt;dbl&gt; | PSAL.LEVEL1..psu. &lt;dbl&gt; | DOX1.LEVEL1..ml.l. &lt;dbl&gt; | FLU3.LEVEL1..FFU. &lt;dbl&gt; | LGH4.LEVEL1..micromole.photon..m2.s.. &lt;dbl&gt; | NTRZ.LEVEL1..millimole.m3. &lt;dbl&gt; | PHOS.LEVEL1..millimole.m3. &lt;dbl&gt; | PHPH.LEVEL1..none. &lt;dbl&gt; | SLCA.LEVEL1..millimole.m3. &lt;dbl&gt; | TUR4.LEVEL1..ntu. &lt;dbl&gt; | PLATFORM &lt;int&gt; | DEPH.LEVEL0..meter. &lt;int&gt; | DEPH.LEVEL1..meter. &lt;int&gt; | MAREL_DATASTATE_1 &lt;int&gt; |\n",
       "|---|---|---|---|---|---|---|---|---|---|---|---|---|---|---|---|---|---|---|---|\n",
       "| 2005-01-01 00:10:00 | 50.7451 | 1.5696 | 8.53 | 75.66 | NA | 8.2 | 33.13 | 6.63410 | 0.94 |  0 |    NA | NA | 8.13 | NA | 19.3 | 62443 |  0 | NA |  2 |\n",
       "| 2005-01-01 00:30:00 | 50.7451 | 1.5696 | 8.80 | 75.95 | NA | 8.1 | 33.22 | 6.60611 | 1.33 |  0 | 20.97 | NA | 8.11 | NA | 19.8 | 62443 |  0 | NA |  2 |\n",
       "| 2005-01-01 00:50:00 | 50.7451 | 1.5696 | 8.81 | 77.94 | NA | 8.1 | 33.13 | 6.62011 | 0.80 |  0 | 16.16 | NA | 8.10 | NA | 11.9 | 62443 |  0 | NA |  2 |\n",
       "| 2005-01-01 01:10:00 | 50.7451 | 1.5696 | 8.75 | 79.28 | NA | 8.1 | 33.19 | 6.43816 | 1.27 |  0 |    NA | NA | 8.12 | NA |  9.4 | 62443 |  0 | NA |  2 |\n",
       "| 2005-01-01 01:30:00 | 50.7451 | 1.5696 | 8.85 | 82.06 | NA | 8.1 | 32.96 | 6.45216 | 0.68 |  0 |    NA | NA | 8.11 | NA |  7.5 | 62443 |  0 | NA |  2 |\n",
       "| 2005-01-01 01:50:00 |      NA |     NA |   NA |    NA | NA |  NA |    NA |      NA |   NA | NA |    NA | NA |   NA | NA |   NA |    NA | NA | NA | NA |\n",
       "\n"
      ],
      "text/plain": [
       "  temps               LATITUDE..degree_north. LONGITUDE..degree_east.\n",
       "1 2005-01-01 00:10:00 50.7451                 1.5696                 \n",
       "2 2005-01-01 00:30:00 50.7451                 1.5696                 \n",
       "3 2005-01-01 00:50:00 50.7451                 1.5696                 \n",
       "4 2005-01-01 01:10:00 50.7451                 1.5696                 \n",
       "5 2005-01-01 01:30:00 50.7451                 1.5696                 \n",
       "6 2005-01-01 01:50:00      NA                     NA                 \n",
       "  DRYT.LEVEL0..degree_Celsius. RELH.LEVEL0.... SLEV.LEVEL0..meter.\n",
       "1 8.53                         75.66           NA                 \n",
       "2 8.80                         75.95           NA                 \n",
       "3 8.81                         77.94           NA                 \n",
       "4 8.75                         79.28           NA                 \n",
       "5 8.85                         82.06           NA                 \n",
       "6   NA                            NA           NA                 \n",
       "  TEMP.LEVEL1..degree_Celsius. PSAL.LEVEL1..psu. DOX1.LEVEL1..ml.l.\n",
       "1 8.2                          33.13             6.63410           \n",
       "2 8.1                          33.22             6.60611           \n",
       "3 8.1                          33.13             6.62011           \n",
       "4 8.1                          33.19             6.43816           \n",
       "5 8.1                          32.96             6.45216           \n",
       "6  NA                             NA                  NA           \n",
       "  FLU3.LEVEL1..FFU. LGH4.LEVEL1..micromole.photon..m2.s..\n",
       "1 0.94               0                                   \n",
       "2 1.33               0                                   \n",
       "3 0.80               0                                   \n",
       "4 1.27               0                                   \n",
       "5 0.68               0                                   \n",
       "6   NA              NA                                   \n",
       "  NTRZ.LEVEL1..millimole.m3. PHOS.LEVEL1..millimole.m3. PHPH.LEVEL1..none.\n",
       "1    NA                      NA                         8.13              \n",
       "2 20.97                      NA                         8.11              \n",
       "3 16.16                      NA                         8.10              \n",
       "4    NA                      NA                         8.12              \n",
       "5    NA                      NA                         8.11              \n",
       "6    NA                      NA                           NA              \n",
       "  SLCA.LEVEL1..millimole.m3. TUR4.LEVEL1..ntu. PLATFORM DEPH.LEVEL0..meter.\n",
       "1 NA                         19.3              62443     0                 \n",
       "2 NA                         19.8              62443     0                 \n",
       "3 NA                         11.9              62443     0                 \n",
       "4 NA                          9.4              62443     0                 \n",
       "5 NA                          7.5              62443     0                 \n",
       "6 NA                           NA                 NA    NA                 \n",
       "  DEPH.LEVEL1..meter. MAREL_DATASTATE_1\n",
       "1 NA                   2               \n",
       "2 NA                   2               \n",
       "3 NA                   2               \n",
       "4 NA                   2               \n",
       "5 NA                   2               \n",
       "6 NA                  NA               "
      ]
     },
     "metadata": {},
     "output_type": "display_data"
    }
   ],
   "source": [
    "head(df)"
   ]
  },
  {
   "cell_type": "code",
   "execution_count": 34,
   "metadata": {},
   "outputs": [
    {
     "name": "stdout",
     "output_type": "stream",
     "text": [
      "[[1]]\n",
      "[1] 2\n",
      "\n",
      "[[2]]\n",
      "[1] 3\n",
      "\n",
      "[[3]]\n",
      "[1] 17\n",
      "\n",
      "[[4]]\n",
      "[1] 18\n",
      "\n",
      "[[5]]\n",
      "[1] 19\n",
      "\n",
      "[[6]]\n",
      "[1] 20\n",
      "\n",
      "[[7]]\n",
      "[1] 1\n",
      "\n",
      "[[8]]\n",
      "integer(0)\n",
      "\n"
     ]
    }
   ],
   "source": [
    "print(ind.metadata)"
   ]
  },
  {
   "cell_type": "code",
   "execution_count": 35,
   "metadata": {},
   "outputs": [
    {
     "name": "stderr",
     "output_type": "stream",
     "text": [
      "Loading required package: lsa\n",
      "Loading required package: SnowballC\n"
     ]
    }
   ],
   "source": [
    "require(\"lsa\")"
   ]
  },
  {
   "cell_type": "code",
   "execution_count": 36,
   "metadata": {},
   "outputs": [
    {
     "name": "stderr",
     "output_type": "stream",
     "text": [
      "Loading required package: e1071\n"
     ]
    }
   ],
   "source": [
    "require(\"e1071\")"
   ]
  },
  {
   "cell_type": "code",
   "execution_count": 37,
   "metadata": {},
   "outputs": [],
   "source": [
    "require(\"SnowballC\")"
   ]
  },
  {
   "cell_type": "code",
   "execution_count": 38,
   "metadata": {},
   "outputs": [
    {
     "name": "stderr",
     "output_type": "stream",
     "text": [
      "Loading required package: dtw\n",
      "Loading required package: proxy\n",
      "\n",
      "Attaching package: ‘proxy’\n",
      "\n",
      "The following objects are masked from ‘package:stats’:\n",
      "\n",
      "    as.dist, dist\n",
      "\n",
      "The following object is masked from ‘package:base’:\n",
      "\n",
      "    as.matrix\n",
      "\n",
      "Loaded dtw v1.20-1. See ?dtw for help, citation(\"dtw\") for use in publication.\n",
      "\n"
     ]
    }
   ],
   "source": [
    "require(\"dtw\")"
   ]
  },
  {
   "cell_type": "code",
   "execution_count": 39,
   "metadata": {},
   "outputs": [
    {
     "name": "stderr",
     "output_type": "stream",
     "text": [
      "Loading required package: entropy\n",
      "\n",
      "Attaching package: ‘entropy’\n",
      "\n",
      "The following object is masked from ‘package:lsa’:\n",
      "\n",
      "    entropy\n",
      "\n"
     ]
    }
   ],
   "source": [
    "source(\"Fonction_Completion.r\")"
   ]
  },
  {
   "cell_type": "markdown",
   "metadata": {},
   "source": [
    "#### 1. Vérification colonne"
   ]
  },
  {
   "cell_type": "code",
   "execution_count": 40,
   "metadata": {},
   "outputs": [],
   "source": [
    "toRemove=which(info.data[,'flag.val.zero']==1)\n",
    "df=df[,-(toRemove+1)];  #+1 colum temps\n",
    "rm(toRemove)"
   ]
  },
  {
   "cell_type": "markdown",
   "metadata": {},
   "source": [
    "#### 2. Complétions"
   ]
  },
  {
   "cell_type": "code",
   "execution_count": 41,
   "metadata": {},
   "outputs": [
    {
     "name": "stdout",
     "output_type": "stream",
     "text": [
      "[1] \"completion : LATITUDE..degree_north.\"\n"
     ]
    },
    {
     "name": "stderr",
     "output_type": "stream",
     "text": [
      "Warning message in id_simwin_begin:id_simwin_end:\n",
      "“numerical expression has 22 elements: only the first used”Warning message in id_simwin_begin:id_simwin_end:\n",
      "“numerical expression has 22 elements: only the first used”Warning message in id_imp_begin:id_imp_end:\n",
      "“numerical expression has 22 elements: only the first used”Warning message in id_imp_begin:id_imp_end:\n",
      "“numerical expression has 22 elements: only the first used”Warning message in id_simwin_begin:id_simwin_end:\n",
      "“numerical expression has 7 elements: only the first used”Warning message in id_simwin_begin:id_simwin_end:\n",
      "“numerical expression has 7 elements: only the first used”Warning message in id_imp_begin:id_imp_end:\n",
      "“numerical expression has 7 elements: only the first used”Warning message in id_imp_begin:id_imp_end:\n",
      "“numerical expression has 7 elements: only the first used”Warning message in id_simwin_begin:id_simwin_end:\n",
      "“numerical expression has 2 elements: only the first used”Warning message in id_simwin_begin:id_simwin_end:\n",
      "“numerical expression has 2 elements: only the first used”Warning message in id_imp_begin:id_imp_end:\n",
      "“numerical expression has 2 elements: only the first used”Warning message in id_imp_begin:id_imp_end:\n",
      "“numerical expression has 2 elements: only the first used”Warning message in id_simwin_begin:id_simwin_end:\n",
      "“numerical expression has 33 elements: only the first used”Warning message in id_simwin_begin:id_simwin_end:\n",
      "“numerical expression has 33 elements: only the first used”Warning message in id_imp_begin:id_imp_end:\n",
      "“numerical expression has 33 elements: only the first used”Warning message in id_imp_begin:id_imp_end:\n",
      "“numerical expression has 33 elements: only the first used”Warning message in id_simwin_begin:id_simwin_end:\n",
      "“numerical expression has 41 elements: only the first used”Warning message in id_simwin_begin:id_simwin_end:\n",
      "“numerical expression has 41 elements: only the first used”Warning message in id_imp_begin:id_imp_end:\n",
      "“numerical expression has 41 elements: only the first used”Warning message in id_imp_begin:id_imp_end:\n",
      "“numerical expression has 41 elements: only the first used”Warning message in id_simwin_begin:id_simwin_end:\n",
      "“numerical expression has 9 elements: only the first used”Warning message in id_simwin_begin:id_simwin_end:\n",
      "“numerical expression has 9 elements: only the first used”Warning message in id_imp_begin:id_imp_end:\n",
      "“numerical expression has 9 elements: only the first used”Warning message in id_imp_begin:id_imp_end:\n",
      "“numerical expression has 9 elements: only the first used”Warning message in id_simwin_begin:id_simwin_end:\n",
      "“numerical expression has 9 elements: only the first used”Warning message in id_simwin_begin:id_simwin_end:\n",
      "“numerical expression has 9 elements: only the first used”Warning message in id_imp_begin:id_imp_end:\n",
      "“numerical expression has 9 elements: only the first used”Warning message in id_imp_begin:id_imp_end:\n",
      "“numerical expression has 9 elements: only the first used”"
     ]
    },
    {
     "name": "stdout",
     "output_type": "stream",
     "text": [
      "[1] \"completion : LONGITUDE..degree_east.\"\n"
     ]
    },
    {
     "name": "stderr",
     "output_type": "stream",
     "text": [
      "Warning message in id_simwin_begin:id_simwin_end:\n",
      "“numerical expression has 23 elements: only the first used”Warning message in id_simwin_begin:id_simwin_end:\n",
      "“numerical expression has 23 elements: only the first used”Warning message in id_imp_begin:id_imp_end:\n",
      "“numerical expression has 23 elements: only the first used”Warning message in id_imp_begin:id_imp_end:\n",
      "“numerical expression has 23 elements: only the first used”Warning message in id_simwin_begin:id_simwin_end:\n",
      "“numerical expression has 16 elements: only the first used”Warning message in id_simwin_begin:id_simwin_end:\n",
      "“numerical expression has 16 elements: only the first used”Warning message in id_imp_begin:id_imp_end:\n",
      "“numerical expression has 16 elements: only the first used”Warning message in id_imp_begin:id_imp_end:\n",
      "“numerical expression has 16 elements: only the first used”Warning message in id_simwin_begin:id_simwin_end:\n",
      "“numerical expression has 38 elements: only the first used”Warning message in id_simwin_begin:id_simwin_end:\n",
      "“numerical expression has 38 elements: only the first used”Warning message in id_imp_begin:id_imp_end:\n",
      "“numerical expression has 38 elements: only the first used”Warning message in id_imp_begin:id_imp_end:\n",
      "“numerical expression has 38 elements: only the first used”Warning message in id_simwin_begin:id_simwin_end:\n",
      "“numerical expression has 41 elements: only the first used”Warning message in id_simwin_begin:id_simwin_end:\n",
      "“numerical expression has 41 elements: only the first used”Warning message in id_imp_begin:id_imp_end:\n",
      "“numerical expression has 41 elements: only the first used”Warning message in id_imp_begin:id_imp_end:\n",
      "“numerical expression has 41 elements: only the first used”Warning message in id_simwin_begin:id_simwin_end:\n",
      "“numerical expression has 7 elements: only the first used”Warning message in id_simwin_begin:id_simwin_end:\n",
      "“numerical expression has 7 elements: only the first used”Warning message in id_imp_begin:id_imp_end:\n",
      "“numerical expression has 7 elements: only the first used”Warning message in id_imp_begin:id_imp_end:\n",
      "“numerical expression has 7 elements: only the first used”Warning message in id_simwin_begin:id_simwin_end:\n",
      "“numerical expression has 3 elements: only the first used”Warning message in id_simwin_begin:id_simwin_end:\n",
      "“numerical expression has 3 elements: only the first used”Warning message in id_imp_begin:id_imp_end:\n",
      "“numerical expression has 3 elements: only the first used”Warning message in id_imp_begin:id_imp_end:\n",
      "“numerical expression has 3 elements: only the first used”"
     ]
    },
    {
     "name": "stdout",
     "output_type": "stream",
     "text": [
      "[1] \"completion : DRYT.LEVEL0..degree_Celsius.\"\n",
      "[1] \"completion : RELH.LEVEL0....\"\n",
      "[1] \"completion : SLEV.LEVEL0..meter.\"\n",
      "[1] \"completion : TEMP.LEVEL1..degree_Celsius.\"\n",
      "[1] \"completion : PSAL.LEVEL1..psu.\"\n",
      "[1] \"completion : DOX1.LEVEL1..ml.l.\"\n",
      "[1] \"completion : FLU3.LEVEL1..FFU.\"\n",
      "[1] \"completion : LGH4.LEVEL1..micromole.photon..m2.s..\"\n",
      "[1] \"completion : NTRZ.LEVEL1..millimole.m3.\"\n",
      "[1] \"completion : PHOS.LEVEL1..millimole.m3.\"\n",
      "[1] \"completion : PHPH.LEVEL1..none.\"\n",
      "[1] \"completion : SLCA.LEVEL1..millimole.m3.\"\n",
      "[1] \"completion : TUR4.LEVEL1..ntu.\"\n",
      "[1] \"completion : PLATFORM\"\n"
     ]
    },
    {
     "name": "stderr",
     "output_type": "stream",
     "text": [
      "Warning message in id_simwin_begin:id_simwin_end:\n",
      "“numerical expression has 377 elements: only the first used”Warning message in id_simwin_begin:id_simwin_end:\n",
      "“numerical expression has 377 elements: only the first used”Warning message in id_imp_begin:id_imp_end:\n",
      "“numerical expression has 377 elements: only the first used”Warning message in id_imp_begin:id_imp_end:\n",
      "“numerical expression has 377 elements: only the first used”Warning message in id_simwin_begin:id_simwin_end:\n",
      "“numerical expression has 222 elements: only the first used”Warning message in id_simwin_begin:id_simwin_end:\n",
      "“numerical expression has 222 elements: only the first used”Warning message in id_imp_begin:id_imp_end:\n",
      "“numerical expression has 222 elements: only the first used”Warning message in id_imp_begin:id_imp_end:\n",
      "“numerical expression has 222 elements: only the first used”Warning message in id_simwin_begin:id_simwin_end:\n",
      "“numerical expression has 3 elements: only the first used”Warning message in id_simwin_begin:id_simwin_end:\n",
      "“numerical expression has 3 elements: only the first used”Warning message in id_imp_begin:id_imp_end:\n",
      "“numerical expression has 3 elements: only the first used”Warning message in id_imp_begin:id_imp_end:\n",
      "“numerical expression has 3 elements: only the first used”Warning message in id_simwin_begin:id_simwin_end:\n",
      "“numerical expression has 44 elements: only the first used”Warning message in id_simwin_begin:id_simwin_end:\n",
      "“numerical expression has 44 elements: only the first used”Warning message in id_imp_begin:id_imp_end:\n",
      "“numerical expression has 44 elements: only the first used”Warning message in id_imp_begin:id_imp_end:\n",
      "“numerical expression has 44 elements: only the first used”Warning message in id_simwin_begin:id_simwin_end:\n",
      "“numerical expression has 293 elements: only the first used”Warning message in id_simwin_begin:id_simwin_end:\n",
      "“numerical expression has 293 elements: only the first used”Warning message in id_imp_begin:id_imp_end:\n",
      "“numerical expression has 293 elements: only the first used”Warning message in id_imp_begin:id_imp_end:\n",
      "“numerical expression has 293 elements: only the first used”Warning message in id_simwin_begin:id_simwin_end:\n",
      "“numerical expression has 72 elements: only the first used”Warning message in id_simwin_begin:id_simwin_end:\n",
      "“numerical expression has 72 elements: only the first used”Warning message in id_imp_begin:id_imp_end:\n",
      "“numerical expression has 72 elements: only the first used”Warning message in id_imp_begin:id_imp_end:\n",
      "“numerical expression has 72 elements: only the first used”Warning message in id_simwin_begin:id_simwin_end:\n",
      "“numerical expression has 187 elements: only the first used”Warning message in id_simwin_begin:id_simwin_end:\n",
      "“numerical expression has 187 elements: only the first used”Warning message in id_imp_begin:id_imp_end:\n",
      "“numerical expression has 187 elements: only the first used”Warning message in id_imp_begin:id_imp_end:\n",
      "“numerical expression has 187 elements: only the first used”"
     ]
    },
    {
     "name": "stdout",
     "output_type": "stream",
     "text": [
      "[1] \"completion : DEPH.LEVEL1..meter.\"\n"
     ]
    },
    {
     "name": "stderr",
     "output_type": "stream",
     "text": [
      "Warning message in id_simwin_begin:id_simwin_end:\n",
      "“numerical expression has 3 elements: only the first used”Warning message in id_simwin_begin:id_simwin_end:\n",
      "“numerical expression has 3 elements: only the first used”Warning message in id_imp_begin:id_imp_end:\n",
      "“numerical expression has 3 elements: only the first used”Warning message in id_imp_begin:id_imp_end:\n",
      "“numerical expression has 3 elements: only the first used”"
     ]
    },
    {
     "name": "stdout",
     "output_type": "stream",
     "text": [
      "[1] \"completion : MAREL_DATASTATE_1\"\n"
     ]
    },
    {
     "name": "stderr",
     "output_type": "stream",
     "text": [
      "Warning message in id_simwin_begin:id_simwin_end:\n",
      "“numerical expression has 456 elements: only the first used”Warning message in id_simwin_begin:id_simwin_end:\n",
      "“numerical expression has 456 elements: only the first used”Warning message in id_imp_begin:id_imp_end:\n",
      "“numerical expression has 456 elements: only the first used”Warning message in id_imp_begin:id_imp_end:\n",
      "“numerical expression has 456 elements: only the first used”Warning message in id_simwin_begin:id_simwin_end:\n",
      "“numerical expression has 265 elements: only the first used”Warning message in id_simwin_begin:id_simwin_end:\n",
      "“numerical expression has 265 elements: only the first used”Warning message in id_imp_begin:id_imp_end:\n",
      "“numerical expression has 265 elements: only the first used”Warning message in id_imp_begin:id_imp_end:\n",
      "“numerical expression has 265 elements: only the first used”Warning message in id_simwin_begin:id_simwin_end:\n",
      "“numerical expression has 302 elements: only the first used”Warning message in id_simwin_begin:id_simwin_end:\n",
      "“numerical expression has 302 elements: only the first used”Warning message in id_imp_begin:id_imp_end:\n",
      "“numerical expression has 302 elements: only the first used”Warning message in id_imp_begin:id_imp_end:\n",
      "“numerical expression has 302 elements: only the first used”Warning message in id_simwin_begin:id_simwin_end:\n",
      "“numerical expression has 411 elements: only the first used”Warning message in id_simwin_begin:id_simwin_end:\n",
      "“numerical expression has 411 elements: only the first used”Warning message in id_imp_begin:id_imp_end:\n",
      "“numerical expression has 411 elements: only the first used”Warning message in id_imp_begin:id_imp_end:\n",
      "“numerical expression has 411 elements: only the first used”Warning message in id_simwin_begin:id_simwin_end:\n",
      "“numerical expression has 445 elements: only the first used”Warning message in id_simwin_begin:id_simwin_end:\n",
      "“numerical expression has 445 elements: only the first used”Warning message in id_imp_begin:id_imp_end:\n",
      "“numerical expression has 445 elements: only the first used”Warning message in id_imp_begin:id_imp_end:\n",
      "“numerical expression has 445 elements: only the first used”Warning message in id_simwin_begin:id_simwin_end:\n",
      "“numerical expression has 459 elements: only the first used”Warning message in id_simwin_begin:id_simwin_end:\n",
      "“numerical expression has 459 elements: only the first used”Warning message in id_imp_begin:id_imp_end:\n",
      "“numerical expression has 459 elements: only the first used”Warning message in id_imp_begin:id_imp_end:\n",
      "“numerical expression has 459 elements: only the first used”Warning message in id_simwin_begin:id_simwin_end:\n",
      "“numerical expression has 322 elements: only the first used”Warning message in id_simwin_begin:id_simwin_end:\n",
      "“numerical expression has 322 elements: only the first used”Warning message in id_imp_begin:id_imp_end:\n",
      "“numerical expression has 322 elements: only the first used”Warning message in id_imp_begin:id_imp_end:\n",
      "“numerical expression has 322 elements: only the first used”"
     ]
    }
   ],
   "source": [
    "# number of data that you consider as small hole, ie than can be filled by moving average\n",
    "smallHole=3*24\n",
    "# number of data that you consider that it is insane with regard to process dynamics change\n",
    "acceptedHole=3*24*15\n",
    "\n",
    "df.complete=df\n",
    "for(para in 2:ncol(df)){\n",
    "  print(paste(\"completion :\", colnames(df.complete)[para]))\n",
    "  df.complete[,para]=compute.DTWBI(df[,para],acceptedHole=acceptedHole, smallHole =smallHole, v=F, fig=F);\n",
    "\n",
    "  indNA=which(is.na(df[,para]))\n",
    "  color.NA=rep(\"black\",nrow(df))\n",
    "  color.NA[indNA]=\"green\"\n",
    "  minPara=min(df[,para],na.rm=T)\n",
    "  maxPara=max(df[,para],na.rm=T)\n",
    "  jpeg(width = 2000,height = 600,filename = paste(colnames(df.complete[para]),\".jpg\",sep=\"\"))\n",
    "  plot(df.complete[,para],pch='+',ylim=c(minPara,maxPara+5),col=color.NA,main=colnames(df.complete)[para])\n",
    "  points(indNA,rep(maxPara+3,length(indNA)),col=\"grey\")\n",
    "  dev.off();\n",
    "}"
   ]
  },
  {
   "cell_type": "markdown",
   "metadata": {},
   "source": [
    "## 7. Sélection variables contributives"
   ]
  },
  {
   "cell_type": "code",
   "execution_count": 42,
   "metadata": {},
   "outputs": [],
   "source": [
    "df = df.complete"
   ]
  },
  {
   "cell_type": "code",
   "execution_count": 43,
   "metadata": {},
   "outputs": [
    {
     "data": {
      "text/html": [
       "1"
      ],
      "text/latex": [
       "1"
      ],
      "text/markdown": [
       "1"
      ],
      "text/plain": [
       "[1] 1"
      ]
     },
     "metadata": {},
     "output_type": "display_data"
    }
   ],
   "source": [
    "debut=strptime(\"2005-01-01 00:10:00\",format=\"%Y-%m-%d %H:%M:%S\",tz=\"GMT\")\n",
    "fin=strptime(\"2005-12-30 23:50:00\",format=\"%Y-%m-%d %H:%M:%S\",tz=\"GMT\")\n",
    "indDateStart=which(df$temps==debut);\n",
    "indDateStart"
   ]
  },
  {
   "cell_type": "code",
   "execution_count": 44,
   "metadata": {},
   "outputs": [
    {
     "data": {
      "text/html": [
       "26208"
      ],
      "text/latex": [
       "26208"
      ],
      "text/markdown": [
       "26208"
      ],
      "text/plain": [
       "[1] 26208"
      ]
     },
     "metadata": {},
     "output_type": "display_data"
    }
   ],
   "source": [
    "indDateStop=which(df$temps==fin);\n",
    "indDateStop"
   ]
  },
  {
   "cell_type": "code",
   "execution_count": 45,
   "metadata": {},
   "outputs": [],
   "source": [
    "df=df[indDateStart:indDateStop,]"
   ]
  },
  {
   "cell_type": "markdown",
   "metadata": {},
   "source": [
    "### Sélection des variables"
   ]
  },
  {
   "cell_type": "code",
   "execution_count": 46,
   "metadata": {},
   "outputs": [],
   "source": [
    "ind.metadata=c(2, 3, 17, 19, 20, 22,1, 21)\n",
    "df.classif= df[, -ind.metadata]"
   ]
  },
  {
   "cell_type": "code",
   "execution_count": 47,
   "metadata": {},
   "outputs": [
    {
     "data": {
      "text/html": [
       "<ol class=list-inline>\n",
       "\t<li>5</li>\n",
       "\t<li>13</li>\n",
       "\t<li>4</li>\n",
       "\t<li>6</li>\n",
       "\t<li>8</li>\n",
       "\t<li>3</li>\n",
       "</ol>\n"
      ],
      "text/latex": [
       "\\begin{enumerate*}\n",
       "\\item 5\n",
       "\\item 13\n",
       "\\item 4\n",
       "\\item 6\n",
       "\\item 8\n",
       "\\item 3\n",
       "\\end{enumerate*}\n"
      ],
      "text/markdown": [
       "1. 5\n",
       "2. 13\n",
       "3. 4\n",
       "4. 6\n",
       "5. 8\n",
       "6. 3\n",
       "\n",
       "\n"
      ],
      "text/plain": [
       "[1]  5 13  4  6  8  3"
      ]
     },
     "metadata": {},
     "output_type": "display_data"
    }
   ],
   "source": [
    "sal=grep(pattern=\"PSAL.LEVEL1..psu.\",colnames(df.classif),ignore.case=T)\n",
    "turb=grep(pattern=\"TUR4.LEVEL1..ntu.\",colnames(df.classif),ignore.case=T)\n",
    "wa_temp=grep(pattern=\"TEMP.LEVEL1..degree_Celsius.\",colnames(df.classif),ignore.case=T)\n",
    "oxy_corrige=grep(pattern=\"DOX1.LEVEL1..ml.l.\",colnames(df.classif),ignore.case=T)\n",
    "PAR=grep(pattern=\"LGH4.LEVEL1..micromole.photon..m2.s..\",colnames(df.classif),ignore.case=T)\n",
    "Sea.level=grep(pattern=\"SLEV.LEVEL0..meter.\",colnames(df.classif),ignore.case=T)\n",
    "\n",
    "\n",
    "indParameters=c(sal,turb,wa_temp,oxy_corrige,PAR,Sea.level); indParameters\n",
    "\n",
    "\n",
    "df.classif=df.classif[,indParameters]"
   ]
  },
  {
   "cell_type": "markdown",
   "metadata": {},
   "source": [
    "## 8. Classification"
   ]
  },
  {
   "cell_type": "code",
   "execution_count": 48,
   "metadata": {},
   "outputs": [
    {
     "name": "stderr",
     "output_type": "stream",
     "text": [
      "Loading required package: cluster\n"
     ]
    }
   ],
   "source": [
    "source(\"computeHspectral.R\")"
   ]
  },
  {
   "cell_type": "code",
   "execution_count": 50,
   "metadata": {},
   "outputs": [
    {
     "name": "stderr",
     "output_type": "stream",
     "text": [
      "Warning message in HSpectral(df.classif, niveau, sil.min = 0.7, crit = \"GAP\"):\n",
      "“Na in dataset - a row with at least one NA are not considered for classification”"
     ]
    },
    {
     "name": "stdout",
     "output_type": "stream",
     "text": [
      "[1] 0\n",
      "[1] \"----------------\"\n",
      "[1] \"label repartition in niv= 1\"\n",
      "label.prec\n",
      "    0     1 \n",
      " 3403 22805 \n",
      "[1] \"----------------\"\n",
      "[1] \"niv= 2  - c= 1 nbData= 22805 sil= 0\"\n",
      "[1] \"vector quantization by kmeans, initial nb points= 22805\"\n",
      "[1] 2 1\n",
      "[1] \"silhouette\"\n",
      "        1         2 \n",
      "0.4402744 0.1045183 \n",
      "        1         2 \n",
      "0.4402744 0.1045183 \n",
      "[1] \"----------------\"\n",
      "[1] \"label repartition in niv= 2\"\n",
      "label.prec\n",
      "    0     1     2 \n",
      " 3403 12033 10772 \n",
      "[1] \"----------------\"\n",
      "[1] \"niv= 3  - c= 1 nbData= 12033 sil= 0.440274377361394\"\n",
      "[1] \"vector quantization by kmeans, initial nb points= 12033\"\n",
      "[1] 1 2\n",
      "[1] \"silhouette\"\n",
      "        1         2 \n",
      "0.1535157 0.2963680 \n",
      "[1] \"niv= 3  - c= 2 nbData= 10772 sil= 0.104518267132\"\n",
      "[1] \"vector quantization by kmeans, initial nb points= 10772\"\n",
      "[1] 1 2 3\n",
      "[1] \"silhouette\"\n",
      "         1          2          1          2          3 \n",
      " 0.1535157  0.2963680  0.2436363 -0.1719531  0.4038920 \n",
      "         1          2          1          2          3 \n",
      " 0.1535157  0.2963680  0.2436363 -0.1719531  0.4038920 \n",
      "[1] \"----------------\"\n",
      "[1] \"label repartition in niv= 3\"\n",
      "label.prec\n",
      "   0    1    2    3    4    5 \n",
      "3403 6026 6007 5900 1088 3784 \n",
      "[1] \"----------------\"\n",
      "[1] \"niv= 4  - c= 1 nbData= 6026 sil= 0.153515714812384\"\n",
      "[1] \"vector quantization by kmeans, initial nb points= 6026\"\n",
      "[1] 2 1\n",
      "[1] \"silhouette\"\n",
      "        1         2 \n",
      "0.3436611 0.1617528 \n",
      "[1] \"niv= 4  - c= 2 nbData= 6007 sil= 0.296368026346609\"\n",
      "[1] \"vector quantization by kmeans, initial nb points= 6007\"\n",
      "[1] 1 4 3 2\n",
      "[1] \"silhouette\"\n",
      "         1          2          1          2          3          4 \n",
      " 0.3436611  0.1617528 -0.3518011  0.9985048  0.9923295  0.9985056 \n",
      "[1] \"niv= 4  - c= 3 nbData= 5900 sil= 0.243636340882249\"\n",
      "[1] \"vector quantization by kmeans, initial nb points= 5900\"\n",
      "[1] 4 3 2 1\n",
      "[1] \"silhouette\"\n",
      "           1            2            1            2            3            4 \n",
      " 0.343661122  0.161752776 -0.351801081  0.998504819  0.992329477  0.998505579 \n",
      "           1            2            3            4 \n",
      " 0.316343050 -0.099037279  0.002609377  0.092029565 \n",
      "[1] \"niv= 4  - c= 4 nbData= 1088 sil= -0.171953085086995\"\n",
      " [1]  1  2  3  4  5  6  7  8  9 10 11 12 13 14 15 16 17 18\n",
      "[1] \"silhouette\"\n",
      "           1            2            1            2            3            4 \n",
      " 0.343661122  0.161752776 -0.351801081  0.998504819  0.992329477  0.998505579 \n",
      "           1            2            3            4            1            2 \n",
      " 0.316343050 -0.099037279  0.002609377  0.092029565  0.069651481 -0.121590769 \n",
      "           3            4            5            6            7            8 \n",
      "-0.164008277  0.719243372  0.469599445  0.451697282  0.130308614  0.165020217 \n",
      "           9           10           11           12           13           14 \n",
      " 0.167390127 -0.239102048 -0.249653564 -0.323369775  0.106029150  0.998857252 \n",
      "          15           16           17           18 \n",
      " 0.989027127  0.492488288  0.540489192  0.705076757 \n",
      "[1] \"niv= 4  - c= 5 nbData= 3784 sil= 0.403891978261785\"\n",
      "[1] \"vector quantization by kmeans, initial nb points= 3784\"\n",
      "[1] 1 3 2\n",
      "[1] \"silhouette\"\n",
      "           1            2            1            2            3            4 \n",
      " 0.343661122  0.161752776 -0.351801081  0.998504819  0.992329477  0.998505579 \n",
      "           1            2            3            4            1            2 \n",
      " 0.316343050 -0.099037279  0.002609377  0.092029565  0.069651481 -0.121590769 \n",
      "           3            4            5            6            7            8 \n",
      "-0.164008277  0.719243372  0.469599445  0.451697282  0.130308614  0.165020217 \n",
      "           9           10           11           12           13           14 \n",
      " 0.167390127 -0.239102048 -0.249653564 -0.323369775  0.106029150  0.998857252 \n",
      "          15           16           17           18            1            2 \n",
      " 0.989027127  0.492488288  0.540489192  0.705076757  0.384455576  0.993829768 \n",
      "           3 \n",
      "-0.692407424 \n"
     ]
    }
   ],
   "source": [
    "niveau=3\n",
    "\n",
    "res=HSpectral(df.classif,niveau,sil.min = 0.7,crit=\"GAP\")"
   ]
  }
 ],
 "metadata": {
  "kernelspec": {
   "display_name": "R",
   "language": "R",
   "name": "ir"
  },
  "language_info": {
   "codemirror_mode": "r",
   "file_extension": ".r",
   "mimetype": "text/x-r-source",
   "name": "R",
   "pygments_lexer": "r",
   "version": "3.5.1"
  }
 },
 "nbformat": 4,
 "nbformat_minor": 2
}
